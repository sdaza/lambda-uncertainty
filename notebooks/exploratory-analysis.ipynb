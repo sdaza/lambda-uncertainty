{
 "cells": [
  {
   "cell_type": "markdown",
   "metadata": {},
   "source": [
    "# Exploring datasets"
   ]
  },
  {
   "cell_type": "code",
   "execution_count": 1,
   "metadata": {},
   "outputs": [],
   "source": [
    "# libraries\n",
    "library(haven)\n",
    "library(data.table)\n"
   ]
  },
  {
   "cell_type": "code",
   "execution_count": 2,
   "metadata": {},
   "outputs": [
    {
     "output_type": "error",
     "ename": "ERROR",
     "evalue": "Error: '/data/Ex_LA1850-2020_SES_FULL_Jan25-2021.dta' does not exist.\n",
     "traceback": [
      "Error: '/data/Ex_LA1850-2020_SES_FULL_Jan25-2021.dta' does not exist.\nTraceback:\n",
      "1. data.table(read_stata(\"/data/Ex_LA1850-2020_SES_FULL_Jan25-2021.dta\"))",
      "2. read_stata(\"/data/Ex_LA1850-2020_SES_FULL_Jan25-2021.dta\")",
      "3. readr::datasource(file)",
      "4. standardise_path(file)",
      "5. check_path(path)",
      "6. stop(\"'\", path, \"' does not exist\", if (!is_absolute_path(path)) paste0(\" in current working directory ('\", \n .     getwd(), \"')\"), \".\", call. = FALSE)"
     ]
    }
   ],
   "source": [
    "# read data\n",
    "dat = data.table(read_stata(\"\"))"
   ]
  },
  {
   "cell_type": "code",
   "execution_count": 3,
   "metadata": {},
   "outputs": [],
   "source": [
    "# selecting Ex0 and sex == 1\n",
    "dat = dat[age == 0 & sex == 1]"
   ]
  },
  {
   "cell_type": "code",
   "execution_count": 5,
   "metadata": {},
   "outputs": [],
   "source": [
    "adat = dat[, .N, .(ctry, year)]"
   ]
  },
  {
   "cell_type": "code",
   "execution_count": 6,
   "metadata": {},
   "outputs": [
    {
     "output_type": "display_data",
     "data": {
      "text/plain": "\n  1   2   3   4   5   6   7   8   9  10  11  12  13  14  15  16  17  18  19  20 \n801 561 245 246 161  89  32  21   5   5   4  30   9  15   5   7   8   2   2   2 \n 21  22  23  24  25 \n  9   3   5   4   1 "
     },
     "metadata": {}
    }
   ],
   "source": [
    "# number of estimates by year and country\n",
    "table(adat$N)"
   ]
  },
  {
   "cell_type": "code",
   "execution_count": 10,
   "metadata": {},
   "outputs": [
    {
     "output_type": "display_data",
     "data": {
      "text/html": "<table>\n<caption>A data.table: 100 × 3</caption>\n<thead>\n\t<tr><th scope=col>ctry</th><th scope=col>year</th><th scope=col>N</th></tr>\n\t<tr><th scope=col>&lt;dbl+lbl&gt;</th><th scope=col>&lt;dbl&gt;</th><th scope=col>&lt;int&gt;</th></tr>\n</thead>\n<tbody>\n\t<tr><td>2020</td><td>1870</td><td>1</td></tr>\n\t<tr><td>2020</td><td>1871</td><td>1</td></tr>\n\t<tr><td>2020</td><td>1872</td><td>1</td></tr>\n\t<tr><td>2020</td><td>1873</td><td>1</td></tr>\n\t<tr><td>2020</td><td>1874</td><td>1</td></tr>\n\t<tr><td>2020</td><td>1875</td><td>1</td></tr>\n\t<tr><td>2020</td><td>1876</td><td>1</td></tr>\n\t<tr><td>2020</td><td>1877</td><td>1</td></tr>\n\t<tr><td>2020</td><td>1878</td><td>1</td></tr>\n\t<tr><td>2020</td><td>1879</td><td>1</td></tr>\n\t<tr><td>2020</td><td>1880</td><td>1</td></tr>\n\t<tr><td>2020</td><td>1881</td><td>1</td></tr>\n\t<tr><td>2020</td><td>1883</td><td>1</td></tr>\n\t<tr><td>2020</td><td>1884</td><td>1</td></tr>\n\t<tr><td>2020</td><td>1885</td><td>1</td></tr>\n\t<tr><td>2020</td><td>1886</td><td>1</td></tr>\n\t<tr><td>2020</td><td>1887</td><td>1</td></tr>\n\t<tr><td>2020</td><td>1888</td><td>1</td></tr>\n\t<tr><td>2020</td><td>1889</td><td>1</td></tr>\n\t<tr><td>2020</td><td>1890</td><td>1</td></tr>\n\t<tr><td>2020</td><td>1891</td><td>1</td></tr>\n\t<tr><td>2020</td><td>1892</td><td>1</td></tr>\n\t<tr><td>2020</td><td>1893</td><td>1</td></tr>\n\t<tr><td>2020</td><td>1894</td><td>1</td></tr>\n\t<tr><td>2020</td><td>1896</td><td>1</td></tr>\n\t<tr><td>2020</td><td>1897</td><td>1</td></tr>\n\t<tr><td>2020</td><td>1898</td><td>1</td></tr>\n\t<tr><td>2020</td><td>1899</td><td>1</td></tr>\n\t<tr><td>2020</td><td>1900</td><td>1</td></tr>\n\t<tr><td>2020</td><td>1901</td><td>1</td></tr>\n\t<tr><td>⋮</td><td>⋮</td><td>⋮</td></tr>\n\t<tr><td>2020</td><td>1949</td><td>1</td></tr>\n\t<tr><td>2020</td><td>1950</td><td>1</td></tr>\n\t<tr><td>2020</td><td>1951</td><td>1</td></tr>\n\t<tr><td>2020</td><td>1954</td><td>1</td></tr>\n\t<tr><td>2020</td><td>1956</td><td>1</td></tr>\n\t<tr><td>2020</td><td>1958</td><td>1</td></tr>\n\t<tr><td>2020</td><td>1959</td><td>1</td></tr>\n\t<tr><td>2020</td><td>2018</td><td>1</td></tr>\n\t<tr><td>2020</td><td>2020</td><td>1</td></tr>\n\t<tr><td>2060</td><td>1901</td><td>1</td></tr>\n\t<tr><td>2060</td><td>1902</td><td>1</td></tr>\n\t<tr><td>2060</td><td>1903</td><td>1</td></tr>\n\t<tr><td>2060</td><td>1904</td><td>1</td></tr>\n\t<tr><td>2060</td><td>1905</td><td>1</td></tr>\n\t<tr><td>2060</td><td>1906</td><td>1</td></tr>\n\t<tr><td>2060</td><td>1907</td><td>1</td></tr>\n\t<tr><td>2060</td><td>1908</td><td>1</td></tr>\n\t<tr><td>2060</td><td>1909</td><td>1</td></tr>\n\t<tr><td>2060</td><td>1910</td><td>1</td></tr>\n\t<tr><td>2060</td><td>1911</td><td>1</td></tr>\n\t<tr><td>2060</td><td>1912</td><td>1</td></tr>\n\t<tr><td>2060</td><td>1913</td><td>1</td></tr>\n\t<tr><td>2060</td><td>1914</td><td>1</td></tr>\n\t<tr><td>2060</td><td>1915</td><td>1</td></tr>\n\t<tr><td>2060</td><td>1916</td><td>1</td></tr>\n\t<tr><td>2060</td><td>1917</td><td>1</td></tr>\n\t<tr><td>2060</td><td>1918</td><td>1</td></tr>\n\t<tr><td>2060</td><td>1919</td><td>1</td></tr>\n\t<tr><td>2060</td><td>1920</td><td>1</td></tr>\n\t<tr><td>2060</td><td>1921</td><td>1</td></tr>\n</tbody>\n</table>\n",
      "text/markdown": "\nA data.table: 100 × 3\n\n| ctry &lt;dbl+lbl&gt; | year &lt;dbl&gt; | N &lt;int&gt; |\n|---|---|---|\n| 2020 | 1870 | 1 |\n| 2020 | 1871 | 1 |\n| 2020 | 1872 | 1 |\n| 2020 | 1873 | 1 |\n| 2020 | 1874 | 1 |\n| 2020 | 1875 | 1 |\n| 2020 | 1876 | 1 |\n| 2020 | 1877 | 1 |\n| 2020 | 1878 | 1 |\n| 2020 | 1879 | 1 |\n| 2020 | 1880 | 1 |\n| 2020 | 1881 | 1 |\n| 2020 | 1883 | 1 |\n| 2020 | 1884 | 1 |\n| 2020 | 1885 | 1 |\n| 2020 | 1886 | 1 |\n| 2020 | 1887 | 1 |\n| 2020 | 1888 | 1 |\n| 2020 | 1889 | 1 |\n| 2020 | 1890 | 1 |\n| 2020 | 1891 | 1 |\n| 2020 | 1892 | 1 |\n| 2020 | 1893 | 1 |\n| 2020 | 1894 | 1 |\n| 2020 | 1896 | 1 |\n| 2020 | 1897 | 1 |\n| 2020 | 1898 | 1 |\n| 2020 | 1899 | 1 |\n| 2020 | 1900 | 1 |\n| 2020 | 1901 | 1 |\n| ⋮ | ⋮ | ⋮ |\n| 2020 | 1949 | 1 |\n| 2020 | 1950 | 1 |\n| 2020 | 1951 | 1 |\n| 2020 | 1954 | 1 |\n| 2020 | 1956 | 1 |\n| 2020 | 1958 | 1 |\n| 2020 | 1959 | 1 |\n| 2020 | 2018 | 1 |\n| 2020 | 2020 | 1 |\n| 2060 | 1901 | 1 |\n| 2060 | 1902 | 1 |\n| 2060 | 1903 | 1 |\n| 2060 | 1904 | 1 |\n| 2060 | 1905 | 1 |\n| 2060 | 1906 | 1 |\n| 2060 | 1907 | 1 |\n| 2060 | 1908 | 1 |\n| 2060 | 1909 | 1 |\n| 2060 | 1910 | 1 |\n| 2060 | 1911 | 1 |\n| 2060 | 1912 | 1 |\n| 2060 | 1913 | 1 |\n| 2060 | 1914 | 1 |\n| 2060 | 1915 | 1 |\n| 2060 | 1916 | 1 |\n| 2060 | 1917 | 1 |\n| 2060 | 1918 | 1 |\n| 2060 | 1919 | 1 |\n| 2060 | 1920 | 1 |\n| 2060 | 1921 | 1 |\n\n",
      "text/latex": "A data.table: 100 × 3\n\\begin{tabular}{lll}\n ctry & year & N\\\\\n <dbl+lbl> & <dbl> & <int>\\\\\n\\hline\n\t 2020 & 1870 & 1\\\\\n\t 2020 & 1871 & 1\\\\\n\t 2020 & 1872 & 1\\\\\n\t 2020 & 1873 & 1\\\\\n\t 2020 & 1874 & 1\\\\\n\t 2020 & 1875 & 1\\\\\n\t 2020 & 1876 & 1\\\\\n\t 2020 & 1877 & 1\\\\\n\t 2020 & 1878 & 1\\\\\n\t 2020 & 1879 & 1\\\\\n\t 2020 & 1880 & 1\\\\\n\t 2020 & 1881 & 1\\\\\n\t 2020 & 1883 & 1\\\\\n\t 2020 & 1884 & 1\\\\\n\t 2020 & 1885 & 1\\\\\n\t 2020 & 1886 & 1\\\\\n\t 2020 & 1887 & 1\\\\\n\t 2020 & 1888 & 1\\\\\n\t 2020 & 1889 & 1\\\\\n\t 2020 & 1890 & 1\\\\\n\t 2020 & 1891 & 1\\\\\n\t 2020 & 1892 & 1\\\\\n\t 2020 & 1893 & 1\\\\\n\t 2020 & 1894 & 1\\\\\n\t 2020 & 1896 & 1\\\\\n\t 2020 & 1897 & 1\\\\\n\t 2020 & 1898 & 1\\\\\n\t 2020 & 1899 & 1\\\\\n\t 2020 & 1900 & 1\\\\\n\t 2020 & 1901 & 1\\\\\n\t ⋮ & ⋮ & ⋮\\\\\n\t 2020 & 1949 & 1\\\\\n\t 2020 & 1950 & 1\\\\\n\t 2020 & 1951 & 1\\\\\n\t 2020 & 1954 & 1\\\\\n\t 2020 & 1956 & 1\\\\\n\t 2020 & 1958 & 1\\\\\n\t 2020 & 1959 & 1\\\\\n\t 2020 & 2018 & 1\\\\\n\t 2020 & 2020 & 1\\\\\n\t 2060 & 1901 & 1\\\\\n\t 2060 & 1902 & 1\\\\\n\t 2060 & 1903 & 1\\\\\n\t 2060 & 1904 & 1\\\\\n\t 2060 & 1905 & 1\\\\\n\t 2060 & 1906 & 1\\\\\n\t 2060 & 1907 & 1\\\\\n\t 2060 & 1908 & 1\\\\\n\t 2060 & 1909 & 1\\\\\n\t 2060 & 1910 & 1\\\\\n\t 2060 & 1911 & 1\\\\\n\t 2060 & 1912 & 1\\\\\n\t 2060 & 1913 & 1\\\\\n\t 2060 & 1914 & 1\\\\\n\t 2060 & 1915 & 1\\\\\n\t 2060 & 1916 & 1\\\\\n\t 2060 & 1917 & 1\\\\\n\t 2060 & 1918 & 1\\\\\n\t 2060 & 1919 & 1\\\\\n\t 2060 & 1920 & 1\\\\\n\t 2060 & 1921 & 1\\\\\n\\end{tabular}\n",
      "text/plain": "       ctry   year   N     \n1      2020   1870   1     \n2      2020   1871   1     \n3      2020   1872   1     \n4      2020   1873   1     \n5      2020   1874   1     \n6      2020   1875   1     \n7      2020   1876   1     \n8      2020   1877   1     \n9      2020   1878   1     \n10     2020   1879   1     \n11     2020   1880   1     \n12     2020   1881   1     \n13     2020   1883   1     \n14     2020   1884   1     \n15     2020   1885   1     \n16     2020   1886   1     \n17     2020   1887   1     \n18     2020   1888   1     \n19     2020   1889   1     \n20     2020   1890   1     \n21     2020   1891   1     \n22     2020   1892   1     \n23     2020   1893   1     \n24     2020   1894   1     \n25     2020   1896   1     \n26     2020   1897   1     \n27     2020   1898   1     \n28     2020   1899   1     \n29     2020   1900   1     \n30     2020   1901   1     \n<U+22EE> <U+22EE> <U+22EE> <U+22EE>\n71     2020   1949   1     \n72     2020   1950   1     \n73     2020   1951   1     \n74     2020   1954   1     \n75     2020   1956   1     \n76     2020   1958   1     \n77     2020   1959   1     \n78     2020   2018   1     \n79     2020   2020   1     \n80     2060   1901   1     \n81     2060   1902   1     \n82     2060   1903   1     \n83     2060   1904   1     \n84     2060   1905   1     \n85     2060   1906   1     \n86     2060   1907   1     \n87     2060   1908   1     \n88     2060   1909   1     \n89     2060   1910   1     \n90     2060   1911   1     \n91     2060   1912   1     \n92     2060   1913   1     \n93     2060   1914   1     \n94     2060   1915   1     \n95     2060   1916   1     \n96     2060   1917   1     \n97     2060   1918   1     \n98     2060   1919   1     \n99     2060   1920   1     \n100    2060   1921   1     "
     },
     "metadata": {}
    }
   ],
   "source": [
    "head(adat[N == 1], 100)"
   ]
  },
  {
   "cell_type": "code",
   "execution_count": null,
   "metadata": {},
   "outputs": [],
   "source": []
  }
 ],
 "metadata": {
  "kernelspec": {
   "display_name": "R",
   "language": "R",
   "name": "ir"
  },
  "language_info": {
   "codemirror_mode": "r",
   "file_extension": ".r",
   "mimetype": "text/x-r-source",
   "name": "R",
   "pygments_lexer": "r",
   "version": "3.6.0"
  }
 },
 "nbformat": 4,
 "nbformat_minor": 4
}