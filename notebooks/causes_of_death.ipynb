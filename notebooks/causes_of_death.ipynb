{
 "cells": [
  {
   "cell_type": "markdown",
   "metadata": {},
   "source": [
    "# Cause of death analysis"
   ]
  },
  {
   "cell_type": "code",
   "execution_count": 35,
   "metadata": {},
   "outputs": [],
   "source": [
    "library(haven)\n",
    "library(sdazar)\n",
    "library(data.table)\n",
    "library(ggplot2)\n",
    "library(stringr)\n",
    "library(brms)\n",
    "options(mc.cores = parallel::detectCores()-2)\n",
    "options(repr.plot.width = 5, repr.plot.height = 3)\n",
    "\n",
    "source('functions.R')\n",
    "seed = 121911112018"
   ]
  },
  {
   "cell_type": "code",
   "execution_count": 36,
   "metadata": {},
   "outputs": [],
   "source": [
    "cd = data.table(read_dta('../data/cause_contribution_cum_organized_final.dta'))"
   ]
  },
  {
   "cell_type": "code",
   "execution_count": 37,
   "metadata": {},
   "outputs": [],
   "source": [
    "le = fread('../data/featured_LE_data.csv')"
   ]
  },
  {
   "cell_type": "code",
   "execution_count": 38,
   "metadata": {},
   "outputs": [
    {
     "data": {},
     "metadata": {},
     "output_type": "display_data"
    }
   ],
   "source": [
    "# merge files\n",
    "\n",
    "country_labels = c(\"Argentina\", \"Brazil\", \"Chile\", \"Colombia\", \n",
    "                   \"Costa_Rica\", \"Cuba\", \"Dominican_Republic\", \"Ecuador\", \n",
    "                   \"El_Salvador\", \"Guatemala\", \"Honduras\", \"Mexico\", \"Nicaragua\", \n",
    "                   \"Panama\", \"Paraguay\", \"Peru\", \"Uruguay\", \"Venezuela\")\n",
    "\n",
    "cd[, ctry := factor(ctry, labels=country_labels)]"
   ]
  },
  {
   "cell_type": "code",
   "execution_count": 39,
   "metadata": {},
   "outputs": [
    {
     "data": {
      "text/html": [
       "18"
      ],
      "text/latex": [
       "18"
      ],
      "text/markdown": [
       "18"
      ],
      "text/plain": [
       "[1] 18"
      ]
     },
     "metadata": {},
     "output_type": "display_data"
    }
   ],
   "source": [
    "length(country_labels)"
   ]
  },
  {
   "cell_type": "code",
   "execution_count": 40,
   "metadata": {},
   "outputs": [
    {
     "data": {},
     "metadata": {},
     "output_type": "display_data"
    },
    {
     "data": {},
     "metadata": {},
     "output_type": "display_data"
    },
    {
     "data": {},
     "metadata": {},
     "output_type": "display_data"
    }
   ],
   "source": [
    "# year recode based on the criteria proposed by Alberto\n",
    "cd[year<1970, gyear:='<1970']\n",
    "cd[year>=1970, gyear:='>=1970']\n",
    "cd[, ctry_year := paste0(ctry,'.', gyear)]"
   ]
  },
  {
   "cell_type": "code",
   "execution_count": 41,
   "metadata": {},
   "outputs": [
    {
     "name": "stdout",
     "output_type": "stream",
     "text": [
      " [1] \"cause_1\"  \"cause_5\"  \"cause_10\" \"cause_14\" \"cause_18\" \"cause_29\"\n",
      " [7] \"cause_30\" \"cause_31\" \"cause_32\" \"cause_33\"\n"
     ]
    }
   ],
   "source": [
    "# colnames(test)\n",
    "\n",
    "checktext = function (x) {\n",
    "    return(grepl(pattern = '^cause', x = x, ignore.case = TRUE))\n",
    "    }\n",
    "\n",
    "causes = colnames(cd)[sapply(colnames(cd), checktext)]\n",
    "print(causes)"
   ]
  },
  {
   "cell_type": "code",
   "execution_count": 42,
   "metadata": {},
   "outputs": [],
   "source": [
    "df = merge(cd, le[, .(ctry, year,igdp_log, ilit_log, iurban_log, iwater_log, isewage_log , ielec_log)], \n",
    "      on=c('ctry', 'year'), all.x=TRUE)"
   ]
  },
  {
   "cell_type": "code",
   "execution_count": 43,
   "metadata": {},
   "outputs": [
    {
     "name": "stdout",
     "output_type": "stream",
     "text": [
      "       year        ctry     cause_1     cause_5    cause_10    cause_14 \n",
      "          0           0           0           0           0           0 \n",
      "   cause_18    cause_29    cause_30    cause_31    cause_32    cause_33 \n",
      "          0           0           0           0           0           0 \n",
      " LE_initial       gyear   ctry_year    igdp_log    ilit_log  iurban_log \n",
      "          0           0           0           0           0           0 \n",
      " iwater_log isewage_log   ielec_log \n",
      "          0           0           0 \n"
     ]
    }
   ],
   "source": [
    "# no missing data\n",
    "print(prop_miss(df))"
   ]
  },
  {
   "cell_type": "code",
   "execution_count": 44,
   "metadata": {},
   "outputs": [
    {
     "data": {},
     "metadata": {},
     "output_type": "display_data"
    }
   ],
   "source": [
    "df[, zyear := scale(year, center=TRUE, scale=TRUE)]"
   ]
  },
  {
   "cell_type": "markdown",
   "metadata": {},
   "source": [
    "## Models for cause of death contribution (no time)"
   ]
  },
  {
   "cell_type": "code",
   "execution_count": 45,
   "metadata": {},
   "outputs": [],
   "source": [
    "# set prior of betas to normal(0,5)\n",
    "prior = set_prior(\"normal(0, 5)\", class = \"b\")"
   ]
  },
  {
   "cell_type": "code",
   "execution_count": 46,
   "metadata": {},
   "outputs": [
    {
     "data": {
      "text/plain": [
       "\n",
       " <1970 >=1970 \n",
       "   178    670 "
      ]
     },
     "metadata": {},
     "output_type": "display_data"
    }
   ],
   "source": [
    "table(df$gyear)"
   ]
  },
  {
   "cell_type": "code",
   "execution_count": 47,
   "metadata": {},
   "outputs": [],
   "source": [
    "a = df[year==2004, ctry]\n",
    "b = df[year==1996, ctry]"
   ]
  },
  {
   "cell_type": "code",
   "execution_count": 48,
   "metadata": {},
   "outputs": [],
   "source": [
    "selected_labels = df[year==2004, ctry]"
   ]
  },
  {
   "cell_type": "code",
   "execution_count": 49,
   "metadata": {},
   "outputs": [
    {
     "name": "stdout",
     "output_type": "stream",
     "text": [
      " [1] \"Argentina\"          \"Brazil\"             \"Chile\"             \n",
      " [4] \"Colombia\"           \"Costa_Rica\"         \"Cuba\"              \n",
      " [7] \"Dominican_Republic\" \"Ecuador\"            \"El_Salvador\"       \n",
      "[10] \"Guatemala\"          \"Mexico\"             \"Nicaragua\"         \n",
      "[13] \"Panama\"             \"Paraguay\"           \"Peru\"              \n",
      "[16] \"Uruguay\"            \"Venezuela\"         \n"
     ]
    }
   ],
   "source": [
    "print(selected_labels)"
   ]
  },
  {
   "cell_type": "code",
   "execution_count": 50,
   "metadata": {},
   "outputs": [
    {
     "name": "stdout",
     "output_type": "stream",
     "text": [
      "[1] \"::::: Modeling cause_1\"\n"
     ]
    },
    {
     "name": "stderr",
     "output_type": "stream",
     "text": [
      "Compiling the C++ model\n",
      "Start sampling\n",
      "Warning message in new_CppObject_xp(fields$.module, fields$.pointer, ...):\n",
      "“NAs introduced by coercion to integer range”"
     ]
    },
    {
     "name": "stdout",
     "output_type": "stream",
     "text": [
      "[1] \"::::: Modeling cause_5\"\n"
     ]
    },
    {
     "name": "stderr",
     "output_type": "stream",
     "text": [
      "Compiling the C++ model\n",
      "Start sampling\n",
      "Warning message in new_CppObject_xp(fields$.module, fields$.pointer, ...):\n",
      "“NAs introduced by coercion to integer range”"
     ]
    },
    {
     "name": "stdout",
     "output_type": "stream",
     "text": [
      "[1] \"::::: Modeling cause_10\"\n"
     ]
    },
    {
     "name": "stderr",
     "output_type": "stream",
     "text": [
      "Compiling the C++ model\n",
      "Start sampling\n",
      "Warning message in new_CppObject_xp(fields$.module, fields$.pointer, ...):\n",
      "“NAs introduced by coercion to integer range”"
     ]
    }
   ],
   "source": [
    "# loop by cause\n",
    "# full model\n",
    "\n",
    "for (c in causes) {\n",
    "    \n",
    "    print(paste0('::::: Modeling ', c))\n",
    "    \n",
    "    f = paste0(c, '~ 1 + igdp_log + ilit_log + iurban_log + iwater_log + isewage_log + ielec_log + \n",
    "                        (igdp_log|ctry_year)')\n",
    "    m = brm(formula = f, \n",
    "                   data = df,\n",
    "                   iter = 2000, \n",
    "                   chains = 2,\n",
    "                   seed = seed, \n",
    "                   prior=prior, \n",
    "                   control=  list(adapt_delta=0.90, max_treedepth = 15))\n",
    "    \n",
    "    est_shifts = compute_shifts(models = list(m),\n",
    "                        data = df, \n",
    "                        transform = FALSE,\n",
    "                        obs_var = c,\n",
    "                        countries = selected_labels, \n",
    "                        years = c(1966, 2004),\n",
    "                        model_pred = list('1966' = '<1970', '2004' = '>=1970')\n",
    "                        )\n",
    "\n",
    "    fwrite(est_shifts, file= paste0('output/shift_', c, '_full.csv'))\n",
    "    \n",
    "    remove(m, est_shifts)\n",
    "}\n"
   ]
  },
  {
   "cell_type": "code",
   "execution_count": 28,
   "metadata": {},
   "outputs": [
    {
     "name": "stdout",
     "output_type": "stream",
     "text": [
      "[1] \"::::: Modeling cause_1\"\n"
     ]
    },
    {
     "name": "stderr",
     "output_type": "stream",
     "text": [
      "Compiling the C++ model\n",
      "Start sampling\n",
      "Warning message in new_CppObject_xp(fields$.module, fields$.pointer, ...):\n",
      "“NAs introduced by coercion to integer range”"
     ]
    },
    {
     "name": "stdout",
     "output_type": "stream",
     "text": [
      "[1] \"::::: Modeling cause_5\"\n"
     ]
    },
    {
     "name": "stderr",
     "output_type": "stream",
     "text": [
      "Compiling the C++ model\n",
      "Start sampling\n",
      "Warning message in new_CppObject_xp(fields$.module, fields$.pointer, ...):\n",
      "“NAs introduced by coercion to integer range”"
     ]
    },
    {
     "name": "stdout",
     "output_type": "stream",
     "text": [
      "[1] \"::::: Modeling cause_10\"\n"
     ]
    },
    {
     "name": "stderr",
     "output_type": "stream",
     "text": [
      "Compiling the C++ model\n",
      "Start sampling\n",
      "Warning message in new_CppObject_xp(fields$.module, fields$.pointer, ...):\n",
      "“NAs introduced by coercion to integer range”"
     ]
    },
    {
     "name": "stdout",
     "output_type": "stream",
     "text": [
      "[1] \"::::: Modeling cause_14\"\n"
     ]
    },
    {
     "name": "stderr",
     "output_type": "stream",
     "text": [
      "Compiling the C++ model\n",
      "Start sampling\n",
      "Warning message in new_CppObject_xp(fields$.module, fields$.pointer, ...):\n",
      "“NAs introduced by coercion to integer range”"
     ]
    },
    {
     "name": "stdout",
     "output_type": "stream",
     "text": [
      "[1] \"::::: Modeling cause_18\"\n"
     ]
    },
    {
     "name": "stderr",
     "output_type": "stream",
     "text": [
      "Compiling the C++ model\n",
      "Start sampling\n",
      "Warning message in new_CppObject_xp(fields$.module, fields$.pointer, ...):\n",
      "“NAs introduced by coercion to integer range”"
     ]
    },
    {
     "name": "stdout",
     "output_type": "stream",
     "text": [
      "[1] \"::::: Modeling cause_29\"\n"
     ]
    },
    {
     "name": "stderr",
     "output_type": "stream",
     "text": [
      "Compiling the C++ model\n",
      "Start sampling\n",
      "Warning message in new_CppObject_xp(fields$.module, fields$.pointer, ...):\n",
      "“NAs introduced by coercion to integer range”"
     ]
    },
    {
     "name": "stdout",
     "output_type": "stream",
     "text": [
      "[1] \"::::: Modeling cause_30\"\n"
     ]
    },
    {
     "name": "stderr",
     "output_type": "stream",
     "text": [
      "Compiling the C++ model\n",
      "Start sampling\n",
      "Warning message in new_CppObject_xp(fields$.module, fields$.pointer, ...):\n",
      "“NAs introduced by coercion to integer range”"
     ]
    },
    {
     "name": "stdout",
     "output_type": "stream",
     "text": [
      "[1] \"::::: Modeling cause_31\"\n"
     ]
    },
    {
     "name": "stderr",
     "output_type": "stream",
     "text": [
      "Compiling the C++ model\n",
      "Start sampling\n",
      "Warning message in new_CppObject_xp(fields$.module, fields$.pointer, ...):\n",
      "“NAs introduced by coercion to integer range”"
     ]
    },
    {
     "name": "stdout",
     "output_type": "stream",
     "text": [
      "[1] \"::::: Modeling cause_32\"\n"
     ]
    },
    {
     "name": "stderr",
     "output_type": "stream",
     "text": [
      "Compiling the C++ model\n",
      "Start sampling\n",
      "Warning message in new_CppObject_xp(fields$.module, fields$.pointer, ...):\n",
      "“NAs introduced by coercion to integer range”"
     ]
    },
    {
     "name": "stdout",
     "output_type": "stream",
     "text": [
      "[1] \"::::: Modeling cause_33\"\n"
     ]
    },
    {
     "name": "stderr",
     "output_type": "stream",
     "text": [
      "Compiling the C++ model\n",
      "Start sampling\n",
      "Warning message in new_CppObject_xp(fields$.module, fields$.pointer, ...):\n",
      "“NAs introduced by coercion to integer range”"
     ]
    }
   ],
   "source": [
    "# loop by cause\n",
    "# full model\n",
    "\n",
    "for (c in causes) {\n",
    "    \n",
    "    print(paste0('::::: Modeling ', c))\n",
    "    \n",
    "    f = paste0(c, '~ 1 + igdp_log + ilit_log + iurban_log + iwater_log + isewage_log + ielec_log + \n",
    "                    LE_initial + zyear + (igdp_log|ctry_year)')\n",
    "    m = brm(formula = f, \n",
    "                   data = df,\n",
    "                   iter = 2000, \n",
    "                   chains = 2,\n",
    "                   seed = seed, \n",
    "                   prior=prior, \n",
    "                   control=  list(adapt_delta=0.90, max_treedepth = 15))\n",
    "    \n",
    "    est_shifts = compute_shifts(models = list(m),\n",
    "                        data = df, \n",
    "                        transform = FALSE,\n",
    "                        obs_var = c,\n",
    "                        countries = selected_labels, \n",
    "                        years = c(1966, 2004),\n",
    "                        model_pred = list('1966' = '<1970', '2004' = '>=1970')\n",
    "                        )\n",
    "\n",
    "    fwrite(est_shifts, file= paste0('output/shift_', c, '_full_leinitial_year.csv'))\n",
    "    \n",
    "    remove(m, est_shifts)\n",
    "}\n"
   ]
  }
 ],
 "metadata": {
  "kernelspec": {
   "display_name": "R",
   "language": "R",
   "name": "ir"
  },
  "language_info": {
   "codemirror_mode": "r",
   "file_extension": ".r",
   "mimetype": "text/x-r-source",
   "name": "R",
   "pygments_lexer": "r",
   "version": "3.5.0"
  }
 },
 "nbformat": 4,
 "nbformat_minor": 2
}
