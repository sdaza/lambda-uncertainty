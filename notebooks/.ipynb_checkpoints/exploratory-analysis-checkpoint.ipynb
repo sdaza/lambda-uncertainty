{
 "cells": [
  {
   "cell_type": "markdown",
   "metadata": {},
   "source": [
    "# Exploring datasets"
   ]
  },
  {
   "cell_type": "code",
   "execution_count": 1,
   "metadata": {},
   "outputs": [],
   "source": [
    "# libraries\n",
    "library(haven)\n",
    "library(data.table)"
   ]
  },
  {
   "cell_type": "code",
   "execution_count": 2,
   "metadata": {},
   "outputs": [],
   "source": [
    "# read dead\n",
    "dat = data.table(read_stata(\"../data/Ex-LA1850-2020-estimates.dta\"))"
   ]
  },
  {
   "cell_type": "code",
   "execution_count": 8,
   "metadata": {},
   "outputs": [
    {
     "data": {
      "text/html": [
       "<style>\n",
       ".list-inline {list-style: none; margin:0; padding: 0}\n",
       ".list-inline>li {display: inline-block}\n",
       ".list-inline>li:not(:last-child)::after {content: \"\\00b7\"; padding: 0 .5ex}\n",
       "</style>\n",
       "<ol class=list-inline><li>'ctry'</li><li>'myear'</li><li>'sex'</li><li>'age'</li><li>'name'</li><li>'Ex'</li><li>'gdp_pc'</li></ol>\n"
      ],
      "text/latex": [
       "\\begin{enumerate*}\n",
       "\\item 'ctry'\n",
       "\\item 'myear'\n",
       "\\item 'sex'\n",
       "\\item 'age'\n",
       "\\item 'name'\n",
       "\\item 'Ex'\n",
       "\\item 'gdp\\_pc'\n",
       "\\end{enumerate*}\n"
      ],
      "text/markdown": [
       "1. 'ctry'\n",
       "2. 'myear'\n",
       "3. 'sex'\n",
       "4. 'age'\n",
       "5. 'name'\n",
       "6. 'Ex'\n",
       "7. 'gdp_pc'\n",
       "\n",
       "\n"
      ],
      "text/plain": [
       "[1] \"ctry\"   \"myear\"  \"sex\"    \"age\"    \"name\"   \"Ex\"     \"gdp_pc\""
      ]
     },
     "metadata": {},
     "output_type": "display_data"
    }
   ],
   "source": [
    "names(dat)"
   ]
  },
  {
   "cell_type": "code",
   "execution_count": 14,
   "metadata": {},
   "outputs": [],
   "source": [
    "dat = dat[age == 0 & sex == 1]"
   ]
  },
  {
   "cell_type": "code",
   "execution_count": 23,
   "metadata": {},
   "outputs": [],
   "source": [
    "adat = dat[, N, .(ctry, myear)]"
   ]
  },
  {
   "cell_type": "code",
   "execution_count": 24,
   "metadata": {},
   "outputs": [
    {
     "data": {
      "text/plain": [
       "\n",
       "  1   2   3   4   5   6   7   8   9  11  12  13  14  15  16  17  18  19  20  21 \n",
       " 11  20  60  84 190 138  42  32  36  11  60 104  42  60  32 119  36  38 100  21 \n",
       " 22  23  24  25  26  27  30  32  33  34 \n",
       "110  46 168 100  78  27 120  32  66 238 "
      ]
     },
     "metadata": {},
     "output_type": "display_data"
    }
   ],
   "source": [
    "# number of estimates by year and country\n",
    "table(adat$N)"
   ]
  },
  {
   "cell_type": "code",
   "execution_count": 28,
   "metadata": {},
   "outputs": [
    {
     "data": {
      "text/html": [
       "<table>\n",
       "<caption>A data.table: 11 × 3</caption>\n",
       "<thead>\n",
       "\t<tr><th scope=col>ctry</th><th scope=col>myear</th><th scope=col>N</th></tr>\n",
       "\t<tr><th scope=col>&lt;dbl+lbl&gt;</th><th scope=col>&lt;dbl&gt;</th><th scope=col>&lt;int&gt;</th></tr>\n",
       "</thead>\n",
       "<tbody>\n",
       "\t<tr><td>2020</td><td>1925</td><td>1</td></tr>\n",
       "\t<tr><td>2060</td><td>1915</td><td>1</td></tr>\n",
       "\t<tr><td>2060</td><td>1935</td><td>1</td></tr>\n",
       "\t<tr><td>2060</td><td>1945</td><td>1</td></tr>\n",
       "\t<tr><td>2190</td><td>1925</td><td>1</td></tr>\n",
       "\t<tr><td>2250</td><td>1915</td><td>1</td></tr>\n",
       "\t<tr><td>2340</td><td>1935</td><td>1</td></tr>\n",
       "\t<tr><td>2370</td><td>1915</td><td>1</td></tr>\n",
       "\t<tr><td>2370</td><td>1925</td><td>1</td></tr>\n",
       "\t<tr><td>2370</td><td>1935</td><td>1</td></tr>\n",
       "\t<tr><td>2460</td><td>1945</td><td>1</td></tr>\n",
       "</tbody>\n",
       "</table>\n"
      ],
      "text/latex": [
       "A data.table: 11 × 3\n",
       "\\begin{tabular}{lll}\n",
       " ctry & myear & N\\\\\n",
       " <dbl+lbl> & <dbl> & <int>\\\\\n",
       "\\hline\n",
       "\t 2020 & 1925 & 1\\\\\n",
       "\t 2060 & 1915 & 1\\\\\n",
       "\t 2060 & 1935 & 1\\\\\n",
       "\t 2060 & 1945 & 1\\\\\n",
       "\t 2190 & 1925 & 1\\\\\n",
       "\t 2250 & 1915 & 1\\\\\n",
       "\t 2340 & 1935 & 1\\\\\n",
       "\t 2370 & 1915 & 1\\\\\n",
       "\t 2370 & 1925 & 1\\\\\n",
       "\t 2370 & 1935 & 1\\\\\n",
       "\t 2460 & 1945 & 1\\\\\n",
       "\\end{tabular}\n"
      ],
      "text/markdown": [
       "\n",
       "A data.table: 11 × 3\n",
       "\n",
       "| ctry &lt;dbl+lbl&gt; | myear &lt;dbl&gt; | N &lt;int&gt; |\n",
       "|---|---|---|\n",
       "| 2020 | 1925 | 1 |\n",
       "| 2060 | 1915 | 1 |\n",
       "| 2060 | 1935 | 1 |\n",
       "| 2060 | 1945 | 1 |\n",
       "| 2190 | 1925 | 1 |\n",
       "| 2250 | 1915 | 1 |\n",
       "| 2340 | 1935 | 1 |\n",
       "| 2370 | 1915 | 1 |\n",
       "| 2370 | 1925 | 1 |\n",
       "| 2370 | 1935 | 1 |\n",
       "| 2460 | 1945 | 1 |\n",
       "\n"
      ],
      "text/plain": [
       "   ctry myear N\n",
       "1  2020 1925  1\n",
       "2  2060 1915  1\n",
       "3  2060 1935  1\n",
       "4  2060 1945  1\n",
       "5  2190 1925  1\n",
       "6  2250 1915  1\n",
       "7  2340 1935  1\n",
       "8  2370 1915  1\n",
       "9  2370 1925  1\n",
       "10 2370 1935  1\n",
       "11 2460 1945  1"
      ]
     },
     "metadata": {},
     "output_type": "display_data"
    }
   ],
   "source": [
    "adat[N == 1]"
   ]
  }
 ],
 "metadata": {
  "kernelspec": {
   "display_name": "R",
   "language": "R",
   "name": "ir"
  },
  "language_info": {
   "codemirror_mode": "r",
   "file_extension": ".r",
   "mimetype": "text/x-r-source",
   "name": "R",
   "pygments_lexer": "r",
   "version": "3.6.0"
  }
 },
 "nbformat": 4,
 "nbformat_minor": 4
}
