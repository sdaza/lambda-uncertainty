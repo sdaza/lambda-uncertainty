{
 "cells": [
  {
   "cell_type": "markdown",
   "metadata": {
    "toc-hr-collapsed": true
   },
   "source": [
    "# Dynamic plots (Python)"
   ]
  },
  {
   "cell_type": "code",
   "execution_count": 57,
   "metadata": {},
   "outputs": [],
   "source": [
    "import dash\n",
    "import dash_core_components as dcc\n",
    "import dash_html_components as html\n",
    "from dash.dependencies import Input, Output\n",
    "# import dash_table_experiments as dt\n",
    "\n",
    "import plotly.graph_objs as go\n",
    "import plotly.figure_factory as ff\n",
    "import plotly.plotly as py\n",
    "import plotly.tools as pytools\n",
    "import flask\n",
    "import os\n",
    "\n",
    "import pandas as pd\n",
    "import numpy as np\n",
    "from textwrap import dedent as s"
   ]
  },
  {
   "cell_type": "code",
   "execution_count": 74,
   "metadata": {},
   "outputs": [],
   "source": [
    "# get data\n",
    "df = pd.read_csv('../dash/data/shifts_pred.csv')"
   ]
  },
  {
   "cell_type": "code",
   "execution_count": 16,
   "metadata": {},
   "outputs": [],
   "source": [
    "#df.head(10)"
   ]
  },
  {
   "cell_type": "code",
   "execution_count": 59,
   "metadata": {},
   "outputs": [],
   "source": [
    "import plotly.figure_factory as ff"
   ]
  },
  {
   "cell_type": "code",
   "execution_count": 60,
   "metadata": {},
   "outputs": [],
   "source": [
    "countries = df.ctry.unique()\n",
    "label_countries = [w.replace('_', ' ') for w in countries]\n",
    "dict_countries = dict(zip(countries, label_countries))"
   ]
  },
  {
   "cell_type": "code",
   "execution_count": 61,
   "metadata": {},
   "outputs": [],
   "source": [
    "df.head()"
   ]
  },
  {
   "cell_type": "code",
   "execution_count": 64,
   "metadata": {},
   "outputs": [
    {
     "data": {
      "text/plain": [
       "<1950        16000\n",
       "1970-1989    12000\n",
       "1950-1969    12000\n",
       ">=1990        8000\n",
       "Name: segment, dtype: int64"
      ]
     },
     "execution_count": 64,
     "metadata": {},
     "output_type": "execute_result"
    }
   ],
   "source": [
    "df.loc[df.ctry=='Argentina', 'segment'].value_counts()"
   ]
  },
  {
   "cell_type": "code",
   "execution_count": 76,
   "metadata": {},
   "outputs": [],
   "source": [
    "hist_data = []\n",
    "for i in df.loc[(df.ctry=='Argentina') & (df.year==1950), 'segment'].unique(): \n",
    "    hist_data.append(df.loc[(df.ctry=='Argentina') & (df.year==1950) & (df.segment==i), \n",
    "                              'pred_shift'].values)"
   ]
  },
  {
   "cell_type": "code",
   "execution_count": 78,
   "metadata": {},
   "outputs": [
    {
     "data": {
      "text/html": [
       "<iframe id=\"igraph\" scrolling=\"no\" style=\"border:none;\" seamless=\"seamless\" src=\"https://plot.ly/~sdaza/133.embed\" height=\"525px\" width=\"100%\"></iframe>"
      ],
      "text/plain": [
       "<plotly.tools.PlotlyDisplay object>"
      ]
     },
     "execution_count": 78,
     "metadata": {},
     "output_type": "execute_result"
    }
   ],
   "source": [
    "group_labels = ['<1950', '1970-1989', '>=1990']\n",
    "colors = ['#e34a33', '#2b8cbe', '#31a354']\n",
    "\n",
    "\n",
    "fig = ff.create_distplot(hist_data, group_labels=group_labels,\n",
    "                         curve_type='kde', show_hist=False, show_rug=False, \n",
    "                         colors=colors)\n",
    "\n",
    "fig['layout'].update(legend=dict(orientation='h', x=0.32, y=1.1, traceorder='normal'))\n",
    "fig['layout'].update(xaxis=dict(range=[np.concatenate(hist_data).min(), np.concatenate(hist_data).max()], ))\n",
    "# fig['layout'].update(yaxis=dict(range=[0,1]))\n",
    "\n",
    "# Add title\n",
    "fig['layout'].update(title='Expected Shift X in Year Y by Year Segment')\n",
    "\n",
    "# Plot!\n",
    "py.iplot(fig, filename='shift curves')"
   ]
  },
  {
   "cell_type": "markdown",
   "metadata": {
    "toc-hr-collapsed": true
   },
   "source": [
    "# Prediction checks"
   ]
  },
  {
   "cell_type": "code",
   "execution_count": 71,
   "metadata": {},
   "outputs": [],
   "source": [
    "pred = pd.read_csv('../dash/data/pred.csv')"
   ]
  },
  {
   "cell_type": "code",
   "execution_count": 72,
   "metadata": {},
   "outputs": [],
   "source": [
    "dt = pred.loc[pred.ctry=='Argentina']\n",
    "\n",
    "upper_bound = go.Scatter(\n",
    "    name='Upper Bound',\n",
    "    x=dt['year'],\n",
    "    y=dt['hi'],\n",
    "    mode='lines',\n",
    "    marker=dict(color=\"444\"),\n",
    "    line=dict(width=0),\n",
    "    fillcolor='rgba(68, 68, 68, 0.3)',\n",
    "    fill='tonexty')\n",
    "\n",
    "points = go.Scatter(\n",
    "    name='Observed LE',\n",
    "    x=dt['year'],\n",
    "    y=dt['le'],\n",
    "    mode='markers', \n",
    "    marker=dict(opacity=0.5))\n",
    "\n",
    "trace = go.Scatter(\n",
    "    name='Predicted LE',\n",
    "    x=dt['year'],\n",
    "    y=dt['m'],\n",
    "    mode='lines',\n",
    "    line=dict(color='rgb(31, 119, 180)'),\n",
    "    fillcolor='rgba(68, 68, 68, 0.3)',\n",
    "    fill='tonexty')\n",
    "\n",
    "lower_bound = go.Scatter(\n",
    "    name='Lower Bound',\n",
    "    x=dt['year'],\n",
    "    y=dt['lo'],\n",
    "    marker=dict(color=\"444\"),\n",
    "    line=dict(width=0),\n",
    "    mode='lines')\n",
    "\n",
    "# Trace order can be important\n",
    "# with continuous error bars\n",
    "data = [lower_bound, trace, upper_bound, points]\n",
    "\n",
    "layout = go.Layout(\n",
    "    yaxis=dict(title='LE'),\n",
    "    xaxis=dict(title='Year'),\n",
    "    title='Observed vs Predicted LE',\n",
    "    showlegend = False)\n",
    "\n",
    "fig = go.Figure(data=data, layout=layout)\n",
    "\n",
    "py.iplot(fig, filename='prediction checks')"
   ]
  }
 ],
 "metadata": {
  "kernelspec": {
   "display_name": "Python 3",
   "language": "python",
   "name": "python3"
  },
  "language_info": {
   "codemirror_mode": {
    "name": "ipython",
    "version": 3
   },
   "file_extension": ".py",
   "mimetype": "text/x-python",
   "name": "python",
   "nbconvert_exporter": "python",
   "pygments_lexer": "ipython3",
   "version": "3.6.6"
  },
  "toc-autonumbering": false,
  "toc-showcode": true,
  "toc-showmarkdowntxt": true,
  "toc-showtags": false
 },
 "nbformat": 4,
 "nbformat_minor": 2
}
