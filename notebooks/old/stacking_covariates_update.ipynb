{
 "cells": [
  {
   "cell_type": "markdown",
   "metadata": {},
   "source": [
    "# LE Shifts and Lags using covariates and model averaging (stacking)\n",
    "\n",
    "## Some definitions\n",
    "\n",
    "- Define set of priors (for reproducibility)\n",
    "     - I am using `prior = set_prior(\"normal(0, 5)\", class = \"b\")` for all betas.\n",
    "     - 2000 iterations and 2 chains\n",
    "- Set seed: 850091718\n",
    "\n",
    "## Nomenclature\n",
    "\n",
    "- m1 = LE 1900 models\n",
    "- m2 = LE 1950 models\n",
    "- m3 = Cause of death 1900 models\n",
    "- m4 = Cause of death 1950 models"
   ]
  },
  {
   "cell_type": "code",
   "execution_count": 1,
   "metadata": {},
   "outputs": [
    {
     "name": "stderr",
     "output_type": "stream",
     "text": [
      "here() starts at /Users/sebastiandaza/Documents/papers/lambda\n",
      "Loading required package: data.table\n",
      "Loading required package: knitr\n",
      "Loading required package: miceadds\n",
      "Loading required package: mice\n",
      "Loading required package: lattice\n",
      "* miceadds 2.10-14 (2018-03-29 14:47:31)\n",
      "Loading required package: Rcpp\n",
      "Loading 'brms' package (version 2.5.0). Useful instructions\n",
      "can be found by typing help('brms'). A more detailed introduction\n",
      "to the package is available through vignette('brms_overview').\n",
      "Run theme_set(theme_default()) to use the default bayesplot theme.\n",
      "\n",
      "Attaching package: ‘brms’\n",
      "\n",
      "The following object is masked from ‘package:sdazar’:\n",
      "\n",
      "    mi\n",
      "\n",
      "Version:  1.36.23\n",
      "Date:     2017-03-03\n",
      "Author:   Philip Leifeld (University of Glasgow)\n",
      "\n",
      "Please cite the JSS article in your publications -- see citation(\"texreg\").\n"
     ]
    }
   ],
   "source": [
    "library(here)\n",
    "library(haven)\n",
    "library(sdazar)\n",
    "library(data.table)\n",
    "library(ggplot2)\n",
    "library(stringr)\n",
    "library(brms)\n",
    "options(mc.cores = parallel::detectCores()-2)\n",
    "library(imputeTS)\n",
    "# library(stringr)\n",
    "# library(ggridges)\n",
    "# library(patchwork)\n",
    "options(repr.plot.width = 5, repr.plot.height = 3)\n",
    "library(texreg)\n",
    "seed = 850091718"
   ]
  },
  {
   "cell_type": "code",
   "execution_count": 2,
   "metadata": {},
   "outputs": [],
   "source": [
    "# functions \n",
    "source('functions.R')"
   ]
  },
  {
   "cell_type": "code",
   "execution_count": 3,
   "metadata": {},
   "outputs": [
    {
     "data": {},
     "metadata": {},
     "output_type": "display_data"
    }
   ],
   "source": [
    "# load data\n",
    "df = data.table(read_stata('../data/Ex_LA1850-2013_SES_ABBREVIATED_april-3-2018.dta'))\n",
    "\n",
    "country_labels = c(\"Argentina\", \"Bolivia\", \"Brazil\", \"Chile\", \"Colombia\", \n",
    "                   \"Costa_Rica\", \"Cuba\", \"Dominican_Republic\", \"Ecuador\", \n",
    "                   \"El_Salvador\", \"Guatemala\", \"Honduras\", \"Mexico\", \"Nicaragua\", \n",
    "                   \"Panama\", \"Paraguay\", \"Peru\", \"Uruguay\", \"Venezuela\")\n",
    "\n",
    "df[, ctry := factor(ctry, labels=country_labels)]"
   ]
  },
  {
   "cell_type": "markdown",
   "metadata": {},
   "source": [
    "# Only male-female average and records since 1900"
   ]
  },
  {
   "cell_type": "code",
   "execution_count": 4,
   "metadata": {},
   "outputs": [
    {
     "name": "stdout",
     "output_type": "stream",
     "text": [
      "       bf      elec       lsi       lit   extFund      gini     water    sewage \n",
      "    0.977     0.951     0.922     0.852     0.844     0.820     0.775     0.773 \n",
      "healthGdp     polio       bcg      dpt1      dpt3      mcv1     urban       tfr \n",
      "    0.709     0.681     0.681     0.681     0.681     0.681     0.451     0.445 \n",
      "   us_aid    gdp_pc \n",
      "    0.360     0.103 \n"
     ]
    }
   ],
   "source": [
    "# covariates = names(df)[10:28]\n",
    "# print(covariates)\n",
    "covariates = c(\"gdp_pc\", \"urban\", \"elec\", \"lit\" ,\"water\" ,\"sewage\" ,\"gini\" ,\n",
    "               \"tfr\" ,\"bf\" ,\"extFund\" ,\"healthGdp\" ,\"lsi\" ,\"polio\" ,\"bcg\" ,\"dpt1\" ,\"dpt3\" ,\"mcv1\" ,\n",
    "               \"us_aid\" ,\"lunion\")\n",
    "# life expectancy 0, tseries == 2 \n",
    "\n",
    "c = df[tseries2==1 & age==0 & year>=1900, lapply(.SD,Max), \n",
    "       .SDcols=covariates, by=.(ctry, year)]\n",
    "\n",
    "le = df[tseries2==1 & age==0 & year>=1900, .(Ex=Mean(Ex)), by=.(ctry, year)]\n",
    "\n",
    "# check\n",
    "# (nrow(c) + nrow(le))/2\n",
    "\n",
    "dt = merge(c, le, by=c('ctry', 'year'))\n",
    "\n",
    "# missing data\n",
    "print(countmis(dt))"
   ]
  },
  {
   "cell_type": "markdown",
   "metadata": {},
   "source": [
    "### Define dataset"
   ]
  },
  {
   "cell_type": "code",
   "execution_count": 5,
   "metadata": {},
   "outputs": [],
   "source": [
    "test = dt[year>=1900, .(ctry, year, gdp_pc, urban, lit, Ex, water, sewage, elec, us_aid, tfr)]"
   ]
  },
  {
   "cell_type": "code",
   "execution_count": 6,
   "metadata": {},
   "outputs": [
    {
     "data": {},
     "metadata": {},
     "output_type": "display_data"
    },
    {
     "data": {},
     "metadata": {},
     "output_type": "display_data"
    },
    {
     "data": {},
     "metadata": {},
     "output_type": "display_data"
    },
    {
     "data": {},
     "metadata": {},
     "output_type": "display_data"
    },
    {
     "data": {},
     "metadata": {},
     "output_type": "display_data"
    },
    {
     "data": {},
     "metadata": {},
     "output_type": "display_data"
    },
    {
     "data": {},
     "metadata": {},
     "output_type": "display_data"
    },
    {
     "data": {},
     "metadata": {},
     "output_type": "display_data"
    }
   ],
   "source": [
    "# year recode based on the criteria proposed by Alberto\n",
    "test[year<1950, gyear:='1950']\n",
    "test[year>=1950 & year<1970, gyear:='1950-1969']\n",
    "test[year>=1970 & year<1990, gyear:='1970-1989']\n",
    "test[year>=1990, gyear :='1990']\n",
    "# # test[, gyear := factor(gyear, levels=1:4, labels=c('1950', '1950-1969', '1970-1989', '1990'))]\n",
    "\n",
    "# transform variable: weibull\n",
    "test[, y := Ex/max(Ex+1.05), by = ctry] # adjustment is by country!\n",
    "test[, wy := log(-log(1-y))]\n",
    "test[, max_le := max(Ex+1.05), by = ctry] # to recover values later\n",
    "test[, ctry_year := paste0(ctry,'.', gyear)]"
   ]
  },
  {
   "cell_type": "code",
   "execution_count": 7,
   "metadata": {},
   "outputs": [
    {
     "data": {
      "text/html": [
       "<table>\n",
       "<thead><tr><th scope=col>ctry</th><th scope=col>year</th><th scope=col>gdp_pc</th><th scope=col>urban</th><th scope=col>lit</th><th scope=col>Ex</th><th scope=col>water</th><th scope=col>sewage</th><th scope=col>elec</th><th scope=col>us_aid</th><th scope=col>tfr</th><th scope=col>gyear</th><th scope=col>y</th><th scope=col>wy</th><th scope=col>max_le</th><th scope=col>ctry_year</th></tr></thead>\n",
       "<tbody>\n",
       "\t<tr><td>Argentina     </td><td>1900          </td><td>2875.352      </td><td>NA            </td><td>51            </td><td>36.25867      </td><td>NA            </td><td>NA            </td><td>NA            </td><td>NA            </td><td>NA            </td><td>1950          </td><td>0.4762391     </td><td>-0.4358419    </td><td>76.13545      </td><td>Argentina.1950</td></tr>\n",
       "\t<tr><td>Argentina     </td><td>1901          </td><td>2880.387      </td><td>NA            </td><td>NA            </td><td>36.63120      </td><td>NA            </td><td>NA            </td><td>NA            </td><td>NA            </td><td>NA            </td><td>1950          </td><td>0.4811320     </td><td>-0.4214333    </td><td>76.13545      </td><td>Argentina.1950</td></tr>\n",
       "\t<tr><td>Argentina     </td><td>1902          </td><td>2716.507      </td><td>NA            </td><td>NA            </td><td>37.00985      </td><td>NA            </td><td>NA            </td><td>NA            </td><td>NA            </td><td>NA            </td><td>1950          </td><td>0.4861054     </td><td>-0.4068604    </td><td>76.13545      </td><td>Argentina.1950</td></tr>\n",
       "\t<tr><td>Argentina     </td><td>1903          </td><td>2992.315      </td><td>NA            </td><td>NA            </td><td>37.39479      </td><td>NA            </td><td>NA            </td><td>NA            </td><td>NA            </td><td>NA            </td><td>1950          </td><td>0.4911614     </td><td>-0.3921179    </td><td>76.13545      </td><td>Argentina.1950</td></tr>\n",
       "\t<tr><td>Argentina     </td><td>1904          </td><td>3191.040      </td><td>NA            </td><td>NA            </td><td>37.82295      </td><td>NA            </td><td>NA            </td><td>NA            </td><td>NA            </td><td>NA            </td><td>1950          </td><td>0.4967851     </td><td>-0.3758025    </td><td>76.13545      </td><td>Argentina.1950</td></tr>\n",
       "\t<tr><td>Argentina     </td><td>1905          </td><td>3478.617      </td><td>NA            </td><td>NA            </td><td>38.48985      </td><td>NA            </td><td>NA            </td><td>NA            </td><td>NA            </td><td>NA            </td><td>1950          </td><td>0.5055445     </td><td>-0.3505536    </td><td>76.13545      </td><td>Argentina.1950</td></tr>\n",
       "</tbody>\n",
       "</table>\n"
      ],
      "text/latex": [
       "\\begin{tabular}{r|llllllllllllllll}\n",
       " ctry & year & gdp\\_pc & urban & lit & Ex & water & sewage & elec & us\\_aid & tfr & gyear & y & wy & max\\_le & ctry\\_year\\\\\n",
       "\\hline\n",
       "\t Argentina      & 1900           & 2875.352       & NA             & 51             & 36.25867       & NA             & NA             & NA             & NA             & NA             & 1950           & 0.4762391      & -0.4358419     & 76.13545       & Argentina.1950\\\\\n",
       "\t Argentina      & 1901           & 2880.387       & NA             & NA             & 36.63120       & NA             & NA             & NA             & NA             & NA             & 1950           & 0.4811320      & -0.4214333     & 76.13545       & Argentina.1950\\\\\n",
       "\t Argentina      & 1902           & 2716.507       & NA             & NA             & 37.00985       & NA             & NA             & NA             & NA             & NA             & 1950           & 0.4861054      & -0.4068604     & 76.13545       & Argentina.1950\\\\\n",
       "\t Argentina      & 1903           & 2992.315       & NA             & NA             & 37.39479       & NA             & NA             & NA             & NA             & NA             & 1950           & 0.4911614      & -0.3921179     & 76.13545       & Argentina.1950\\\\\n",
       "\t Argentina      & 1904           & 3191.040       & NA             & NA             & 37.82295       & NA             & NA             & NA             & NA             & NA             & 1950           & 0.4967851      & -0.3758025     & 76.13545       & Argentina.1950\\\\\n",
       "\t Argentina      & 1905           & 3478.617       & NA             & NA             & 38.48985       & NA             & NA             & NA             & NA             & NA             & 1950           & 0.5055445      & -0.3505536     & 76.13545       & Argentina.1950\\\\\n",
       "\\end{tabular}\n"
      ],
      "text/markdown": [
       "\n",
       "ctry | year | gdp_pc | urban | lit | Ex | water | sewage | elec | us_aid | tfr | gyear | y | wy | max_le | ctry_year | \n",
       "|---|---|---|---|---|---|\n",
       "| Argentina      | 1900           | 2875.352       | NA             | 51             | 36.25867       | NA             | NA             | NA             | NA             | NA             | 1950           | 0.4762391      | -0.4358419     | 76.13545       | Argentina.1950 | \n",
       "| Argentina      | 1901           | 2880.387       | NA             | NA             | 36.63120       | NA             | NA             | NA             | NA             | NA             | 1950           | 0.4811320      | -0.4214333     | 76.13545       | Argentina.1950 | \n",
       "| Argentina      | 1902           | 2716.507       | NA             | NA             | 37.00985       | NA             | NA             | NA             | NA             | NA             | 1950           | 0.4861054      | -0.4068604     | 76.13545       | Argentina.1950 | \n",
       "| Argentina      | 1903           | 2992.315       | NA             | NA             | 37.39479       | NA             | NA             | NA             | NA             | NA             | 1950           | 0.4911614      | -0.3921179     | 76.13545       | Argentina.1950 | \n",
       "| Argentina      | 1904           | 3191.040       | NA             | NA             | 37.82295       | NA             | NA             | NA             | NA             | NA             | 1950           | 0.4967851      | -0.3758025     | 76.13545       | Argentina.1950 | \n",
       "| Argentina      | 1905           | 3478.617       | NA             | NA             | 38.48985       | NA             | NA             | NA             | NA             | NA             | 1950           | 0.5055445      | -0.3505536     | 76.13545       | Argentina.1950 | \n",
       "\n",
       "\n"
      ],
      "text/plain": [
       "  ctry      year gdp_pc   urban lit Ex       water sewage elec us_aid tfr gyear\n",
       "1 Argentina 1900 2875.352 NA    51  36.25867 NA    NA     NA   NA     NA  1950 \n",
       "2 Argentina 1901 2880.387 NA    NA  36.63120 NA    NA     NA   NA     NA  1950 \n",
       "3 Argentina 1902 2716.507 NA    NA  37.00985 NA    NA     NA   NA     NA  1950 \n",
       "4 Argentina 1903 2992.315 NA    NA  37.39479 NA    NA     NA   NA     NA  1950 \n",
       "5 Argentina 1904 3191.040 NA    NA  37.82295 NA    NA     NA   NA     NA  1950 \n",
       "6 Argentina 1905 3478.617 NA    NA  38.48985 NA    NA     NA   NA     NA  1950 \n",
       "  y         wy         max_le   ctry_year     \n",
       "1 0.4762391 -0.4358419 76.13545 Argentina.1950\n",
       "2 0.4811320 -0.4214333 76.13545 Argentina.1950\n",
       "3 0.4861054 -0.4068604 76.13545 Argentina.1950\n",
       "4 0.4911614 -0.3921179 76.13545 Argentina.1950\n",
       "5 0.4967851 -0.3758025 76.13545 Argentina.1950\n",
       "6 0.5055445 -0.3505536 76.13545 Argentina.1950"
      ]
     },
     "metadata": {},
     "output_type": "display_data"
    }
   ],
   "source": [
    "head(test)"
   ]
  },
  {
   "cell_type": "code",
   "execution_count": 8,
   "metadata": {},
   "outputs": [
    {
     "data": {
      "text/html": [
       "19"
      ],
      "text/latex": [
       "19"
      ],
      "text/markdown": [
       "19"
      ],
      "text/plain": [
       "[1] 19"
      ]
     },
     "metadata": {},
     "output_type": "display_data"
    }
   ],
   "source": [
    "# number of countries\n",
    "length(unique(test$ctry))"
   ]
  },
  {
   "cell_type": "markdown",
   "metadata": {},
   "source": [
    "# 1900+ model using imputed gdp, lit, urban variables (interpolation)"
   ]
  },
  {
   "cell_type": "code",
   "execution_count": 9,
   "metadata": {},
   "outputs": [
    {
     "data": {},
     "metadata": {},
     "output_type": "display_data"
    },
    {
     "data": {},
     "metadata": {},
     "output_type": "display_data"
    },
    {
     "data": {},
     "metadata": {},
     "output_type": "display_data"
    },
    {
     "data": {},
     "metadata": {},
     "output_type": "display_data"
    },
    {
     "data": {},
     "metadata": {},
     "output_type": "display_data"
    },
    {
     "data": {},
     "metadata": {},
     "output_type": "display_data"
    },
    {
     "data": {},
     "metadata": {},
     "output_type": "display_data"
    }
   ],
   "source": [
    "library(imputeTS)\n",
    "\n",
    "test = data.table(test)\n",
    "setorder(test, year)\n",
    "\n",
    "# interpolation\n",
    "test[, igdp_pc := na.interpolation(gdp_pc, option='stine'), by=ctry]\n",
    "test[, iurban := na.interpolation(urban, option='stine'), by=ctry]\n",
    "test[, ilit := na.interpolation(lit, option='stine'), by=ctry]\n",
    "test[, itfr := na.interpolation(tfr, option='stine'), by=ctry]\n",
    "\n",
    "test[, iwater := na.interpolation(water, option='stine'), by=ctry]\n",
    "test[, isewage := na.interpolation(sewage, option='stine'), by=ctry]\n",
    "test[, ielec := na.interpolation(elec, option='stine'), by=ctry]"
   ]
  },
  {
   "cell_type": "code",
   "execution_count": 10,
   "metadata": {},
   "outputs": [
    {
     "data": {
      "image/png": "[encoded data removed]",
      "text/plain": [
       "Plot with title “Visualization Imputed Values”"
      ]
     },
     "metadata": {},
     "output_type": "display_data"
    }
   ],
   "source": [
    "country = 'Bolivia'\n",
    "variable = 'gdp_pc'\n",
    "imp = paste0('i', variable)\n",
    "\n",
    "plotNA.imputations(test[ctry==country, variable, with=FALSE][[1]], \n",
    "                   test[ctry==country, imp, with=FALSE][[1]])"
   ]
  },
  {
   "cell_type": "code",
   "execution_count": 11,
   "metadata": {},
   "outputs": [
    {
     "data": {
      "image/png": "[encoded data removed]",
      "text/plain": [
       "Plot with title “Visualization Imputed Values”"
      ]
     },
     "metadata": {},
     "output_type": "display_data"
    }
   ],
   "source": [
    "country = 'Mexico'\n",
    "variable = 'gdp_pc'\n",
    "imp = paste0('i', variable)\n",
    "\n",
    "plotNA.imputations(test[ctry==country, variable, with=FALSE][[1]], \n",
    "                   test[ctry==country, imp, with=FALSE][[1]])"
   ]
  },
  {
   "cell_type": "code",
   "execution_count": 12,
   "metadata": {},
   "outputs": [
    {
     "data": {
      "image/png": "[encoded data removed]",
      "text/plain": [
       "Plot with title “Visualization Imputed Values”"
      ]
     },
     "metadata": {},
     "output_type": "display_data"
    }
   ],
   "source": [
    "country = 'Mexico'\n",
    "variable = 'lit'\n",
    "imp = paste0('i', variable)\n",
    "\n",
    "plotNA.imputations(test[ctry==country, variable, with=FALSE][[1]], \n",
    "                   test[ctry==country, imp, with=FALSE][[1]])"
   ]
  },
  {
   "cell_type": "code",
   "execution_count": 13,
   "metadata": {},
   "outputs": [
    {
     "data": {
      "image/png": "[encoded data removed]",
      "text/plain": [
       "Plot with title “Visualization Imputed Values”"
      ]
     },
     "metadata": {},
     "output_type": "display_data"
    }
   ],
   "source": [
    "country = 'Argentina'\n",
    "variable = 'sewage'\n",
    "imp = paste0('i', variable)\n",
    "\n",
    "plotNA.imputations(test[ctry==country, variable, with=FALSE][[1]], \n",
    "                   test[ctry==country, imp, with=FALSE][[1]])"
   ]
  },
  {
   "cell_type": "markdown",
   "metadata": {},
   "source": [
    "## Computing log version of variables\n",
    "\n",
    "- Variables are centered to improve convergence"
   ]
  },
  {
   "cell_type": "code",
   "execution_count": 14,
   "metadata": {},
   "outputs": [
    {
     "data": {},
     "metadata": {},
     "output_type": "display_data"
    },
    {
     "data": {},
     "metadata": {},
     "output_type": "display_data"
    },
    {
     "data": {},
     "metadata": {},
     "output_type": "display_data"
    },
    {
     "data": {},
     "metadata": {},
     "output_type": "display_data"
    },
    {
     "data": {},
     "metadata": {},
     "output_type": "display_data"
    },
    {
     "data": {},
     "metadata": {},
     "output_type": "display_data"
    }
   ],
   "source": [
    "test[, igdp_log := scale(log(igdp_pc), scale=FALSE, center=TRUE)]\n",
    "test[, iurban_log := scale(log(iurban), scale=FALSE, center=TRUE)]\n",
    "test[, ilit_log := scale(log(ilit), scale=FALSE, center=TRUE)]\n",
    "test[, iwater_log := scale(log(iwater), scale=FALSE, center=TRUE)]\n",
    "test[, isewage_log := scale(log(isewage), scale=FALSE, center=TRUE)]\n",
    "test[, ielec_log := scale(log(ielec), scale=FALSE, center=TRUE)]"
   ]
  },
  {
   "cell_type": "code",
   "execution_count": 15,
   "metadata": {},
   "outputs": [
    {
     "data": {},
     "metadata": {},
     "output_type": "display_data"
    }
   ],
   "source": [
    "# time variable\n",
    "test[, zyear := scale(year, center=TRUE, scale=TRUE)]"
   ]
  },
  {
   "cell_type": "markdown",
   "metadata": {},
   "source": [
    "# General models \n",
    "\n",
    "Important notes: \n",
    "\n",
    "- Random intercept by country and year\n",
    "- Random GDP coefficient by country and year\n",
    "- All the other covariates are fixed (unique coefficient or beta)\n",
    "- No interactions between variables"
   ]
  },
  {
   "cell_type": "markdown",
   "metadata": {},
   "source": [
    "# 1900\n",
    "\n",
    "- Important: imputation of gdp, urban and literacy via interpolation\n",
    "- The models I ran are below (i = interpolation, log = nuatural logarithm): \n",
    "\n",
    "### No time adjustment \n",
    "\n",
    "- igdp_log\n",
    "- igdp_log + ilit_log \n",
    "- igdp_log + iurban_log\n",
    "- igdp_log + ilit_log + iurban_log \n",
    "\n",
    "### (Linear) Time adjustment\n",
    "\n",
    "- igdp_log + zyear\n",
    "- igdp_log + ilit_log + zyear\n",
    "- igdp_log + iurban_log + zyear\n",
    "- igdp_log + ilit_log + iurban_log + zyear\n",
    "\n",
    "### Autocorrelation \n",
    "\n",
    "- igdp_log\n",
    "- igdp_log + ilit_log \n",
    "- igdp_log + iurban_log\n",
    "- igdp_log + ilit_log + iurban_log \n",
    "\n",
    "\n",
    "Note: name of the dataset `test`"
   ]
  },
  {
   "cell_type": "markdown",
   "metadata": {},
   "source": [
    "## LE stacking models, 1900+, no time adjustment"
   ]
  },
  {
   "cell_type": "code",
   "execution_count": 16,
   "metadata": {},
   "outputs": [],
   "source": [
    "# set prior of betas to normal(0,5)\n",
    "prior = set_prior(\"normal(0, 5)\", class = \"b\")"
   ]
  },
  {
   "cell_type": "code",
   "execution_count": 17,
   "metadata": {},
   "outputs": [
    {
     "name": "stderr",
     "output_type": "stream",
     "text": [
      "Compiling the C++ model\n",
      "Start sampling\n"
     ]
    }
   ],
   "source": [
    "m1.1 = brm(formula = wy ~ 1 + igdp_log  + (igdp_log|ctry_year), \n",
    "           data = test,\n",
    "           iter = 2000, \n",
    "           chains = 2,\n",
    "           seed = seed, \n",
    "           prior=prior)"
   ]
  },
  {
   "cell_type": "code",
   "execution_count": 18,
   "metadata": {},
   "outputs": [
    {
     "name": "stderr",
     "output_type": "stream",
     "text": [
      "Compiling the C++ model\n",
      "recompiling to avoid crashing R session\n",
      "Start sampling\n"
     ]
    }
   ],
   "source": [
    "m1.2 = brm(formula = wy ~ 1 + igdp_log  + iurban_log +  (igdp_log|ctry_year), \n",
    "          data = test, \n",
    "          iter = 2000, \n",
    "          chains = 2, \n",
    "          seed = seed, \n",
    "          prior = prior)"
   ]
  },
  {
   "cell_type": "code",
   "execution_count": 19,
   "metadata": {},
   "outputs": [
    {
     "name": "stderr",
     "output_type": "stream",
     "text": [
      "Compiling the C++ model\n",
      "recompiling to avoid crashing R session\n",
      "Start sampling\n"
     ]
    }
   ],
   "source": [
    "m1.3 = brm(formula = wy ~ 1 + igdp_log  + ilit_log +  (igdp_log|ctry_year), \n",
    "          data = test,\n",
    "          iter = 2000, \n",
    "          chains = 2, \n",
    "          seed = seed, \n",
    "          prior = prior)"
   ]
  },
  {
   "cell_type": "code",
   "execution_count": 20,
   "metadata": {},
   "outputs": [
    {
     "name": "stderr",
     "output_type": "stream",
     "text": [
      "Compiling the C++ model\n",
      "recompiling to avoid crashing R session\n",
      "Start sampling\n",
      "Warning message:\n",
      "“There were 1 transitions after warmup that exceeded the maximum treedepth. Increase max_treedepth above 10. See\n",
      "http://mc-stan.org/misc/warnings.html#maximum-treedepth-exceeded”Warning message:\n",
      "“Examine the pairs() plot to diagnose sampling problems\n",
      "”"
     ]
    }
   ],
   "source": [
    "m1.4 = brm(formula = wy ~ 1 + igdp_log + ilit_log + iurban_log + (igdp_log|ctry_year), \n",
    "          data = test, \n",
    "          iter = 2000, \n",
    "          chains = 2, \n",
    "          seed = seed, \n",
    "          prior = prior)"
   ]
  },
  {
   "cell_type": "code",
   "execution_count": 21,
   "metadata": {},
   "outputs": [
    {
     "name": "stderr",
     "output_type": "stream",
     "text": [
      "4 problematic observation(s) found.\n",
      "The model will be refit 4 times.\n",
      "\n",
      "Fitting model 1 out of 4 (leaving out observation 651)\n",
      "Start sampling\n",
      "\n",
      "Fitting model 2 out of 4 (leaving out observation 668)\n",
      "Start sampling\n",
      "\n",
      "Fitting model 3 out of 4 (leaving out observation 685)\n",
      "Start sampling\n",
      "\n",
      "Fitting model 4 out of 4 (leaving out observation 1728)\n",
      "Start sampling\n",
      "2 problematic observation(s) found.\n",
      "The model will be refit 2 times.\n",
      "\n",
      "Fitting model 1 out of 2 (leaving out observation 685)\n",
      "Start sampling\n",
      "\n",
      "Fitting model 2 out of 2 (leaving out observation 1446)\n",
      "Start sampling\n",
      "1 problematic observation(s) found.\n",
      "The model will be refit 1 times.\n",
      "\n",
      "Fitting model 1 out of 1 (leaving out observation 1443)\n",
      "Start sampling\n",
      "1 problematic observation(s) found.\n",
      "The model will be refit 1 times.\n",
      "\n",
      "Fitting model 1 out of 1 (leaving out observation 1446)\n",
      "Start sampling\n"
     ]
    }
   ],
   "source": [
    "loo1.1 = loo(m1.1, reloo=TRUE)\n",
    "loo1.2 = loo(m1.2, reloo=TRUE)\n",
    "loo1.3 = loo(m1.3, reloo=TRUE)\n",
    "loo1.4 = loo(m1.4, reloo=TRUE)"
   ]
  },
  {
   "cell_type": "code",
   "execution_count": 30,
   "metadata": {},
   "outputs": [
    {
     "data": {
      "text/html": [
       "<ol class=list-inline>\n",
       "\t<li>0.0141813045218895</li>\n",
       "\t<li>1.9274873610333e-07</li>\n",
       "\t<li>0.0159127269475369</li>\n",
       "\t<li>0.969905775781837</li>\n",
       "</ol>\n"
      ],
      "text/latex": [
       "\\begin{enumerate*}\n",
       "\\item 0.0141813045218895\n",
       "\\item 1.9274873610333e-07\n",
       "\\item 0.0159127269475369\n",
       "\\item 0.969905775781837\n",
       "\\end{enumerate*}\n"
      ],
      "text/markdown": [
       "1. 0.0141813045218895\n",
       "2. 1.9274873610333e-07\n",
       "3. 0.0159127269475369\n",
       "4. 0.969905775781837\n",
       "\n",
       "\n"
      ],
      "text/plain": [
       "[1] 1.418130e-02 1.927487e-07 1.591273e-02 9.699058e-01"
      ]
     },
     "metadata": {},
     "output_type": "display_data"
    }
   ],
   "source": [
    "# stacking\n",
    "loo_list_noyear = list(loo1.1, loo1.2, loo1.3, loo1.4)\n",
    "weights_models_noyear = as.vector(loo_model_weights(loo_list_noyear))\n",
    "weights_models_noyear"
   ]
  },
  {
   "cell_type": "code",
   "execution_count": 19,
   "metadata": {},
   "outputs": [],
   "source": [
    "# # export posterior values \n",
    "# s = posterior_samples(m1.1)\n",
    "# fwrite(s, 'output/posterior_samples_gdp_only.csv')-"
   ]
  },
  {
   "cell_type": "code",
   "execution_count": 31,
   "metadata": {},
   "outputs": [],
   "source": [
    "models_noyear = list(m1.1, m1.2, m1.3, m1.4)\n",
    "ps_noyear = list(posterior_samples(m1.1), posterior_samples(m1.2), posterior_samples(m1.3), \n",
    "                        posterior_samples(m1.4))"
   ]
  },
  {
   "cell_type": "code",
   "execution_count": 32,
   "metadata": {},
   "outputs": [],
   "source": [
    "# test_shift_noyear = estimate_shift(models = models_noyear,\n",
    "#                         ps = ps_noyear,\n",
    "#                         weights = weights_models_noyear,\n",
    "#                         data = test, \n",
    "#                         country = 'Venezuela', \n",
    "#                         cfyear = 2010, \n",
    "#                         segment = '1990')"
   ]
  },
  {
   "cell_type": "code",
   "execution_count": 33,
   "metadata": {},
   "outputs": [],
   "source": [
    "est_shifts_noyear = compute_shifts(models = models_noyear,\n",
    "                        ps = ps_noyear,\n",
    "                        weights = weights_models_noyear,\n",
    "                        data = test, \n",
    "                        countries = country_labels, \n",
    "                        years = c(1950, 1970, 1990, 2010))"
   ]
  },
  {
   "cell_type": "code",
   "execution_count": 34,
   "metadata": {},
   "outputs": [
    {
     "data": {
      "text/html": [
       "<ol class=list-inline>\n",
       "\t<li>562000</li>\n",
       "\t<li>9</li>\n",
       "</ol>\n"
      ],
      "text/latex": [
       "\\begin{enumerate*}\n",
       "\\item 562000\n",
       "\\item 9\n",
       "\\end{enumerate*}\n"
      ],
      "text/markdown": [
       "1. 562000\n",
       "2. 9\n",
       "\n",
       "\n"
      ],
      "text/plain": [
       "[1] 562000      9"
      ]
     },
     "metadata": {},
     "output_type": "display_data"
    }
   ],
   "source": [
    "dim(est_shifts_noyear)"
   ]
  },
  {
   "cell_type": "code",
   "execution_count": 35,
   "metadata": {},
   "outputs": [],
   "source": [
    "# save file\n",
    "fwrite(est_shifts_noyear, 'output/shift_1900_stacking.csv')"
   ]
  },
  {
   "cell_type": "code",
   "execution_count": 36,
   "metadata": {},
   "outputs": [],
   "source": [
    "# gdp only\n",
    "est_shifts = compute_shifts(models = list(m1.1),\n",
    "                        data = test, \n",
    "                        countries = country_labels, \n",
    "                        years = c(1950, 1970, 1990, 2010))"
   ]
  },
  {
   "cell_type": "code",
   "execution_count": 37,
   "metadata": {},
   "outputs": [
    {
     "data": {
      "text/html": [
       "<ol class=list-inline>\n",
       "\t<li>562000</li>\n",
       "\t<li>9</li>\n",
       "</ol>\n"
      ],
      "text/latex": [
       "\\begin{enumerate*}\n",
       "\\item 562000\n",
       "\\item 9\n",
       "\\end{enumerate*}\n"
      ],
      "text/markdown": [
       "1. 562000\n",
       "2. 9\n",
       "\n",
       "\n"
      ],
      "text/plain": [
       "[1] 562000      9"
      ]
     },
     "metadata": {},
     "output_type": "display_data"
    }
   ],
   "source": [
    "dim(est_shifts)"
   ]
  },
  {
   "cell_type": "code",
   "execution_count": 38,
   "metadata": {},
   "outputs": [],
   "source": [
    "fwrite(est_shifts, 'output/shift_1900_gdponly.csv')"
   ]
  },
  {
   "cell_type": "markdown",
   "metadata": {},
   "source": [
    "## LE stacking models, 1900+, linear adjustment of time"
   ]
  },
  {
   "cell_type": "code",
   "execution_count": 39,
   "metadata": {},
   "outputs": [
    {
     "name": "stderr",
     "output_type": "stream",
     "text": [
      "Compiling the C++ model\n",
      "recompiling to avoid crashing R session\n",
      "Start sampling\n"
     ]
    }
   ],
   "source": [
    "m1.1.year = brm(formula = wy ~ 1 + igdp_log + zyear + (igdp_log|ctry_year), \n",
    "           data = test,\n",
    "           iter = 2000, \n",
    "           chains = 2,\n",
    "           seed = seed, \n",
    "           prior=prior)"
   ]
  },
  {
   "cell_type": "code",
   "execution_count": 40,
   "metadata": {},
   "outputs": [
    {
     "name": "stderr",
     "output_type": "stream",
     "text": [
      "Compiling the C++ model\n",
      "recompiling to avoid crashing R session\n",
      "Start sampling\n"
     ]
    }
   ],
   "source": [
    "m1.2.year = brm(formula = wy ~ 1 + igdp_log  + iurban_log + zyear + (igdp_log|ctry_year), \n",
    "          data = test, \n",
    "          iter = 2000, \n",
    "          chains = 2, \n",
    "          seed = seed, \n",
    "          prior = prior)"
   ]
  },
  {
   "cell_type": "code",
   "execution_count": 41,
   "metadata": {},
   "outputs": [
    {
     "name": "stderr",
     "output_type": "stream",
     "text": [
      "Compiling the C++ model\n",
      "recompiling to avoid crashing R session\n",
      "Start sampling\n"
     ]
    }
   ],
   "source": [
    "m1.3.year = brm(formula = wy ~ 1 + igdp_log  + ilit_log + zyear +  (igdp_log|ctry_year), \n",
    "          data = test,\n",
    "          iter = 2000, \n",
    "          chains = 2, \n",
    "          seed = seed, \n",
    "          prior = prior)"
   ]
  },
  {
   "cell_type": "code",
   "execution_count": 42,
   "metadata": {},
   "outputs": [
    {
     "name": "stderr",
     "output_type": "stream",
     "text": [
      "Compiling the C++ model\n",
      "recompiling to avoid crashing R session\n",
      "Start sampling\n"
     ]
    }
   ],
   "source": [
    "m1.4.year = brm(formula = wy ~ 1 + igdp_log + ilit_log + iurban_log + zyear + (igdp_log|ctry_year), \n",
    "          data = test, \n",
    "          iter = 2000, \n",
    "          chains = 2, \n",
    "          seed = seed, \n",
    "          prior = prior)\n"
   ]
  },
  {
   "cell_type": "code",
   "execution_count": null,
   "metadata": {},
   "outputs": [
    {
     "name": "stderr",
     "output_type": "stream",
     "text": [
      "2 problematic observation(s) found.\n",
      "The model will be refit 2 times.\n",
      "\n",
      "Fitting model 1 out of 2 (leaving out observation 651)\n",
      "Start sampling\n",
      "\n",
      "Fitting model 2 out of 2 (leaving out observation 1443)\n",
      "Start sampling\n",
      "2 problematic observation(s) found.\n",
      "The model will be refit 2 times.\n",
      "\n",
      "Fitting model 1 out of 2 (leaving out observation 651)\n",
      "Start sampling\n",
      "\n",
      "Fitting model 2 out of 2 (leaving out observation 1846)\n",
      "Start sampling\n"
     ]
    }
   ],
   "source": [
    "loo1.1.year = loo(m1.1.year, reloo=TRUE)\n",
    "loo1.2.year = loo(m1.2.year, reloo=TRUE)\n",
    "loo1.3.year = loo(m1.3.year, reloo=TRUE)\n",
    "loo1.4.year = loo(m1.4.year, reloo=TRUE)"
   ]
  },
  {
   "cell_type": "code",
   "execution_count": null,
   "metadata": {},
   "outputs": [],
   "source": [
    "# stacking\n",
    "models_year = list(m1.1.year, m1.2.year, m1.3.year, m1.4.year)\n",
    "ps_year = list(posterior_samples(m1.1.year), posterior_samples(m1.2.year), posterior_samples(m1.3), \n",
    "                        posterior_samples(m1.4))\n",
    "\n",
    "loo_list_year = list(loo1.1.year, loo1.2.year, loo1.3.year, loo1.4.year)\n",
    "weights_models_year = as.vector(loo_model_weights(loo_list_year))"
   ]
  },
  {
   "cell_type": "code",
   "execution_count": null,
   "metadata": {},
   "outputs": [],
   "source": [
    "test_shift_year = estimate_shift(models = models_year,\n",
    "                        ps = ps_year,\n",
    "                        weights = weights_models_year,\n",
    "                        data = test, \n",
    "                        country = 'Venezuela', \n",
    "                        cfyear = 2010, \n",
    "                        segment = '1990')"
   ]
  },
  {
   "cell_type": "code",
   "execution_count": null,
   "metadata": {},
   "outputs": [],
   "source": [
    "head(test_shift_year)"
   ]
  },
  {
   "cell_type": "code",
   "execution_count": null,
   "metadata": {},
   "outputs": [],
   "source": [
    "est_shifts_year = compute_shifts(models = models_year,\n",
    "                        ps = ps_year,\n",
    "                        weights = weights_models_year,\n",
    "                        data = test, \n",
    "                        countries = country_labels, \n",
    "                        years = c(1950, 1970, 1990, 2010))"
   ]
  },
  {
   "cell_type": "code",
   "execution_count": null,
   "metadata": {},
   "outputs": [],
   "source": [
    "head(est_shifts_year)"
   ]
  },
  {
   "cell_type": "code",
   "execution_count": null,
   "metadata": {},
   "outputs": [],
   "source": [
    "dim(est_shifts_year)"
   ]
  },
  {
   "cell_type": "code",
   "execution_count": null,
   "metadata": {},
   "outputs": [],
   "source": [
    "# save file\n",
    "fwrite(est_shifts_year, 'output/shift_1900_stacking_year.csv')"
   ]
  },
  {
   "cell_type": "code",
   "execution_count": null,
   "metadata": {},
   "outputs": [],
   "source": [
    "# gdp only\n",
    "est_shifts_year = compute_shifts(models = list(m1.1.year),\n",
    "                        data = test, \n",
    "                        countries = country_labels, \n",
    "                        years = c(1950, 1970, 1990, 2010))"
   ]
  },
  {
   "cell_type": "code",
   "execution_count": null,
   "metadata": {},
   "outputs": [],
   "source": [
    "fwrite(est_shifts_year, 'output/shift_1900_gdponly_year.csv')"
   ]
  },
  {
   "cell_type": "markdown",
   "metadata": {},
   "source": [
    "## LE individual models, 1900+, autocorrelation adjustment\n",
    "\n",
    "- These models take so long to run, specially the LOO estimates, so I am not running stacking for these models, just individual outputs. \n",
    "- Only gdp only and full model. "
   ]
  },
  {
   "cell_type": "code",
   "execution_count": 54,
   "metadata": {},
   "outputs": [
    {
     "name": "stderr",
     "output_type": "stream",
     "text": [
      "Compiling the C++ model\n",
      "recompiling to avoid crashing R session\n",
      "Start sampling\n"
     ]
    }
   ],
   "source": [
    "m1.1.auto = brm(formula = wy ~ 1 + igdp_log + (igdp_log|ctry_year), \n",
    "          autocor = cor_ar(~wy|ctry, p = 1),      \n",
    "          data = test, \n",
    "          iter = 2000, \n",
    "          chains = 2, \n",
    "          seed = seed, \n",
    "          prior = prior,\n",
    "          control=  list(adapt_delta=0.90))"
   ]
  },
  {
   "cell_type": "code",
   "execution_count": null,
   "metadata": {},
   "outputs": [
    {
     "name": "stderr",
     "output_type": "stream",
     "text": [
      "Compiling the C++ model\n",
      "recompiling to avoid crashing R session\n",
      "Start sampling\n"
     ]
    }
   ],
   "source": [
    "m1.4.auto = brm(formula = wy ~ 1 + igdp_log + ilit_log + iurban_log + (igdp_log|ctry_year), \n",
    "          autocor = cor_ar(~wy|ctry, p = 1),      \n",
    "          data = test, \n",
    "          iter = 2000, \n",
    "          chains = 2, \n",
    "          seed = seed, \n",
    "          prior = prior,\n",
    "          control=  list(adapt_delta=0.90))"
   ]
  },
  {
   "cell_type": "code",
   "execution_count": null,
   "metadata": {},
   "outputs": [],
   "source": [
    "est_shifts_out = compute_shifts(models = list(m1.1.auto),\n",
    "                        data = test, \n",
    "                        countries = country_labels, \n",
    "                        years = c(1950, 1970, 1990, 2010))\n",
    "\n",
    "fwrite(est_shifts_out, 'output/shift_1900_gdponly_autocorrelation.csv')"
   ]
  },
  {
   "cell_type": "code",
   "execution_count": null,
   "metadata": {},
   "outputs": [],
   "source": [
    "est_shifts_out = compute_shifts(models = list(m1.4.auto),\n",
    "                        data = test, \n",
    "                        countries = country_labels, \n",
    "                        years = c(1950, 1970, 1990, 2010))"
   ]
  },
  {
   "cell_type": "code",
   "execution_count": null,
   "metadata": {},
   "outputs": [],
   "source": [
    "fwrite(est_shifts_out, 'output/shift_1900_full_autocorrelation.csv')"
   ]
  },
  {
   "cell_type": "markdown",
   "metadata": {
    "toc-hr-collapsed": false
   },
   "source": [
    "# 1950 >\n",
    "\n",
    "- Important: imputation of electricy, sewage and water is via interpolation\n",
    "- The models I ran are below (i = interpolation, log = nuatural logarithm): \n",
    "\n",
    "### No time adjustment \n",
    "\n",
    "- igdp_log\n",
    "- igdp_log + iwater_log + isewage_log + ielec_log\n",
    "- igdp_log + ilit_log + iurban_log\n",
    "- igdp_log + ilit_log + iurban_log + iwater_log + isewage_log + ielec_log\n",
    "\n",
    "### (Linear) Time adjustment\n",
    "\n",
    "- igdp_log + zyear\n",
    "- igdp_log + iwater_log + isewage_log + ielec_log + zyear\n",
    "- igdp_log + ilit_log + iurban_log + zyear\n",
    "- igdp_log + ilit_log + iurban_log + iwater_log + isewage_log + ielec_log + zyear\n",
    "\n",
    "### Autocorrelation \n",
    "\n",
    "\n",
    "- igdp_log\n",
    "- igdp_log + iwater_log + isewage_log + ielec_log\n",
    "- igdp_log + ilit_log + iurban_log \n",
    "- igdp_log + ilit_log + iurban_log + iwater_log + isewage_log + ielec_log \n",
    "\n",
    "\n",
    "Note: name of the dataset `test2`"
   ]
  },
  {
   "cell_type": "code",
   "execution_count": null,
   "metadata": {},
   "outputs": [],
   "source": [
    "test2 = test[year>=1950]"
   ]
  },
  {
   "cell_type": "code",
   "execution_count": null,
   "metadata": {},
   "outputs": [],
   "source": [
    "# correlation\n",
    "cor(test2[, .(igdp_log,iwater_log,isewage_log ,ielec_log)])"
   ]
  },
  {
   "cell_type": "markdown",
   "metadata": {},
   "source": [
    "## LE stacking models, 1950+, no time adjustment"
   ]
  },
  {
   "cell_type": "code",
   "execution_count": null,
   "metadata": {},
   "outputs": [],
   "source": [
    "# set prior of betas to normal(0,5)\n",
    "prior = set_prior(\"normal(0, 5)\", class = \"b\")"
   ]
  },
  {
   "cell_type": "code",
   "execution_count": null,
   "metadata": {},
   "outputs": [],
   "source": [
    "m2.1 = brm(formula = wy ~ 1 + igdp_log + (igdp_log|ctry_year), \n",
    "           data = test,\n",
    "           iter = 2000, \n",
    "           chains = 2,\n",
    "           seed = seed, \n",
    "           prior=prior)"
   ]
  },
  {
   "cell_type": "code",
   "execution_count": null,
   "metadata": {},
   "outputs": [],
   "source": [
    "m2.2 = brm(formula = wy ~ 1 + igdp_log + ilit_log + iurban_log + (igdp_log|ctry_year), \n",
    "           data = test,\n",
    "           iter = 2000, \n",
    "           chains = 2,\n",
    "           seed = seed, \n",
    "           prior=prior)"
   ]
  },
  {
   "cell_type": "code",
   "execution_count": null,
   "metadata": {},
   "outputs": [],
   "source": [
    "m2.3 = brm(formula = wy ~ 1 + igdp_log + iwater_log + isewage_log + ielec_log + (igdp_log|ctry_year), \n",
    "           data = test,\n",
    "           iter = 2000, \n",
    "           chains = 2,\n",
    "           seed = seed, \n",
    "           prior=prior)"
   ]
  },
  {
   "cell_type": "code",
   "execution_count": null,
   "metadata": {},
   "outputs": [],
   "source": [
    "m2.4 = brm(formula = wy ~ 1 + igdp_log + ilit_log + iurban_log + iwater_log +\n",
    "            isewage_log + ielec_log + (igdp_log|ctry_year), \n",
    "           data = test,\n",
    "           iter = 2000, \n",
    "           chains = 2,\n",
    "           seed = seed, \n",
    "           prior=prior)"
   ]
  },
  {
   "cell_type": "code",
   "execution_count": null,
   "metadata": {},
   "outputs": [],
   "source": [
    "loo2.1 = loo(m2.1, reloo=TRUE)\n",
    "loo2.2 = loo(m2.2, reloo=TRUE)\n",
    "loo2.3 = loo(m2.3, reloo=TRUE)\n",
    "loo2.4 = loo(m2.4, reloo=TRUE)"
   ]
  },
  {
   "cell_type": "code",
   "execution_count": null,
   "metadata": {},
   "outputs": [],
   "source": [
    "loo_2_list_noyear = list(loo2.1, loo2.2, loo2.3, loo2.4)\n",
    "weights_models_2_noyear = as.vector(loo_model_weights(loo_2_list_noyear))\n",
    "weights_models_2_noyear"
   ]
  },
  {
   "cell_type": "code",
   "execution_count": null,
   "metadata": {},
   "outputs": [],
   "source": [
    "models_2_noyear = list(m2.1, m2.2, m2.3, m2.4)\n",
    "ps_2_noyear = list(posterior_samples(m2.1), posterior_samples(m2.2), posterior_samples(m2.3), \n",
    "                        posterior_samples(m2.4))"
   ]
  },
  {
   "cell_type": "code",
   "execution_count": null,
   "metadata": {},
   "outputs": [],
   "source": [
    "est_shifts_noyear = compute_shifts(models = models_2_noyear,\n",
    "                        ps = ps_2_noyear,\n",
    "                        weights = weights_models_2_noyear,\n",
    "                        data = test2, \n",
    "                        countries = country_labels, \n",
    "                        years = c(1970, 1990, 2010))"
   ]
  },
  {
   "cell_type": "code",
   "execution_count": null,
   "metadata": {},
   "outputs": [],
   "source": [
    "dim(est_shifts_noyear)"
   ]
  },
  {
   "cell_type": "code",
   "execution_count": null,
   "metadata": {},
   "outputs": [],
   "source": [
    "head(est_shifts_noyear)"
   ]
  },
  {
   "cell_type": "code",
   "execution_count": null,
   "metadata": {},
   "outputs": [],
   "source": [
    "# save file\n",
    "fwrite(est_shifts_noyear, 'output/shift_1950_stacking.csv')"
   ]
  },
  {
   "cell_type": "markdown",
   "metadata": {},
   "source": [
    "## LE stacking models, 1950+, time adjustment"
   ]
  },
  {
   "cell_type": "code",
   "execution_count": null,
   "metadata": {},
   "outputs": [],
   "source": [
    "m2.1.year = brm(formula = wy ~ 1 + igdp_log + zyear + (igdp_log|ctry_year), \n",
    "           data = test,\n",
    "           iter = 2000, \n",
    "           chains = 2,\n",
    "           seed = seed, \n",
    "           prior=prior)"
   ]
  },
  {
   "cell_type": "code",
   "execution_count": null,
   "metadata": {},
   "outputs": [],
   "source": [
    "m2.2.year = brm(formula = wy ~ 1 + igdp_log + ilit_log + iurban_log + zyear + (igdp_log|ctry_year), \n",
    "           data = test,\n",
    "           iter = 2000, \n",
    "           chains = 2,\n",
    "           seed = seed, \n",
    "           prior=prior)"
   ]
  },
  {
   "cell_type": "code",
   "execution_count": null,
   "metadata": {},
   "outputs": [],
   "source": [
    "m2.3.year = brm(formula = wy ~ 1 + igdp_log + iwater_log + isewage_log + ielec_log + zyear + (igdp_log|ctry_year), \n",
    "           data = test,\n",
    "           iter = 2000, \n",
    "           chains = 2,\n",
    "           seed = seed, \n",
    "           prior=prior)"
   ]
  },
  {
   "cell_type": "code",
   "execution_count": null,
   "metadata": {},
   "outputs": [],
   "source": [
    "m2.4.year = brm(formula = wy ~ 1 + igdp_log + ilit_log + iurban_log + iwater_log +\n",
    "            isewage_log + ielec_log + zyear + (igdp_log|ctry_year), \n",
    "           data = test,\n",
    "           iter = 2000, \n",
    "           chains = 2,\n",
    "           seed = seed, \n",
    "           prior=prior)"
   ]
  },
  {
   "cell_type": "code",
   "execution_count": null,
   "metadata": {},
   "outputs": [],
   "source": [
    "loo2.1.year = loo(m2.1.year, reloo=TRUE)\n",
    "loo2.2.year = loo(m2.2.year, reloo=TRUE)\n",
    "loo2.3.year = loo(m2.3.year, reloo=TRUE)\n",
    "loo2.4.year = loo(m2.4.year, reloo=TRUE)"
   ]
  },
  {
   "cell_type": "code",
   "execution_count": null,
   "metadata": {},
   "outputs": [],
   "source": [
    "loo_2_list_year = list(loo2.1.year, loo2.2.year, loo2.3.year, loo2.4.year)\n",
    "weights_models_2_year = as.vector(loo_model_weights(loo_2_list_year))\n",
    "weights_models_2_year"
   ]
  },
  {
   "cell_type": "code",
   "execution_count": null,
   "metadata": {},
   "outputs": [],
   "source": [
    "models_2_year = list(m2.1.year, m2.2.year, m2.3.year, m2.4.year)\n",
    "ps_2_year = list(posterior_samples(m2.1.year), posterior_samples(m2.2.year), posterior_samples(m2.3.year), \n",
    "                        posterior_samples(m2.4.year))"
   ]
  },
  {
   "cell_type": "code",
   "execution_count": null,
   "metadata": {},
   "outputs": [],
   "source": [
    "est_shifts_year = compute_shifts(models = models_2_year,\n",
    "                        ps = ps_2_year,\n",
    "                        weights = weights_models_2_year,\n",
    "                        data = test2, \n",
    "                        countries = country_labels, \n",
    "                        years = c(1970, 1990, 2010))"
   ]
  },
  {
   "cell_type": "code",
   "execution_count": null,
   "metadata": {},
   "outputs": [],
   "source": [
    "head(est_shifts_year)"
   ]
  },
  {
   "cell_type": "code",
   "execution_count": null,
   "metadata": {},
   "outputs": [],
   "source": [
    "dim(est_shifts_year)"
   ]
  },
  {
   "cell_type": "code",
   "execution_count": null,
   "metadata": {},
   "outputs": [],
   "source": [
    "# save file\n",
    "fwrite(est_shifts_year, 'output/shift_1950_stacking_year.csv')"
   ]
  },
  {
   "cell_type": "markdown",
   "metadata": {},
   "source": [
    "## LE individual models, 1950+, autocorrelation adjustment"
   ]
  },
  {
   "cell_type": "code",
   "execution_count": null,
   "metadata": {},
   "outputs": [],
   "source": [
    "m2.1.auto = brm(formula = wy ~ 1 + igdp_log + (igdp_log|ctry_year), \n",
    "          autocor = cor_ar(~wy|ctry, p = 1),      \n",
    "          data = test, \n",
    "          iter = 2000, \n",
    "          chains = 2, \n",
    "          seed = seed, \n",
    "          prior = prior,\n",
    "          control=  list(adapt_delta=0.90))"
   ]
  },
  {
   "cell_type": "code",
   "execution_count": null,
   "metadata": {},
   "outputs": [],
   "source": [
    "m2.4.auto = brm(formula = wy ~ 1 + igdp_log + ilit_log + iurban_log + iwater_log +\n",
    "            isewage_log + ielec_log + (igdp_log|ctry_year), \n",
    "          autocor = cor_ar(~wy|ctry, p = 1),      \n",
    "          data = test, \n",
    "          iter = 2000, \n",
    "          chains = 2, \n",
    "          seed = seed, \n",
    "          prior = prior,\n",
    "          control=  list(adapt_delta=0.90))"
   ]
  },
  {
   "cell_type": "code",
   "execution_count": null,
   "metadata": {},
   "outputs": [],
   "source": [
    "est_shifts_out = compute_shifts(models = list(m2.1.auto),\n",
    "                        data = test2, \n",
    "                        countries = country_labels, \n",
    "                        years = c(1970, 1990, 2010))\n",
    "\n",
    "fwrite(est_shifts_out, 'output/shift_1950_gdponly_autocorrelation.csv')"
   ]
  },
  {
   "cell_type": "code",
   "execution_count": null,
   "metadata": {},
   "outputs": [],
   "source": [
    "dim(est_shifts_out)"
   ]
  },
  {
   "cell_type": "code",
   "execution_count": null,
   "metadata": {},
   "outputs": [],
   "source": [
    "est_shifts_out = compute_shifts(models = list(m2.4.auto),\n",
    "                        data = test2, \n",
    "                        countries = country_labels, \n",
    "                        years = c(1970, 1990, 2010))\n",
    "\n",
    "fwrite(est_shifts_out, 'output/shift_1950_full_autocorrelation.csv')"
   ]
  },
  {
   "cell_type": "code",
   "execution_count": null,
   "metadata": {},
   "outputs": [],
   "source": [
    "dim(est_shifts_out)"
   ]
  },
  {
   "cell_type": "code",
   "execution_count": null,
   "metadata": {},
   "outputs": [],
   "source": [
    "head(est_shifts_out)"
   ]
  },
  {
   "cell_type": "code",
   "execution_count": null,
   "metadata": {},
   "outputs": [],
   "source": []
  }
 ],
 "metadata": {
  "kernelspec": {
   "display_name": "R",
   "language": "R",
   "name": "ir"
  },
  "language_info": {
   "codemirror_mode": "r",
   "file_extension": ".r",
   "mimetype": "text/x-r-source",
   "name": "R",
   "pygments_lexer": "r",
   "version": "3.5.0"
  },
  "toc-showcode": false,
  "toc-showmarkdowntxt": true
 },
 "nbformat": 4,
 "nbformat_minor": 2
}
