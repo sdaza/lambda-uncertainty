{
 "cells": [
  {
   "cell_type": "markdown",
   "metadata": {},
   "source": [
    "# Model Ensemble: Toy example"
   ]
  },
  {
   "cell_type": "markdown",
   "metadata": {},
   "source": [
    "1. The goal of this exercise is to combine different models and get uncertainty of estimates using an **ensemble model**.\n",
    "2. We predict the median LE (data = `LA_uncertainty.dta`) just to simplify. \n",
    "3. We use three different regression models: Ridge, Random Forest, K-Neighbors. We can include others later (e.g., logistic or boxcox).\n",
    "4. The estimate is the first different in LE of increasing GDP by one standard deviation. "
   ]
  },
  {
   "cell_type": "code",
   "execution_count": 2,
   "metadata": {},
   "outputs": [],
   "source": [
    "# load packages\n",
    "from sklearn.base import TransformerMixin\n",
    "from sklearn.datasets import make_regression\n",
    "from sklearn.pipeline import Pipeline, FeatureUnion\n",
    "from sklearn.model_selection import train_test_split\n",
    "from sklearn.ensemble import RandomForestRegressor\n",
    "from sklearn.neighbors import KNeighborsRegressor\n",
    "from sklearn.preprocessing import StandardScaler, PolynomialFeatures\n",
    "from sklearn.linear_model import LinearRegression, Ridge\n",
    "from sklearn.utils import resample\n",
    "import sklearn.metrics as met\n",
    "\n",
    "import numpy as np\n",
    "import pandas as pd\n",
    "import collections\n",
    "\n",
    "from sklearn_pandas import DataFrameMapper, cross_val_score\n",
    "from utils import utils as f # my functions\n",
    "import matplotlib.pyplot as plt\n",
    "import seaborn as sns\n",
    "sns.set(color_codes=True)\n",
    "\n",
    "%matplotlib inline"
   ]
  },
  {
   "cell_type": "code",
   "execution_count": 2,
   "metadata": {},
   "outputs": [],
   "source": []
  },
  {
   "cell_type": "markdown",
   "metadata": {},
   "source": [
    "Here it is the definition of classes and models:"
   ]
  },
  {
   "cell_type": "code",
   "execution_count": 220,
   "metadata": {},
   "outputs": [],
   "source": [
    "# define model transformers\n",
    "\n",
    "# class LinearTransformer(LinearRegression, TransformerMixin):\n",
    "\n",
    "#     def transform(self, X, *_):\n",
    "#         return self.predict(X).reshape(-1,1)\n",
    "    \n",
    "class RidgeTransformer(Ridge, TransformerMixin):\n",
    "\n",
    "    def transform(self, X, *_):\n",
    "        pred = self.predict(X)\n",
    "        if len(pred.shape) > 1:\n",
    "            return self.predict(X)\n",
    "        else:\n",
    "            return self.predict(X).reshape(-1,1)\n",
    "\n",
    "class RandomForestTransformer(RandomForestRegressor, TransformerMixin):\n",
    "\n",
    "    def transform(self, X, *_):\n",
    "        pred = self.predict(X)\n",
    "        if len(pred.shape) > 1:\n",
    "            return self.predict(X)\n",
    "        else:\n",
    "            return self.predict(X).reshape(-1,1)\n",
    "\n",
    "class KNeighborsTransformer(KNeighborsRegressor, TransformerMixin):\n",
    "\n",
    "    def transform(self, X, *_):\n",
    "        pred = self.predict(X)\n",
    "        if len(pred.shape) > 1:\n",
    "            return self.predict(X)\n",
    "        else:\n",
    "            return self.predict(X).reshape(-1,1)"
   ]
  },
  {
   "cell_type": "markdown",
   "metadata": {},
   "source": [
    "We combine predictions generated from these models and use them to **predict** the actual outcome. We weight those predictions using linear regression, although we could use any other model (e.g., random forest, xgboost). For now, let's keep it simple. \n",
    "\n",
    "- For Ridge regression, GDP is first standardized, and then polynomial transformations of features were computed.\n",
    "- Random Forest and K-Neighbors use the default set up. "
   ]
  },
  {
   "cell_type": "code",
   "execution_count": 205,
   "metadata": {},
   "outputs": [],
   "source": [
    "# function to create model\n",
    "def build_model():\n",
    "\n",
    "#     linear_regression = Pipeline(steps=[\n",
    "#         ('scaler', StandardScaler()),\n",
    "#         ('linear', LinearTransformer())\n",
    "#     ])\n",
    "\n",
    "    ridge_transformer = Pipeline(steps=[\n",
    "        ('scaler', StandardScaler()),\n",
    "        ('poly_feats', PolynomialFeatures()),\n",
    "        ('ridge', RidgeTransformer())\n",
    "    ])\n",
    "    \n",
    "    pred_union = FeatureUnion(\n",
    "        transformer_list=[\n",
    "#             ('linear_reg', linear_regression),\n",
    "            ('ridge', ridge_transformer),\n",
    "            ('rand_forest', RandomForestTransformer()),\n",
    "            ('knn', KNeighborsTransformer())\n",
    "        ],\n",
    "    )\n",
    "\n",
    "    # return combination of predictions\n",
    "    model = Pipeline(steps=[\n",
    "        ('pred_union', pred_union),\n",
    "        ('lin_regr', LinearRegression()) # linear combination\n",
    "    ])\n",
    "\n",
    "    return model"
   ]
  },
  {
   "cell_type": "markdown",
   "metadata": {},
   "source": [
    "# Uncertainty LE estimates"
   ]
  },
  {
   "cell_type": "markdown",
   "metadata": {},
   "source": [
    "We resample 1000 distribution of LE estimates. The sampling is proportional to columns `pr_est`: values with highest `pr_est` have a highest change to be in the sample.  "
   ]
  },
  {
   "cell_type": "code",
   "execution_count": 188,
   "metadata": {},
   "outputs": [],
   "source": [
    "df = pd.read_stata('../data/LA_uncertainty.dta')"
   ]
  },
  {
   "cell_type": "code",
   "execution_count": 189,
   "metadata": {},
   "outputs": [],
   "source": [
    "df = df.dropna(subset=['median', 'gdp_pc'])"
   ]
  },
  {
   "cell_type": "code",
   "execution_count": 190,
   "metadata": {},
   "outputs": [],
   "source": [
    "df.reset_index(drop=True, inplace=True)"
   ]
  },
  {
   "cell_type": "code",
   "execution_count": 70,
   "metadata": {},
   "outputs": [],
   "source": [
    "# function to sample LE estimates (1000)\n",
    "def sampling_le(data, estimate='^est', prob='^pr_est', samples=1000): \n",
    "    \n",
    "    d = data.copy()\n",
    "    est = d.filter(regex=estimate)\n",
    "    prob = d.filter(regex=prob)\n",
    "    nrows = est.shape[0]\n",
    "    \n",
    "    matrix = np.empty(shape=[nrows, samples])\n",
    "    \n",
    "    for s in range(samples):\n",
    "        if s % 200 == 0:\n",
    "            print('Iteration: ' + str(s))\n",
    "        col = []\n",
    "        for row in range(nrows):\n",
    "            e = est.iloc[row,:].dropna()\n",
    "            if len(e)==1:\n",
    "                col.append(e.values)\n",
    "            if len(e)>1:\n",
    "                names = list(e.index)\n",
    "                for n in names: \n",
    "                    names[names.index(n)] = 'pr_'+ n\n",
    "                p = prob.loc[row,names].values\n",
    "                col.append(e.sample(n=1, weights=p).values)\n",
    "        matrix[:,s] = col\n",
    "    return matrix"
   ]
  },
  {
   "cell_type": "code",
   "execution_count": 71,
   "metadata": {},
   "outputs": [
    {
     "name": "stdout",
     "output_type": "stream",
     "text": [
      "Iteration: 0\n",
      "Iteration: 200\n",
      "Iteration: 400\n",
      "Iteration: 600\n",
      "Iteration: 800\n"
     ]
    }
   ],
   "source": [
    "m = sampling_le(df)"
   ]
  },
  {
   "cell_type": "code",
   "execution_count": 372,
   "metadata": {},
   "outputs": [
    {
     "data": {
      "text/plain": [
       "Counter({54.239997863769531: 389, 58.87591552734375: 611})"
      ]
     },
     "execution_count": 372,
     "metadata": {},
     "output_type": "execute_result"
    }
   ],
   "source": [
    "# checking sampling\n",
    "collections.Counter(m[50,:])"
   ]
  },
  {
   "cell_type": "code",
   "execution_count": 398,
   "metadata": {},
   "outputs": [
    {
     "data": {
      "text/html": [
       "<div>\n",
       "<style>\n",
       "    .dataframe thead tr:only-child th {\n",
       "        text-align: right;\n",
       "    }\n",
       "\n",
       "    .dataframe thead th {\n",
       "        text-align: left;\n",
       "    }\n",
       "\n",
       "    .dataframe tbody tr th {\n",
       "        vertical-align: top;\n",
       "    }\n",
       "</style>\n",
       "<table border=\"1\" class=\"dataframe\">\n",
       "  <thead>\n",
       "    <tr style=\"text-align: right;\">\n",
       "      <th></th>\n",
       "      <th>est12</th>\n",
       "      <th>est13</th>\n",
       "      <th>pr_est12</th>\n",
       "      <th>pr_est13</th>\n",
       "    </tr>\n",
       "  </thead>\n",
       "  <tbody>\n",
       "    <tr>\n",
       "      <th>50</th>\n",
       "      <td>54.239998</td>\n",
       "      <td>58.875916</td>\n",
       "      <td>0.65</td>\n",
       "      <td>0.95</td>\n",
       "    </tr>\n",
       "  </tbody>\n",
       "</table>\n",
       "</div>"
      ],
      "text/plain": [
       "        est12      est13  pr_est12  pr_est13\n",
       "50  54.239998  58.875916      0.65      0.95"
      ]
     },
     "execution_count": 398,
     "metadata": {},
     "output_type": "execute_result"
    }
   ],
   "source": [
    "df.loc[(df.ctry=='Brazil') & (df.year==1970), ['est12', 'est13', 'pr_est12', 'pr_est13']]"
   ]
  },
  {
   "cell_type": "code",
   "execution_count": 402,
   "metadata": {},
   "outputs": [
    {
     "data": {
      "image/png": "[encoded data removed]",
      "text/plain": [
       "<matplotlib.figure.Figure at 0x11e3e3b70>"
      ]
     },
     "metadata": {},
     "output_type": "display_data"
    }
   ],
   "source": [
    "# example\n",
    "plt.hist(m[120,:]);"
   ]
  },
  {
   "cell_type": "markdown",
   "metadata": {},
   "source": [
    "# Example\n",
    "\n",
    "### LE estimates uncertaintly \n",
    "\n",
    "Using 1000 distributions of LE estimates, let's see how estimates behave (only LE uncertaintly) using the counterfactual + 1 SD gdp."
   ]
  },
  {
   "cell_type": "code",
   "execution_count": 192,
   "metadata": {},
   "outputs": [],
   "source": [
    "X = df['gdp_pc'].values.reshape(-1,1)\n",
    "country = df['ctry']\n",
    "# year = df['year']"
   ]
  },
  {
   "cell_type": "code",
   "execution_count": 206,
   "metadata": {},
   "outputs": [],
   "source": [
    "# define training set\n",
    "X_train, X_test, y_train, y_test = train_test_split(X, \n",
    "                                                    m, \n",
    "                                                    test_size=0.20, \n",
    "                                                   random_state=123)"
   ]
  },
  {
   "cell_type": "code",
   "execution_count": 273,
   "metadata": {},
   "outputs": [],
   "source": [
    "# instance of model\n",
    "model = build_model()"
   ]
  },
  {
   "cell_type": "code",
   "execution_count": 293,
   "metadata": {},
   "outputs": [
    {
     "name": "stdout",
     "output_type": "stream",
     "text": [
      "Iteration: 0\n",
      "Iteration: 200\n",
      "Iteration: 400\n",
      "Iteration: 600\n",
      "Iteration: 800\n"
     ]
    }
   ],
   "source": [
    "# le estimate uncertainty\n",
    "nrows = X_train.shape[0]\n",
    "samples = 1000\n",
    "pred_mat = np.empty(shape=[nrows, samples])\n",
    "pred_mat_cf = np.empty(shape=[nrows, samples])\n",
    "for s in range(samples):\n",
    "    if s % 200 == 0:\n",
    "        print('Iteration: ' + str(s))\n",
    "    model.fit(X_train, y_train[:,s])\n",
    "    pred_train = model.predict(X_train)\n",
    "    pred_train_cf = model.predict(X_train + np.std(X_train))\n",
    "    pred_mat[:,s] = pred_train\n",
    "    pred_mat_cf[:,s] = pred_train_cf"
   ]
  },
  {
   "cell_type": "code",
   "execution_count": 312,
   "metadata": {},
   "outputs": [
    {
     "data": {
      "image/png": "[encoded data removed]",
      "text/plain": [
       "<matplotlib.figure.Figure at 0x13b6eb4e0>"
      ]
     },
     "metadata": {},
     "output_type": "display_data"
    }
   ],
   "source": [
    "sns.distplot(pred_mat.flatten(), label='pred observed le')\n",
    "sns.distplot(pred_mat_cf.flatten(), label='counterfactual');\n",
    "plt.add_legend()"
   ]
  },
  {
   "cell_type": "markdown",
   "metadata": {},
   "source": [
    "No big variability due to differences in the LE estimates."
   ]
  },
  {
   "cell_type": "code",
   "execution_count": 403,
   "metadata": {},
   "outputs": [],
   "source": [
    "# compute first difference and average\n",
    "diff = (pred_mat_cf - pred_mat).mean(axis=0) # estimating a mean"
   ]
  },
  {
   "cell_type": "code",
   "execution_count": 358,
   "metadata": {},
   "outputs": [
    {
     "data": {
      "image/png": "[encoded data removed]",
      "text/plain": [
       "<matplotlib.figure.Figure at 0x13b776f28>"
      ]
     },
     "metadata": {},
     "output_type": "display_data"
    }
   ],
   "source": [
    "sns.distplot(diff)\n",
    "plt.title('Uncertainty first difference due to LE estimate variability');"
   ]
  },
  {
   "cell_type": "markdown",
   "metadata": {},
   "source": [
    "### Model Uncertainty"
   ]
  },
  {
   "cell_type": "markdown",
   "metadata": {},
   "source": [
    "The easiest way to do it is to bootstrap estimates of the **first difference**. I am not sure this is *model uncertainty*, but anyways, below a pretty straightforward function to do it."
   ]
  },
  {
   "cell_type": "code",
   "execution_count": 347,
   "metadata": {},
   "outputs": [],
   "source": [
    "# bootstrap function\n",
    "def bootstrap(estimator, X, y, samples=1000, sample_size=1.0): \n",
    "    \n",
    "    # list to save results\n",
    "    stats = []\n",
    "    nrows = y.shape[0]\n",
    "    \n",
    "    # loop\n",
    "    for s in range(0, samples):\n",
    "#         if (s % 20 == 0): \n",
    "#             print('... Iteration bootstrap: ', str(s))\n",
    "        idx = np.random.choice(nrows, int(len(y)*sample_size), replace=True)\n",
    "        ty = y[idx]\n",
    "        tX = X[idx]\n",
    "        \n",
    "        model.fit(tX, ty)\n",
    "        pred = model.predict(tX)\n",
    "        pred_cf = model.predict(tX + np.std(tX))\n",
    "        stats.append(np.mean(pred_cf - pred))\n",
    "    return stats"
   ]
  },
  {
   "cell_type": "code",
   "execution_count": null,
   "metadata": {},
   "outputs": [
    {
     "name": "stdout",
     "output_type": "stream",
     "text": [
      "Iteration estimate: 0\n"
     ]
    }
   ],
   "source": [
    "# run bootstrap for 1000 LE estimates\n",
    "bootstraps = 1000\n",
    "le_estimates = 1000\n",
    "diff_mat = np.empty(shape=[bootstraps, le_estimates])\n",
    "\n",
    "for v in range(le_estimates):\n",
    "    if v % 10 == 0:\n",
    "        print('Iteration estimate: ' + str(v))\n",
    "    y_temp = y_train[:,v]\n",
    "    diff_mat[:,v] = bootstrap(model, X_train, y_temp, samples=bootstraps)"
   ]
  },
  {
   "cell_type": "code",
   "execution_count": 362,
   "metadata": {},
   "outputs": [
    {
     "data": {
      "image/png": "[encoded data removed]",
      "text/plain": [
       "<matplotlib.figure.Figure at 0x10e23d048>"
      ]
     },
     "metadata": {},
     "output_type": "display_data"
    }
   ],
   "source": [
    "sns.distplot(diff_mat.flatten())\n",
    "plt.title('Uncertainty first difference LE estimate + model variability');"
   ]
  }
 ],
 "metadata": {
  "kernelspec": {
   "display_name": "Python 3",
   "language": "python",
   "name": "python3"
  },
  "language_info": {
   "codemirror_mode": {
    "name": "ipython",
    "version": 3
   },
   "file_extension": ".py",
   "mimetype": "text/x-python",
   "name": "python",
   "nbconvert_exporter": "python",
   "pygments_lexer": "ipython3",
   "version": "3.6.4"
  }
 },
 "nbformat": 4,
 "nbformat_minor": 2
}
