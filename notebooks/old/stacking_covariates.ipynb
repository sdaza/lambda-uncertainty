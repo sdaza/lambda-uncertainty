{
 "cells": [
  {
   "cell_type": "markdown",
   "metadata": {},
   "source": [
    "# LE Shifts and Lags using covariates and model averaging (stacking)\n",
    "\n",
    "## Some definitions\n",
    "\n",
    "- Define set of priors (for reproducibility)\n",
    "     - I am using `prior = set_prior(\"normal(0, 5)\", class = \"b\")` for all betas.\n",
    "     - 2000 iterations and 2 chains\n",
    "- Set seed: 850091718\n",
    "\n",
    "## Nomenclature\n",
    "\n",
    "- m1 = LE 1900 models\n",
    "- m2 = LE 1950 models\n",
    "- m3 = Cause of death 1900 models\n",
    "- m4 = Cause of death 1950 models"
   ]
  },
  {
   "cell_type": "code",
   "execution_count": 1,
   "metadata": {},
   "outputs": [
    {
     "name": "stderr",
     "output_type": "stream",
     "text": [
      "here() starts at /Users/sebastiandaza/Documents/papers/lambda\n",
      "Loading required package: data.table\n",
      "Loading required package: knitr\n",
      "Loading required package: miceadds\n",
      "Loading required package: mice\n",
      "Loading required package: lattice\n",
      "* miceadds 2.10-14 (2018-03-29 14:47:31)\n",
      "Loading required package: Rcpp\n",
      "Loading 'brms' package (version 2.5.0). Useful instructions\n",
      "can be found by typing help('brms'). A more detailed introduction\n",
      "to the package is available through vignette('brms_overview').\n",
      "Run theme_set(theme_default()) to use the default bayesplot theme.\n",
      "\n",
      "Attaching package: ‘brms’\n",
      "\n",
      "The following object is masked from ‘package:sdazar’:\n",
      "\n",
      "    mi\n",
      "\n",
      "Version:  1.36.23\n",
      "Date:     2017-03-03\n",
      "Author:   Philip Leifeld (University of Glasgow)\n",
      "\n",
      "Please cite the JSS article in your publications -- see citation(\"texreg\").\n"
     ]
    }
   ],
   "source": [
    "library(here)\n",
    "library(haven)\n",
    "library(sdazar)\n",
    "library(data.table)\n",
    "library(ggplot2)\n",
    "library(stringr)\n",
    "library(brms)\n",
    "options(mc.cores = parallel::detectCores()-2)\n",
    "library(imputeTS)\n",
    "# library(stringr)\n",
    "# library(ggridges)\n",
    "# library(patchwork)\n",
    "options(repr.plot.width = 5, repr.plot.height = 3)\n",
    "library(texreg)\n",
    "seed = 850091718"
   ]
  },
  {
   "cell_type": "code",
   "execution_count": 2,
   "metadata": {},
   "outputs": [],
   "source": [
    "# functions \n",
    "\n",
    "source('functions.R')\n",
    "\n",
    "# estimate_shift"
   ]
  },
  {
   "cell_type": "code",
   "execution_count": 3,
   "metadata": {},
   "outputs": [
    {
     "data": {},
     "metadata": {},
     "output_type": "display_data"
    }
   ],
   "source": [
    "# load data\n",
    "df = data.table(read_stata('../data/Ex_LA1850-2013_SES_ABBREVIATED_april-3-2018.dta'))\n",
    "\n",
    "country_labels = c(\"Argentina\", \"Bolivia\", \"Brazil\", \"Chile\", \"Colombia\", \n",
    "                   \"Costa_Rica\", \"Cuba\", \"Dominican_Republic\", \"Ecuador\", \n",
    "                   \"El_Salvador\", \"Guatemala\", \"Honduras\", \"Mexico\", \"Nicaragua\", \n",
    "                   \"Panama\", \"Paraguay\", \"Peru\", \"Uruguay\", \"Venezuela\")\n",
    "\n",
    "df[, ctry := factor(ctry, labels=country_labels)]"
   ]
  },
  {
   "cell_type": "markdown",
   "metadata": {},
   "source": [
    "# Only male-female average and records since 1900"
   ]
  },
  {
   "cell_type": "code",
   "execution_count": 4,
   "metadata": {},
   "outputs": [
    {
     "name": "stdout",
     "output_type": "stream",
     "text": [
      "       bf      elec       lsi       lit   extFund      gini     water    sewage \n",
      "    0.977     0.951     0.922     0.852     0.844     0.820     0.775     0.773 \n",
      "healthGdp     polio       bcg      dpt1      dpt3      mcv1     urban       tfr \n",
      "    0.709     0.681     0.681     0.681     0.681     0.681     0.451     0.445 \n",
      "   us_aid    gdp_pc \n",
      "    0.360     0.103 \n"
     ]
    }
   ],
   "source": [
    "# covariates = names(df)[10:28]\n",
    "# print(covariates)\n",
    "covariates = c(\"gdp_pc\", \"urban\", \"elec\", \"lit\" ,\"water\" ,\"sewage\" ,\"gini\" ,\n",
    "               \"tfr\" ,\"bf\" ,\"extFund\" ,\"healthGdp\" ,\"lsi\" ,\"polio\" ,\"bcg\" ,\"dpt1\" ,\"dpt3\" ,\"mcv1\" ,\n",
    "               \"us_aid\" ,\"lunion\")\n",
    "# life expectancy 0, tseries == 2 \n",
    "\n",
    "c = df[tseries2==1 & age==0 & year>=1900, lapply(.SD,Max), \n",
    "       .SDcols=covariates, by=.(ctry, year)]\n",
    "\n",
    "le = df[tseries2==1 & age==0 & year>=1900, .(Ex=Mean(Ex)), by=.(ctry, year)]\n",
    "\n",
    "# check\n",
    "# (nrow(c) + nrow(le))/2\n",
    "\n",
    "dt = merge(c, le, by=c('ctry', 'year'))\n",
    "\n",
    "# missing data\n",
    "print(countmis(dt))"
   ]
  },
  {
   "cell_type": "markdown",
   "metadata": {},
   "source": [
    "### Define dataset"
   ]
  },
  {
   "cell_type": "code",
   "execution_count": 5,
   "metadata": {},
   "outputs": [],
   "source": [
    "test = dt[year>=1900, .(ctry, year, gdp_pc, urban, lit, Ex, water, sewage, elec, us_aid, tfr)]"
   ]
  },
  {
   "cell_type": "code",
   "execution_count": 6,
   "metadata": {},
   "outputs": [
    {
     "data": {},
     "metadata": {},
     "output_type": "display_data"
    },
    {
     "data": {},
     "metadata": {},
     "output_type": "display_data"
    },
    {
     "data": {},
     "metadata": {},
     "output_type": "display_data"
    },
    {
     "data": {},
     "metadata": {},
     "output_type": "display_data"
    },
    {
     "data": {},
     "metadata": {},
     "output_type": "display_data"
    },
    {
     "data": {},
     "metadata": {},
     "output_type": "display_data"
    },
    {
     "data": {},
     "metadata": {},
     "output_type": "display_data"
    },
    {
     "data": {},
     "metadata": {},
     "output_type": "display_data"
    }
   ],
   "source": [
    "# year recode based on the criteria proposed by Alberto\n",
    "test[year<1950, gyear:='1950']\n",
    "test[year>=1950 & year<1970, gyear:='1950-1969']\n",
    "test[year>=1970 & year<1990, gyear:='1970-1989']\n",
    "test[year>=1990, gyear :='1990']\n",
    "# # test[, gyear := factor(gyear, levels=1:4, labels=c('1950', '1950-1969', '1970-1989', '1990'))]\n",
    "\n",
    "# transform variable: weibull\n",
    "test[, y := Ex/max(Ex+1.05), by = ctry] # adjustment is by country!\n",
    "test[, wy := log(-log(1-y))]\n",
    "test[, max_le := max(Ex+1.05), by = ctry] # to recover values later\n",
    "test[, ctry_year := paste0(ctry,'.', gyear)]"
   ]
  },
  {
   "cell_type": "code",
   "execution_count": 7,
   "metadata": {},
   "outputs": [
    {
     "data": {
      "text/html": [
       "<table>\n",
       "<thead><tr><th scope=col>ctry</th><th scope=col>year</th><th scope=col>gdp_pc</th><th scope=col>urban</th><th scope=col>lit</th><th scope=col>Ex</th><th scope=col>water</th><th scope=col>sewage</th><th scope=col>elec</th><th scope=col>us_aid</th><th scope=col>tfr</th><th scope=col>gyear</th><th scope=col>y</th><th scope=col>wy</th><th scope=col>max_le</th><th scope=col>ctry_year</th></tr></thead>\n",
       "<tbody>\n",
       "\t<tr><td>Argentina     </td><td>1900          </td><td>2875.352      </td><td>NA            </td><td>51            </td><td>36.25867      </td><td>NA            </td><td>NA            </td><td>NA            </td><td>NA            </td><td>NA            </td><td>1950          </td><td>0.4762391     </td><td>-0.4358419    </td><td>76.13545      </td><td>Argentina.1950</td></tr>\n",
       "\t<tr><td>Argentina     </td><td>1901          </td><td>2880.387      </td><td>NA            </td><td>NA            </td><td>36.63120      </td><td>NA            </td><td>NA            </td><td>NA            </td><td>NA            </td><td>NA            </td><td>1950          </td><td>0.4811320     </td><td>-0.4214333    </td><td>76.13545      </td><td>Argentina.1950</td></tr>\n",
       "\t<tr><td>Argentina     </td><td>1902          </td><td>2716.507      </td><td>NA            </td><td>NA            </td><td>37.00985      </td><td>NA            </td><td>NA            </td><td>NA            </td><td>NA            </td><td>NA            </td><td>1950          </td><td>0.4861054     </td><td>-0.4068604    </td><td>76.13545      </td><td>Argentina.1950</td></tr>\n",
       "\t<tr><td>Argentina     </td><td>1903          </td><td>2992.315      </td><td>NA            </td><td>NA            </td><td>37.39479      </td><td>NA            </td><td>NA            </td><td>NA            </td><td>NA            </td><td>NA            </td><td>1950          </td><td>0.4911614     </td><td>-0.3921179    </td><td>76.13545      </td><td>Argentina.1950</td></tr>\n",
       "\t<tr><td>Argentina     </td><td>1904          </td><td>3191.040      </td><td>NA            </td><td>NA            </td><td>37.82295      </td><td>NA            </td><td>NA            </td><td>NA            </td><td>NA            </td><td>NA            </td><td>1950          </td><td>0.4967851     </td><td>-0.3758025    </td><td>76.13545      </td><td>Argentina.1950</td></tr>\n",
       "\t<tr><td>Argentina     </td><td>1905          </td><td>3478.617      </td><td>NA            </td><td>NA            </td><td>38.48985      </td><td>NA            </td><td>NA            </td><td>NA            </td><td>NA            </td><td>NA            </td><td>1950          </td><td>0.5055445     </td><td>-0.3505536    </td><td>76.13545      </td><td>Argentina.1950</td></tr>\n",
       "</tbody>\n",
       "</table>\n"
      ],
      "text/latex": [
       "\\begin{tabular}{r|llllllllllllllll}\n",
       " ctry & year & gdp\\_pc & urban & lit & Ex & water & sewage & elec & us\\_aid & tfr & gyear & y & wy & max\\_le & ctry\\_year\\\\\n",
       "\\hline\n",
       "\t Argentina      & 1900           & 2875.352       & NA             & 51             & 36.25867       & NA             & NA             & NA             & NA             & NA             & 1950           & 0.4762391      & -0.4358419     & 76.13545       & Argentina.1950\\\\\n",
       "\t Argentina      & 1901           & 2880.387       & NA             & NA             & 36.63120       & NA             & NA             & NA             & NA             & NA             & 1950           & 0.4811320      & -0.4214333     & 76.13545       & Argentina.1950\\\\\n",
       "\t Argentina      & 1902           & 2716.507       & NA             & NA             & 37.00985       & NA             & NA             & NA             & NA             & NA             & 1950           & 0.4861054      & -0.4068604     & 76.13545       & Argentina.1950\\\\\n",
       "\t Argentina      & 1903           & 2992.315       & NA             & NA             & 37.39479       & NA             & NA             & NA             & NA             & NA             & 1950           & 0.4911614      & -0.3921179     & 76.13545       & Argentina.1950\\\\\n",
       "\t Argentina      & 1904           & 3191.040       & NA             & NA             & 37.82295       & NA             & NA             & NA             & NA             & NA             & 1950           & 0.4967851      & -0.3758025     & 76.13545       & Argentina.1950\\\\\n",
       "\t Argentina      & 1905           & 3478.617       & NA             & NA             & 38.48985       & NA             & NA             & NA             & NA             & NA             & 1950           & 0.5055445      & -0.3505536     & 76.13545       & Argentina.1950\\\\\n",
       "\\end{tabular}\n"
      ],
      "text/markdown": [
       "\n",
       "ctry | year | gdp_pc | urban | lit | Ex | water | sewage | elec | us_aid | tfr | gyear | y | wy | max_le | ctry_year | \n",
       "|---|---|---|---|---|---|\n",
       "| Argentina      | 1900           | 2875.352       | NA             | 51             | 36.25867       | NA             | NA             | NA             | NA             | NA             | 1950           | 0.4762391      | -0.4358419     | 76.13545       | Argentina.1950 | \n",
       "| Argentina      | 1901           | 2880.387       | NA             | NA             | 36.63120       | NA             | NA             | NA             | NA             | NA             | 1950           | 0.4811320      | -0.4214333     | 76.13545       | Argentina.1950 | \n",
       "| Argentina      | 1902           | 2716.507       | NA             | NA             | 37.00985       | NA             | NA             | NA             | NA             | NA             | 1950           | 0.4861054      | -0.4068604     | 76.13545       | Argentina.1950 | \n",
       "| Argentina      | 1903           | 2992.315       | NA             | NA             | 37.39479       | NA             | NA             | NA             | NA             | NA             | 1950           | 0.4911614      | -0.3921179     | 76.13545       | Argentina.1950 | \n",
       "| Argentina      | 1904           | 3191.040       | NA             | NA             | 37.82295       | NA             | NA             | NA             | NA             | NA             | 1950           | 0.4967851      | -0.3758025     | 76.13545       | Argentina.1950 | \n",
       "| Argentina      | 1905           | 3478.617       | NA             | NA             | 38.48985       | NA             | NA             | NA             | NA             | NA             | 1950           | 0.5055445      | -0.3505536     | 76.13545       | Argentina.1950 | \n",
       "\n",
       "\n"
      ],
      "text/plain": [
       "  ctry      year gdp_pc   urban lit Ex       water sewage elec us_aid tfr gyear\n",
       "1 Argentina 1900 2875.352 NA    51  36.25867 NA    NA     NA   NA     NA  1950 \n",
       "2 Argentina 1901 2880.387 NA    NA  36.63120 NA    NA     NA   NA     NA  1950 \n",
       "3 Argentina 1902 2716.507 NA    NA  37.00985 NA    NA     NA   NA     NA  1950 \n",
       "4 Argentina 1903 2992.315 NA    NA  37.39479 NA    NA     NA   NA     NA  1950 \n",
       "5 Argentina 1904 3191.040 NA    NA  37.82295 NA    NA     NA   NA     NA  1950 \n",
       "6 Argentina 1905 3478.617 NA    NA  38.48985 NA    NA     NA   NA     NA  1950 \n",
       "  y         wy         max_le   ctry_year     \n",
       "1 0.4762391 -0.4358419 76.13545 Argentina.1950\n",
       "2 0.4811320 -0.4214333 76.13545 Argentina.1950\n",
       "3 0.4861054 -0.4068604 76.13545 Argentina.1950\n",
       "4 0.4911614 -0.3921179 76.13545 Argentina.1950\n",
       "5 0.4967851 -0.3758025 76.13545 Argentina.1950\n",
       "6 0.5055445 -0.3505536 76.13545 Argentina.1950"
      ]
     },
     "metadata": {},
     "output_type": "display_data"
    }
   ],
   "source": [
    "head(test)"
   ]
  },
  {
   "cell_type": "code",
   "execution_count": 8,
   "metadata": {},
   "outputs": [
    {
     "data": {
      "text/html": [
       "19"
      ],
      "text/latex": [
       "19"
      ],
      "text/markdown": [
       "19"
      ],
      "text/plain": [
       "[1] 19"
      ]
     },
     "metadata": {},
     "output_type": "display_data"
    }
   ],
   "source": [
    "# number of countries\n",
    "length(unique(test$ctry))"
   ]
  },
  {
   "cell_type": "markdown",
   "metadata": {},
   "source": [
    "# 1900+ model using imputed gdp, lit, urban variables (interpolation)"
   ]
  },
  {
   "cell_type": "code",
   "execution_count": 9,
   "metadata": {},
   "outputs": [
    {
     "data": {},
     "metadata": {},
     "output_type": "display_data"
    },
    {
     "data": {},
     "metadata": {},
     "output_type": "display_data"
    },
    {
     "data": {},
     "metadata": {},
     "output_type": "display_data"
    },
    {
     "data": {},
     "metadata": {},
     "output_type": "display_data"
    },
    {
     "data": {},
     "metadata": {},
     "output_type": "display_data"
    },
    {
     "data": {},
     "metadata": {},
     "output_type": "display_data"
    },
    {
     "data": {},
     "metadata": {},
     "output_type": "display_data"
    }
   ],
   "source": [
    "library(imputeTS)\n",
    "\n",
    "test = data.table(test)\n",
    "setorder(test, year)\n",
    "\n",
    "# interpolation\n",
    "test[, igdp_pc := na.interpolation(gdp_pc, option='stine'), by=ctry]\n",
    "test[, iurban := na.interpolation(urban, option='stine'), by=ctry]\n",
    "test[, ilit := na.interpolation(lit, option='stine'), by=ctry]\n",
    "test[, itfr := na.interpolation(tfr, option='stine'), by=ctry]\n",
    "\n",
    "test[, iwater := na.interpolation(water, option='stine'), by=ctry]\n",
    "test[, isewage := na.interpolation(sewage, option='stine'), by=ctry]\n",
    "test[, ielec := na.interpolation(elec, option='stine'), by=ctry]"
   ]
  },
  {
   "cell_type": "code",
   "execution_count": 10,
   "metadata": {},
   "outputs": [
    {
     "data": {
      "image/png": "[encoded data removed]",
      "text/plain": [
       "Plot with title “Visualization Imputed Values”"
      ]
     },
     "metadata": {},
     "output_type": "display_data"
    }
   ],
   "source": [
    "country = 'Bolivia'\n",
    "variable = 'gdp_pc'\n",
    "imp = paste0('i', variable)\n",
    "\n",
    "plotNA.imputations(test[ctry==country, variable, with=FALSE][[1]], \n",
    "                   test[ctry==country, imp, with=FALSE][[1]])"
   ]
  },
  {
   "cell_type": "code",
   "execution_count": 11,
   "metadata": {},
   "outputs": [
    {
     "data": {
      "image/png": "[encoded data removed]",
      "text/plain": [
       "Plot with title “Visualization Imputed Values”"
      ]
     },
     "metadata": {},
     "output_type": "display_data"
    }
   ],
   "source": [
    "country = 'Mexico'\n",
    "variable = 'gdp_pc'\n",
    "imp = paste0('i', variable)\n",
    "\n",
    "plotNA.imputations(test[ctry==country, variable, with=FALSE][[1]], \n",
    "                   test[ctry==country, imp, with=FALSE][[1]])"
   ]
  },
  {
   "cell_type": "code",
   "execution_count": 12,
   "metadata": {},
   "outputs": [
    {
     "data": {
      "image/png": "[encoded data removed]",
      "text/plain": [
       "Plot with title “Visualization Imputed Values”"
      ]
     },
     "metadata": {},
     "output_type": "display_data"
    }
   ],
   "source": [
    "country = 'Mexico'\n",
    "variable = 'lit'\n",
    "imp = paste0('i', variable)\n",
    "\n",
    "plotNA.imputations(test[ctry==country, variable, with=FALSE][[1]], \n",
    "                   test[ctry==country, imp, with=FALSE][[1]])"
   ]
  },
  {
   "cell_type": "code",
   "execution_count": 13,
   "metadata": {},
   "outputs": [
    {
     "data": {
      "image/png": "[encoded data removed]",
      "text/plain": [
       "Plot with title “Visualization Imputed Values”"
      ]
     },
     "metadata": {},
     "output_type": "display_data"
    }
   ],
   "source": [
    "country = 'Argentina'\n",
    "variable = 'sewage'\n",
    "imp = paste0('i', variable)\n",
    "\n",
    "plotNA.imputations(test[ctry==country, variable, with=FALSE][[1]], \n",
    "                   test[ctry==country, imp, with=FALSE][[1]])"
   ]
  },
  {
   "cell_type": "markdown",
   "metadata": {},
   "source": [
    "## Bayesian models using the interpolation method\n",
    "\n",
    "- Variables are centered to improve convergence"
   ]
  },
  {
   "cell_type": "code",
   "execution_count": 14,
   "metadata": {},
   "outputs": [
    {
     "data": {},
     "metadata": {},
     "output_type": "display_data"
    },
    {
     "data": {},
     "metadata": {},
     "output_type": "display_data"
    },
    {
     "data": {},
     "metadata": {},
     "output_type": "display_data"
    },
    {
     "data": {},
     "metadata": {},
     "output_type": "display_data"
    },
    {
     "data": {},
     "metadata": {},
     "output_type": "display_data"
    },
    {
     "data": {},
     "metadata": {},
     "output_type": "display_data"
    }
   ],
   "source": [
    "test[, igdp_log := scale(log(igdp_pc), scale=FALSE, center=TRUE)]\n",
    "test[, iurban_log := scale(log(iurban), scale=FALSE, center=TRUE)]\n",
    "test[, ilit_log := scale(log(ilit), scale=FALSE, center=TRUE)]\n",
    "test[, iwater_log := scale(log(iwater), scale=FALSE, center=TRUE)]\n",
    "test[, isewage_log := scale(log(isewage), scale=FALSE, center=TRUE)]\n",
    "test[, ielec_log := scale(log(isewage), scale=FALSE, center=TRUE)]"
   ]
  },
  {
   "cell_type": "code",
   "execution_count": 15,
   "metadata": {},
   "outputs": [],
   "source": [
    "# lag variables and fitering\n",
    "setorder(test, ctry, year)"
   ]
  },
  {
   "cell_type": "code",
   "execution_count": 16,
   "metadata": {},
   "outputs": [
    {
     "data": {},
     "metadata": {},
     "output_type": "display_data"
    }
   ],
   "source": [
    "# test[, lag_igdp_log := shift(igdp_log), by=ctry]\n",
    "# test[, lag_iurban_log := shift(iurban_log), by=ctry]\n",
    "# test[, lag_ilit_log := shift(ilit_log), by=ctry]\n",
    "test[, zyear := scale(year, center=TRUE, scale=TRUE)]"
   ]
  },
  {
   "cell_type": "markdown",
   "metadata": {},
   "source": [
    "# Models \n",
    "\n",
    "Important notes: \n",
    "\n",
    "- Random intercept by country and year\n",
    "- Random GDP coefficient by country and year\n",
    "- All the other covariates are fixed (unique coefficient or beta)\n",
    "- No interactions between variables\n",
    "\n",
    "# 1900"
   ]
  },
  {
   "cell_type": "markdown",
   "metadata": {},
   "source": [
    "## GDP only with different time adjustments"
   ]
  },
  {
   "cell_type": "code",
   "execution_count": 18,
   "metadata": {},
   "outputs": [],
   "source": [
    "# set prior of betas to normal(0,5)\n",
    "prior = set_prior(\"normal(0, 5)\", class = \"b\")"
   ]
  },
  {
   "cell_type": "code",
   "execution_count": 19,
   "metadata": {},
   "outputs": [
    {
     "name": "stderr",
     "output_type": "stream",
     "text": [
      "Compiling the C++ model\n"
     ]
    }
   ],
   "source": [
    "m1.1 = brm(formula = wy ~ 1 + igdp_log  + (igdp_log|ctry_year), \n",
    "           data = test,\n",
    "           iter = 2000, \n",
    "           chains = 2,\n",
    "           seed = seed, \n",
    "           prior=prior)"
   ]
  },
  {
   "cell_type": "code",
   "execution_count": 43,
   "metadata": {},
   "outputs": [
    {
     "name": "stderr",
     "output_type": "stream",
     "text": [
      "3 problematic observation(s) found.\n",
      "The model will be refit 3 times.\n",
      "\n",
      "Fitting model 1 out of 3 (leaving out observation 295)\n",
      "Start sampling\n",
      "\n",
      "Fitting model 2 out of 3 (leaving out observation 1420)\n",
      "Start sampling\n",
      "\n",
      "Fitting model 3 out of 3 (leaving out observation 1632)\n",
      "Start sampling\n"
     ]
    }
   ],
   "source": [
    "loo1.1 = loo(m1.1, reloo=TRUE)"
   ]
  },
  {
   "cell_type": "raw",
   "metadata": {},
   "source": [
    "prior_summary(m1.1)"
   ]
  },
  {
   "cell_type": "code",
   "execution_count": 147,
   "metadata": {},
   "outputs": [],
   "source": [
    "est_shifts = compute_shifts(models = list(m1.1),\n",
    "                        data = test, \n",
    "                        countries = country_labels, \n",
    "                        years = c(1950, 1970, 1990, 2010))"
   ]
  },
  {
   "cell_type": "code",
   "execution_count": 149,
   "metadata": {},
   "outputs": [
    {
     "data": {
      "text/html": [
       "<ol class=list-inline>\n",
       "\t<li>562000</li>\n",
       "\t<li>9</li>\n",
       "</ol>\n"
      ],
      "text/latex": [
       "\\begin{enumerate*}\n",
       "\\item 562000\n",
       "\\item 9\n",
       "\\end{enumerate*}\n"
      ],
      "text/markdown": [
       "1. 562000\n",
       "2. 9\n",
       "\n",
       "\n"
      ],
      "text/plain": [
       "[1] 562000      9"
      ]
     },
     "metadata": {},
     "output_type": "display_data"
    }
   ],
   "source": [
    "dim(est_shifts)"
   ]
  },
  {
   "cell_type": "code",
   "execution_count": 65,
   "metadata": {},
   "outputs": [],
   "source": [
    "fwrite(est_shifts, 'output/shift_1900_gdponly.csv')"
   ]
  },
  {
   "cell_type": "code",
   "execution_count": 130,
   "metadata": {},
   "outputs": [
    {
     "name": "stderr",
     "output_type": "stream",
     "text": [
      "Compiling the C++ model\n",
      "recompiling to avoid crashing R session\n",
      "Start sampling\n"
     ]
    }
   ],
   "source": [
    "m1.1.year = brm(formula = wy ~ 1 + igdp_log + zyear + (igdp_log|ctry_year), \n",
    "           data = test,\n",
    "           iter = 2000, \n",
    "           chains = 2,\n",
    "           seed = seed, \n",
    "           prior=prior)"
   ]
  },
  {
   "cell_type": "code",
   "execution_count": 131,
   "metadata": {},
   "outputs": [
    {
     "data": {
      "text/plain": [
       " Family: gaussian \n",
       "  Links: mu = identity; sigma = identity \n",
       "Formula: wy ~ 1 + igdp_log + zyear + (igdp_log | ctry_year) \n",
       "   Data: test (Number of observations: 1848) \n",
       "Samples: 2 chains, each with iter = 2000; warmup = 1000; thin = 1;\n",
       "         total post-warmup samples = 2000\n",
       "\n",
       "Group-Level Effects: \n",
       "~ctry_year (Number of levels: 74) \n",
       "                        Estimate Est.Error l-95% CI u-95% CI Eff.Sample Rhat\n",
       "sd(Intercept)               0.29      0.03     0.24     0.34        289 1.00\n",
       "sd(igdp_log)                0.46      0.04     0.38     0.55        517 1.01\n",
       "cor(Intercept,igdp_log)     0.17      0.12    -0.09     0.41        240 1.01\n",
       "\n",
       "Population-Level Effects: \n",
       "          Estimate Est.Error l-95% CI u-95% CI Eff.Sample Rhat\n",
       "Intercept     0.23      0.04     0.16     0.30        152 1.00\n",
       "igdp_log      0.31      0.06     0.19     0.42        362 1.01\n",
       "zyear         0.41      0.01     0.39     0.42       2000 1.00\n",
       "\n",
       "Family Specific Parameters: \n",
       "      Estimate Est.Error l-95% CI u-95% CI Eff.Sample Rhat\n",
       "sigma     0.07      0.00     0.06     0.07       2000 1.00\n",
       "\n",
       "Samples were drawn using sampling(NUTS). For each parameter, Eff.Sample \n",
       "is a crude measure of effective sample size, and Rhat is the potential \n",
       "scale reduction factor on split chains (at convergence, Rhat = 1)."
      ]
     },
     "metadata": {},
     "output_type": "display_data"
    }
   ],
   "source": [
    "summary(m1.1.year)"
   ]
  },
  {
   "cell_type": "code",
   "execution_count": 132,
   "metadata": {},
   "outputs": [
    {
     "name": "stderr",
     "output_type": "stream",
     "text": [
      "1 problematic observation(s) found.\n",
      "The model will be refit 1 times.\n",
      "\n",
      "Fitting model 1 out of 1 (leaving out observation 1420)\n",
      "Start sampling\n"
     ]
    }
   ],
   "source": [
    "loo1.1.year = loo(m1.1.year, reloo=TRUE)"
   ]
  },
  {
   "cell_type": "code",
   "execution_count": 168,
   "metadata": {},
   "outputs": [],
   "source": [
    "est_shifts_year = compute_shifts(models = list(m1.1.year),\n",
    "                        data = test, \n",
    "                        countries = country_labels, \n",
    "                        years = c(1950, 1970, 1990, 2010))"
   ]
  },
  {
   "cell_type": "code",
   "execution_count": 70,
   "metadata": {},
   "outputs": [],
   "source": [
    "fwrite(est_shifts_year, 'output/shift_1900_gdponly_year.csv')"
   ]
  },
  {
   "cell_type": "code",
   "execution_count": 21,
   "metadata": {},
   "outputs": [
    {
     "name": "stderr",
     "output_type": "stream",
     "text": [
      "Compiling the C++ model\n",
      "Start sampling\n"
     ]
    }
   ],
   "source": [
    "m1.1.auto = brm(formula = wy ~ 1 + igdp_log + (igdp_log|ctry_year), \n",
    "           autocor = cor_ar(~wy|ctry, p = 1),\n",
    "           data = test,\n",
    "           iter = 2000, \n",
    "           chains = 2,\n",
    "           seed = seed)"
   ]
  },
  {
   "cell_type": "code",
   "execution_count": 167,
   "metadata": {},
   "outputs": [
    {
     "data": {
      "text/plain": [
       " Family: gaussian \n",
       "  Links: mu = identity; sigma = identity \n",
       "Formula: wy ~ 1 + igdp_log + (igdp_log | ctry_year) \n",
       "   Data: test (Number of observations: 1848) \n",
       "Samples: 2 chains, each with iter = 2000; warmup = 1000; thin = 1;\n",
       "         total post-warmup samples = 2000\n",
       "\n",
       "Correlation Structures:\n",
       "      Estimate Est.Error l-95% CI u-95% CI Eff.Sample Rhat\n",
       "ar[1]     1.00      0.00     1.00     1.00       2000 1.00\n",
       "\n",
       "Group-Level Effects: \n",
       "~ctry_year (Number of levels: 74) \n",
       "                        Estimate Est.Error l-95% CI u-95% CI Eff.Sample Rhat\n",
       "sd(Intercept)               0.14      0.02     0.10     0.19        359 1.01\n",
       "sd(igdp_log)                0.06      0.03     0.00     0.11        336 1.00\n",
       "cor(Intercept,igdp_log)    -0.64      0.34    -0.99     0.35        469 1.00\n",
       "\n",
       "Population-Level Effects: \n",
       "          Estimate Est.Error l-95% CI u-95% CI Eff.Sample Rhat\n",
       "Intercept    -0.40      0.03    -0.45    -0.35        742 1.00\n",
       "igdp_log      0.08      0.02     0.04     0.12        778 1.00\n",
       "\n",
       "Family Specific Parameters: \n",
       "      Estimate Est.Error l-95% CI u-95% CI Eff.Sample Rhat\n",
       "sigma     0.04      0.00     0.04     0.04       2000 1.00\n",
       "\n",
       "Samples were drawn using sampling(NUTS). For each parameter, Eff.Sample \n",
       "is a crude measure of effective sample size, and Rhat is the potential \n",
       "scale reduction factor on split chains (at convergence, Rhat = 1)."
      ]
     },
     "metadata": {},
     "output_type": "display_data"
    }
   ],
   "source": [
    "summary(m1.1.auto)"
   ]
  },
  {
   "cell_type": "code",
   "execution_count": 169,
   "metadata": {},
   "outputs": [],
   "source": [
    "est_shifts_out = compute_shifts(models = list(m1.1.auto),\n",
    "                        data = test, \n",
    "                        countries = country_labels, \n",
    "                        years = c(1950, 1970, 1990, 2010))"
   ]
  },
  {
   "cell_type": "code",
   "execution_count": 170,
   "metadata": {},
   "outputs": [],
   "source": [
    "fwrite(est_shifts_out, 'output/shift_1900_gdponly_autocorrelation.csv')"
   ]
  },
  {
   "cell_type": "markdown",
   "metadata": {},
   "source": [
    "# LE stacking models, 1900+, no time adjustment"
   ]
  },
  {
   "cell_type": "code",
   "execution_count": 171,
   "metadata": {},
   "outputs": [
    {
     "name": "stderr",
     "output_type": "stream",
     "text": [
      "Compiling the C++ model\n",
      "Start sampling\n"
     ]
    }
   ],
   "source": [
    "m1.2 = brm(formula = wy ~ 1 + igdp_log  + iurban_log +  (igdp_log|ctry_year), \n",
    "          data = test, \n",
    "          iter = 2000, \n",
    "          chains = 2, \n",
    "          seed = seed, \n",
    "          prior = prior)\n",
    "\n",
    "loo1.2 = loo(m1.2, reloo=TRUE)"
   ]
  },
  {
   "cell_type": "code",
   "execution_count": 44,
   "metadata": {},
   "outputs": [],
   "source": [
    "m1.3 = brm(formula = wy ~ 1 + igdp_log  + ilit_log +  (igdp_log|ctry_year), \n",
    "          data = test,\n",
    "          iter = 2000, \n",
    "          chains = 2, \n",
    "          seed = seed, \n",
    "          prior = prior)\n",
    "\n",
    "loo1.3 = loo(m1.3, reloo=TRUE)"
   ]
  },
  {
   "cell_type": "code",
   "execution_count": 44,
   "metadata": {},
   "outputs": [],
   "source": [
    "m1.4 = brm(formula = wy ~ 1 + igdp_log + ilit_log + iurban_log + (igdp_log|ctry_year), \n",
    "          data = test, \n",
    "          iter = 2000, \n",
    "          chains = 2, \n",
    "          seed = seed, \n",
    "          prior = prior)\n",
    "\n",
    "loo1.4 = loo(m1.4, reloo=TRUE)"
   ]
  },
  {
   "cell_type": "code",
   "execution_count": 137,
   "metadata": {},
   "outputs": [
    {
     "data": {
      "text/html": [
       "<ol class=list-inline>\n",
       "\t<li>0.0141079422400594</li>\n",
       "\t<li>3.35640354385522e-07</li>\n",
       "\t<li>0.0143696814012065</li>\n",
       "\t<li>0.97152204071838</li>\n",
       "</ol>\n"
      ],
      "text/latex": [
       "\\begin{enumerate*}\n",
       "\\item 0.0141079422400594\n",
       "\\item 3.35640354385522e-07\n",
       "\\item 0.0143696814012065\n",
       "\\item 0.97152204071838\n",
       "\\end{enumerate*}\n"
      ],
      "text/markdown": [
       "1. 0.0141079422400594\n",
       "2. 3.35640354385522e-07\n",
       "3. 0.0143696814012065\n",
       "4. 0.97152204071838\n",
       "\n",
       "\n"
      ],
      "text/plain": [
       "[1] 1.410794e-02 3.356404e-07 1.436968e-02 9.715220e-01"
      ]
     },
     "metadata": {},
     "output_type": "display_data"
    }
   ],
   "source": [
    "# stacking\n",
    "loo_list_noyear = list(loo1.1, loo1.2, loo1.3, loo1.4)\n",
    "weights_models_noyear = as.vector(loo_model_weights(loo_list_noyear))\n",
    "weights_models_noyear"
   ]
  },
  {
   "cell_type": "code",
   "execution_count": 19,
   "metadata": {},
   "outputs": [],
   "source": [
    "# # export posterior values \n",
    "# s = posterior_samples(m1.1)\n",
    "# fwrite(s, 'output/posterior_samples_gdp_only.csv')-"
   ]
  },
  {
   "cell_type": "code",
   "execution_count": 138,
   "metadata": {},
   "outputs": [],
   "source": [
    "models_noyear = list(m1.1, m1.2, m1.3, m1.4)\n",
    "ps_noyear = list(posterior_samples(m1.1), posterior_samples(m1.2), posterior_samples(m1.3), \n",
    "                        posterior_samples(m1.4))"
   ]
  },
  {
   "cell_type": "code",
   "execution_count": 139,
   "metadata": {},
   "outputs": [],
   "source": [
    "test_shift_noyear = estimate_shift(models = models_noyear,\n",
    "                        ps = ps_noyear,\n",
    "                        weights = weights_models_noyear,\n",
    "                        data = test, \n",
    "                        country = 'Venezuela', \n",
    "                        cfyear = 2010, \n",
    "                        segment = '1990')"
   ]
  },
  {
   "cell_type": "code",
   "execution_count": 145,
   "metadata": {},
   "outputs": [],
   "source": [
    "est_shifts_noyear = compute_shifts(models = models_noyear,\n",
    "                        ps = ps_noyear,\n",
    "                        weights = weights_models_noyear,\n",
    "                        data = test, \n",
    "                        countries = country_labels, \n",
    "                        years = c(1950, 1970, 1990, 2010))"
   ]
  },
  {
   "cell_type": "code",
   "execution_count": 150,
   "metadata": {},
   "outputs": [
    {
     "data": {
      "text/html": [
       "<ol class=list-inline>\n",
       "\t<li>562000</li>\n",
       "\t<li>9</li>\n",
       "</ol>\n"
      ],
      "text/latex": [
       "\\begin{enumerate*}\n",
       "\\item 562000\n",
       "\\item 9\n",
       "\\end{enumerate*}\n"
      ],
      "text/markdown": [
       "1. 562000\n",
       "2. 9\n",
       "\n",
       "\n"
      ],
      "text/plain": [
       "[1] 562000      9"
      ]
     },
     "metadata": {},
     "output_type": "display_data"
    }
   ],
   "source": [
    "dim(est_shifts_noyear)"
   ]
  },
  {
   "cell_type": "code",
   "execution_count": 142,
   "metadata": {},
   "outputs": [],
   "source": [
    "# save file\n",
    "fwrite(est_shifts_noyear, 'output/shift_1900_stacking.csv')"
   ]
  },
  {
   "cell_type": "markdown",
   "metadata": {},
   "source": [
    "# LE stacking models, 1900+, linear adjustment of time"
   ]
  },
  {
   "cell_type": "code",
   "execution_count": 151,
   "metadata": {},
   "outputs": [],
   "source": [
    "m1.2.year = brm(formula = wy ~ 1 + igdp_log  + iurban_log + zyear + (igdp_log|ctry_year), \n",
    "          data = test, \n",
    "          iter = 2000, \n",
    "          chains = 2, \n",
    "          seed = seed, \n",
    "          prior = prior)\n",
    "\n",
    "loo1.2.year = loo(m1.2.year, reloo=TRUE)"
   ]
  },
  {
   "cell_type": "code",
   "execution_count": 151,
   "metadata": {},
   "outputs": [],
   "source": [
    "m1.3.year = brm(formula = wy ~ 1 + igdp_log  + ilit_log + zyear +  (igdp_log|ctry_year), \n",
    "          data = test,\n",
    "          iter = 2000, \n",
    "          chains = 2, \n",
    "          seed = seed, \n",
    "          prior = prior)\n",
    "\n",
    "loo1.3.year = loo(m1.3.year, reloo=TRUE)"
   ]
  },
  {
   "cell_type": "code",
   "execution_count": 151,
   "metadata": {},
   "outputs": [],
   "source": [
    "m1.4.year = brm(formula = wy ~ 1 + igdp_log + ilit_log + iurban_log + zyear + (igdp_log|ctry_year), \n",
    "          data = test, \n",
    "          iter = 2000, \n",
    "          chains = 2, \n",
    "          seed = seed, \n",
    "          prior = prior)\n",
    "\n",
    "loo1.4.year = loo(m1.4.year, reloo=TRUE)"
   ]
  },
  {
   "cell_type": "code",
   "execution_count": 163,
   "metadata": {},
   "outputs": [],
   "source": [
    "# stacking\n",
    "models_year = list(m1.1.year, m1.2.year, m1.3.year, m1.4.year)\n",
    "ps_year = list(posterior_samples(m1.1.year), posterior_samples(m1.2.year), posterior_samples(m1.3), \n",
    "                        posterior_samples(m1.4))\n",
    "\n",
    "loo_list_year = list(loo1.1.year, loo1.2.year, loo1.3.year, loo1.4.year)\n",
    "weights_models_year = as.vector(loo_model_weights(loo_list_year))"
   ]
  },
  {
   "cell_type": "code",
   "execution_count": 155,
   "metadata": {},
   "outputs": [],
   "source": [
    "test_shift_year = estimate_shift(models = models_year,\n",
    "                        ps = ps_year,\n",
    "                        weights = weights_models_year,\n",
    "                        data = test, \n",
    "                        country = 'Venezuela', \n",
    "                        cfyear = 2010, \n",
    "                        segment = '1990')"
   ]
  },
  {
   "cell_type": "code",
   "execution_count": 156,
   "metadata": {},
   "outputs": [
    {
     "data": {
      "text/html": [
       "<table>\n",
       "<thead><tr><th scope=col>id</th><th scope=col>obs_ex</th><th scope=col>pred_ex</th><th scope=col>counterfactual</th><th scope=col>shift_obs</th><th scope=col>shift_pred</th></tr></thead>\n",
       "<tbody>\n",
       "\t<tr><td>1        </td><td>72.90567 </td><td>72.29739 </td><td>72.29739 </td><td>0.6082808</td><td>0        </td></tr>\n",
       "\t<tr><td>2        </td><td>72.90567 </td><td>72.28007 </td><td>72.28007 </td><td>0.6255954</td><td>0        </td></tr>\n",
       "\t<tr><td>3        </td><td>72.90567 </td><td>72.16741 </td><td>72.16741 </td><td>0.7382591</td><td>0        </td></tr>\n",
       "\t<tr><td>4        </td><td>72.90567 </td><td>72.23831 </td><td>72.23831 </td><td>0.6673576</td><td>0        </td></tr>\n",
       "\t<tr><td>5        </td><td>72.90567 </td><td>72.33673 </td><td>72.33673 </td><td>0.5689393</td><td>0        </td></tr>\n",
       "\t<tr><td>6        </td><td>72.90567 </td><td>72.28488 </td><td>72.28488 </td><td>0.6207858</td><td>0        </td></tr>\n",
       "</tbody>\n",
       "</table>\n"
      ],
      "text/latex": [
       "\\begin{tabular}{r|llllll}\n",
       " id & obs\\_ex & pred\\_ex & counterfactual & shift\\_obs & shift\\_pred\\\\\n",
       "\\hline\n",
       "\t 1         & 72.90567  & 72.29739  & 72.29739  & 0.6082808 & 0        \\\\\n",
       "\t 2         & 72.90567  & 72.28007  & 72.28007  & 0.6255954 & 0        \\\\\n",
       "\t 3         & 72.90567  & 72.16741  & 72.16741  & 0.7382591 & 0        \\\\\n",
       "\t 4         & 72.90567  & 72.23831  & 72.23831  & 0.6673576 & 0        \\\\\n",
       "\t 5         & 72.90567  & 72.33673  & 72.33673  & 0.5689393 & 0        \\\\\n",
       "\t 6         & 72.90567  & 72.28488  & 72.28488  & 0.6207858 & 0        \\\\\n",
       "\\end{tabular}\n"
      ],
      "text/markdown": [
       "\n",
       "id | obs_ex | pred_ex | counterfactual | shift_obs | shift_pred | \n",
       "|---|---|---|---|---|---|\n",
       "| 1         | 72.90567  | 72.29739  | 72.29739  | 0.6082808 | 0         | \n",
       "| 2         | 72.90567  | 72.28007  | 72.28007  | 0.6255954 | 0         | \n",
       "| 3         | 72.90567  | 72.16741  | 72.16741  | 0.7382591 | 0         | \n",
       "| 4         | 72.90567  | 72.23831  | 72.23831  | 0.6673576 | 0         | \n",
       "| 5         | 72.90567  | 72.33673  | 72.33673  | 0.5689393 | 0         | \n",
       "| 6         | 72.90567  | 72.28488  | 72.28488  | 0.6207858 | 0         | \n",
       "\n",
       "\n"
      ],
      "text/plain": [
       "  id obs_ex   pred_ex  counterfactual shift_obs shift_pred\n",
       "1 1  72.90567 72.29739 72.29739       0.6082808 0         \n",
       "2 2  72.90567 72.28007 72.28007       0.6255954 0         \n",
       "3 3  72.90567 72.16741 72.16741       0.7382591 0         \n",
       "4 4  72.90567 72.23831 72.23831       0.6673576 0         \n",
       "5 5  72.90567 72.33673 72.33673       0.5689393 0         \n",
       "6 6  72.90567 72.28488 72.28488       0.6207858 0         "
      ]
     },
     "metadata": {},
     "output_type": "display_data"
    }
   ],
   "source": [
    "head(test_shift_year)"
   ]
  },
  {
   "cell_type": "code",
   "execution_count": 158,
   "metadata": {},
   "outputs": [],
   "source": [
    "est_shifts_year = compute_shifts(models = models_year,\n",
    "                        ps = ps_year,\n",
    "                        weights = weights_models_year,\n",
    "                        data = test, \n",
    "                        countries = country_labels, \n",
    "                        years = c(1950, 1970, 1990, 2010))"
   ]
  },
  {
   "cell_type": "code",
   "execution_count": 160,
   "metadata": {},
   "outputs": [
    {
     "data": {
      "text/html": [
       "<table>\n",
       "<thead><tr><th scope=col>ctry</th><th scope=col>year</th><th scope=col>segment</th><th scope=col>num_models</th><th scope=col>obs_ex</th><th scope=col>pred_ex</th><th scope=col>counterfactual</th><th scope=col>shift_obs</th><th scope=col>shift_pred</th></tr></thead>\n",
       "<tbody>\n",
       "\t<tr><td>Argentina</td><td>1950     </td><td>1950     </td><td>4        </td><td>61.75226 </td><td>62.70597 </td><td>58.72030 </td><td>3.031952 </td><td>3.985666 </td></tr>\n",
       "\t<tr><td>Argentina</td><td>1950     </td><td>1950     </td><td>4        </td><td>61.75226 </td><td>62.49086 </td><td>59.03357 </td><td>2.718688 </td><td>3.457289 </td></tr>\n",
       "\t<tr><td>Argentina</td><td>1950     </td><td>1950     </td><td>4        </td><td>61.75226 </td><td>62.90609 </td><td>58.06169 </td><td>3.690571 </td><td>4.844404 </td></tr>\n",
       "\t<tr><td>Argentina</td><td>1950     </td><td>1950     </td><td>4        </td><td>61.75226 </td><td>62.97750 </td><td>58.51666 </td><td>3.235597 </td><td>4.460837 </td></tr>\n",
       "\t<tr><td>Argentina</td><td>1950     </td><td>1950     </td><td>4        </td><td>61.75226 </td><td>62.52959 </td><td>59.04609 </td><td>2.706166 </td><td>3.483500 </td></tr>\n",
       "\t<tr><td>Argentina</td><td>1950     </td><td>1950     </td><td>4        </td><td>61.75226 </td><td>62.50109 </td><td>58.56104 </td><td>3.191214 </td><td>3.940048 </td></tr>\n",
       "</tbody>\n",
       "</table>\n"
      ],
      "text/latex": [
       "\\begin{tabular}{r|lllllllll}\n",
       " ctry & year & segment & num\\_models & obs\\_ex & pred\\_ex & counterfactual & shift\\_obs & shift\\_pred\\\\\n",
       "\\hline\n",
       "\t Argentina & 1950      & 1950      & 4         & 61.75226  & 62.70597  & 58.72030  & 3.031952  & 3.985666 \\\\\n",
       "\t Argentina & 1950      & 1950      & 4         & 61.75226  & 62.49086  & 59.03357  & 2.718688  & 3.457289 \\\\\n",
       "\t Argentina & 1950      & 1950      & 4         & 61.75226  & 62.90609  & 58.06169  & 3.690571  & 4.844404 \\\\\n",
       "\t Argentina & 1950      & 1950      & 4         & 61.75226  & 62.97750  & 58.51666  & 3.235597  & 4.460837 \\\\\n",
       "\t Argentina & 1950      & 1950      & 4         & 61.75226  & 62.52959  & 59.04609  & 2.706166  & 3.483500 \\\\\n",
       "\t Argentina & 1950      & 1950      & 4         & 61.75226  & 62.50109  & 58.56104  & 3.191214  & 3.940048 \\\\\n",
       "\\end{tabular}\n"
      ],
      "text/markdown": [
       "\n",
       "ctry | year | segment | num_models | obs_ex | pred_ex | counterfactual | shift_obs | shift_pred | \n",
       "|---|---|---|---|---|---|\n",
       "| Argentina | 1950      | 1950      | 4         | 61.75226  | 62.70597  | 58.72030  | 3.031952  | 3.985666  | \n",
       "| Argentina | 1950      | 1950      | 4         | 61.75226  | 62.49086  | 59.03357  | 2.718688  | 3.457289  | \n",
       "| Argentina | 1950      | 1950      | 4         | 61.75226  | 62.90609  | 58.06169  | 3.690571  | 4.844404  | \n",
       "| Argentina | 1950      | 1950      | 4         | 61.75226  | 62.97750  | 58.51666  | 3.235597  | 4.460837  | \n",
       "| Argentina | 1950      | 1950      | 4         | 61.75226  | 62.52959  | 59.04609  | 2.706166  | 3.483500  | \n",
       "| Argentina | 1950      | 1950      | 4         | 61.75226  | 62.50109  | 58.56104  | 3.191214  | 3.940048  | \n",
       "\n",
       "\n"
      ],
      "text/plain": [
       "  ctry      year segment num_models obs_ex   pred_ex  counterfactual shift_obs\n",
       "1 Argentina 1950 1950    4          61.75226 62.70597 58.72030       3.031952 \n",
       "2 Argentina 1950 1950    4          61.75226 62.49086 59.03357       2.718688 \n",
       "3 Argentina 1950 1950    4          61.75226 62.90609 58.06169       3.690571 \n",
       "4 Argentina 1950 1950    4          61.75226 62.97750 58.51666       3.235597 \n",
       "5 Argentina 1950 1950    4          61.75226 62.52959 59.04609       2.706166 \n",
       "6 Argentina 1950 1950    4          61.75226 62.50109 58.56104       3.191214 \n",
       "  shift_pred\n",
       "1 3.985666  \n",
       "2 3.457289  \n",
       "3 4.844404  \n",
       "4 4.460837  \n",
       "5 3.483500  \n",
       "6 3.940048  "
      ]
     },
     "metadata": {},
     "output_type": "display_data"
    }
   ],
   "source": [
    "head(est_shifts_year)"
   ]
  },
  {
   "cell_type": "code",
   "execution_count": 161,
   "metadata": {},
   "outputs": [
    {
     "data": {
      "text/html": [
       "<ol class=list-inline>\n",
       "\t<li>562000</li>\n",
       "\t<li>9</li>\n",
       "</ol>\n"
      ],
      "text/latex": [
       "\\begin{enumerate*}\n",
       "\\item 562000\n",
       "\\item 9\n",
       "\\end{enumerate*}\n"
      ],
      "text/markdown": [
       "1. 562000\n",
       "2. 9\n",
       "\n",
       "\n"
      ],
      "text/plain": [
       "[1] 562000      9"
      ]
     },
     "metadata": {},
     "output_type": "display_data"
    }
   ],
   "source": [
    "dim(est_shifts_year)"
   ]
  },
  {
   "cell_type": "code",
   "execution_count": 159,
   "metadata": {},
   "outputs": [],
   "source": [
    "# save file\n",
    "fwrite(est_shifts_year, 'output/shift_1900_stacking_year.csv')"
   ]
  },
  {
   "cell_type": "markdown",
   "metadata": {},
   "source": [
    "# LE individual models, 1900+, autocorrelation adjustment\n",
    "\n",
    "- These models take so long to run, specially the LOO estimates, so not stacking for these models, just individual outputs. \n",
    "- Only gdp only and full model. "
   ]
  },
  {
   "cell_type": "code",
   "execution_count": 26,
   "metadata": {},
   "outputs": [
    {
     "name": "stderr",
     "output_type": "stream",
     "text": [
      "Compiling the C++ model\n",
      "recompiling to avoid crashing R session\n",
      "Start sampling\n"
     ]
    }
   ],
   "source": [
    "m1.4.auto = brm(formula = wy ~ 1 + igdp_log + ilit_log + iurban_log + (igdp_log|ctry_year), \n",
    "          autocor = cor_ar(~wy|ctry, p = 1),      \n",
    "          data = test, \n",
    "          iter = 2000, \n",
    "          chains = 2, \n",
    "          seed = seed, \n",
    "          prior = prior,\n",
    "          control=  list(adapt_delta=0.90))"
   ]
  },
  {
   "cell_type": "code",
   "execution_count": 27,
   "metadata": {},
   "outputs": [],
   "source": [
    "est_shifts_out = compute_shifts(models = list(m1.4.auto),\n",
    "                        data = test, \n",
    "                        countries = country_labels, \n",
    "                        years = c(1950, 1970, 1990, 2010))"
   ]
  },
  {
   "cell_type": "code",
   "execution_count": 28,
   "metadata": {},
   "outputs": [],
   "source": [
    "fwrite(est_shifts_out, 'output/shift_1900_full_autocorrelation.csv')"
   ]
  },
  {
   "cell_type": "markdown",
   "metadata": {},
   "source": [
    "# 1950 >\n",
    "\n",
    "- Important: imputation of electricy, sewage and water is via interpolation"
   ]
  },
  {
   "cell_type": "code",
   "execution_count": 17,
   "metadata": {},
   "outputs": [],
   "source": [
    "test2 = test[year>=1950]"
   ]
  },
  {
   "cell_type": "markdown",
   "metadata": {},
   "source": [
    "## GDP only with different time adjustments"
   ]
  },
  {
   "cell_type": "code",
   "execution_count": 20,
   "metadata": {},
   "outputs": [],
   "source": [
    "# set prior of betas to normal(0,5)\n",
    "prior = set_prior(\"normal(0, 5)\", class = \"b\")"
   ]
  },
  {
   "cell_type": "raw",
   "metadata": {},
   "source": [
    "prior_summary(m2.1)"
   ]
  },
  {
   "cell_type": "code",
   "execution_count": 47,
   "metadata": {},
   "outputs": [],
   "source": [
    "test_shifts = compute_shifts(models = list(m2.1),\n",
    "                        data = test, \n",
    "                        countries = country_labels, \n",
    "                        years = c(1950, 1970, 1990, 2010))"
   ]
  },
  {
   "cell_type": "code",
   "execution_count": 48,
   "metadata": {},
   "outputs": [
    {
     "data": {
      "text/html": [
       "<ol class=list-inline>\n",
       "\t<li>562000</li>\n",
       "\t<li>9</li>\n",
       "</ol>\n"
      ],
      "text/latex": [
       "\\begin{enumerate*}\n",
       "\\item 562000\n",
       "\\item 9\n",
       "\\end{enumerate*}\n"
      ],
      "text/markdown": [
       "1. 562000\n",
       "2. 9\n",
       "\n",
       "\n"
      ],
      "text/plain": [
       "[1] 562000      9"
      ]
     },
     "metadata": {},
     "output_type": "display_data"
    }
   ],
   "source": [
    "dim(est_shifts)"
   ]
  },
  {
   "cell_type": "code",
   "execution_count": 49,
   "metadata": {},
   "outputs": [],
   "source": [
    "fwrite(est_shifts, 'output/shift_1950_gdponly.csv')"
   ]
  },
  {
   "cell_type": "code",
   "execution_count": 130,
   "metadata": {},
   "outputs": [
    {
     "name": "stderr",
     "output_type": "stream",
     "text": [
      "Compiling the C++ model\n",
      "recompiling to avoid crashing R session\n",
      "Start sampling\n"
     ]
    }
   ],
   "source": [
    "m2.1.year = brm(formula = wy ~ 1 + igdp_log + zyear + (igdp_log|ctry_year), \n",
    "           data = test,\n",
    "           iter = 2000, \n",
    "           chains = 2,\n",
    "           seed = seed, \n",
    "           prior=prior)"
   ]
  },
  {
   "cell_type": "code",
   "execution_count": 131,
   "metadata": {},
   "outputs": [
    {
     "data": {
      "text/plain": [
       " Family: gaussian \n",
       "  Links: mu = identity; sigma = identity \n",
       "Formula: wy ~ 1 + igdp_log + zyear + (igdp_log | ctry_year) \n",
       "   Data: test (Number of observations: 1848) \n",
       "Samples: 2 chains, each with iter = 2000; warmup = 1000; thin = 1;\n",
       "         total post-warmup samples = 2000\n",
       "\n",
       "Group-Level Effects: \n",
       "~ctry_year (Number of levels: 74) \n",
       "                        Estimate Est.Error l-95% CI u-95% CI Eff.Sample Rhat\n",
       "sd(Intercept)               0.29      0.03     0.24     0.34        289 1.00\n",
       "sd(igdp_log)                0.46      0.04     0.38     0.55        517 1.01\n",
       "cor(Intercept,igdp_log)     0.17      0.12    -0.09     0.41        240 1.01\n",
       "\n",
       "Population-Level Effects: \n",
       "          Estimate Est.Error l-95% CI u-95% CI Eff.Sample Rhat\n",
       "Intercept     0.23      0.04     0.16     0.30        152 1.00\n",
       "igdp_log      0.31      0.06     0.19     0.42        362 1.01\n",
       "zyear         0.41      0.01     0.39     0.42       2000 1.00\n",
       "\n",
       "Family Specific Parameters: \n",
       "      Estimate Est.Error l-95% CI u-95% CI Eff.Sample Rhat\n",
       "sigma     0.07      0.00     0.06     0.07       2000 1.00\n",
       "\n",
       "Samples were drawn using sampling(NUTS). For each parameter, Eff.Sample \n",
       "is a crude measure of effective sample size, and Rhat is the potential \n",
       "scale reduction factor on split chains (at convergence, Rhat = 1)."
      ]
     },
     "metadata": {},
     "output_type": "display_data"
    }
   ],
   "source": [
    "summary(m1.1.year)"
   ]
  },
  {
   "cell_type": "code",
   "execution_count": 132,
   "metadata": {},
   "outputs": [
    {
     "name": "stderr",
     "output_type": "stream",
     "text": [
      "1 problematic observation(s) found.\n",
      "The model will be refit 1 times.\n",
      "\n",
      "Fitting model 1 out of 1 (leaving out observation 1420)\n",
      "Start sampling\n"
     ]
    }
   ],
   "source": [
    "loo1.1.year = loo(m1.1.year, reloo=TRUE)"
   ]
  },
  {
   "cell_type": "code",
   "execution_count": 168,
   "metadata": {},
   "outputs": [],
   "source": [
    "est_shifts_year = compute_shifts(models = list(m1.1.year),\n",
    "                        data = test, \n",
    "                        countries = country_labels, \n",
    "                        years = c(1950, 1970, 1990, 2010))"
   ]
  },
  {
   "cell_type": "code",
   "execution_count": 70,
   "metadata": {},
   "outputs": [],
   "source": [
    "fwrite(est_shifts_year, 'output/shift_1900_gdponly_year.csv')"
   ]
  },
  {
   "cell_type": "code",
   "execution_count": 18,
   "metadata": {},
   "outputs": [
    {
     "data": {
      "text/html": [
       "<ol class=list-inline>\n",
       "\t<li>'ctry'</li>\n",
       "\t<li>'year'</li>\n",
       "\t<li>'gdp_pc'</li>\n",
       "\t<li>'urban'</li>\n",
       "\t<li>'lit'</li>\n",
       "\t<li>'Ex'</li>\n",
       "\t<li>'water'</li>\n",
       "\t<li>'sewage'</li>\n",
       "\t<li>'elec'</li>\n",
       "\t<li>'us_aid'</li>\n",
       "\t<li>'tfr'</li>\n",
       "\t<li>'gyear'</li>\n",
       "\t<li>'y'</li>\n",
       "\t<li>'wy'</li>\n",
       "\t<li>'max_le'</li>\n",
       "\t<li>'ctry_year'</li>\n",
       "\t<li>'igdp_pc'</li>\n",
       "\t<li>'iurban'</li>\n",
       "\t<li>'ilit'</li>\n",
       "\t<li>'itfr'</li>\n",
       "\t<li>'iwater'</li>\n",
       "\t<li>'isewage'</li>\n",
       "\t<li>'ielec'</li>\n",
       "\t<li>'igdp_log'</li>\n",
       "\t<li>'iurban_log'</li>\n",
       "\t<li>'ilit_log'</li>\n",
       "\t<li>'iwater_log'</li>\n",
       "\t<li>'isewage_log'</li>\n",
       "\t<li>'ielec_log'</li>\n",
       "\t<li>'zyear'</li>\n",
       "</ol>\n"
      ],
      "text/latex": [
       "\\begin{enumerate*}\n",
       "\\item 'ctry'\n",
       "\\item 'year'\n",
       "\\item 'gdp\\_pc'\n",
       "\\item 'urban'\n",
       "\\item 'lit'\n",
       "\\item 'Ex'\n",
       "\\item 'water'\n",
       "\\item 'sewage'\n",
       "\\item 'elec'\n",
       "\\item 'us\\_aid'\n",
       "\\item 'tfr'\n",
       "\\item 'gyear'\n",
       "\\item 'y'\n",
       "\\item 'wy'\n",
       "\\item 'max\\_le'\n",
       "\\item 'ctry\\_year'\n",
       "\\item 'igdp\\_pc'\n",
       "\\item 'iurban'\n",
       "\\item 'ilit'\n",
       "\\item 'itfr'\n",
       "\\item 'iwater'\n",
       "\\item 'isewage'\n",
       "\\item 'ielec'\n",
       "\\item 'igdp\\_log'\n",
       "\\item 'iurban\\_log'\n",
       "\\item 'ilit\\_log'\n",
       "\\item 'iwater\\_log'\n",
       "\\item 'isewage\\_log'\n",
       "\\item 'ielec\\_log'\n",
       "\\item 'zyear'\n",
       "\\end{enumerate*}\n"
      ],
      "text/markdown": [
       "1. 'ctry'\n",
       "2. 'year'\n",
       "3. 'gdp_pc'\n",
       "4. 'urban'\n",
       "5. 'lit'\n",
       "6. 'Ex'\n",
       "7. 'water'\n",
       "8. 'sewage'\n",
       "9. 'elec'\n",
       "10. 'us_aid'\n",
       "11. 'tfr'\n",
       "12. 'gyear'\n",
       "13. 'y'\n",
       "14. 'wy'\n",
       "15. 'max_le'\n",
       "16. 'ctry_year'\n",
       "17. 'igdp_pc'\n",
       "18. 'iurban'\n",
       "19. 'ilit'\n",
       "20. 'itfr'\n",
       "21. 'iwater'\n",
       "22. 'isewage'\n",
       "23. 'ielec'\n",
       "24. 'igdp_log'\n",
       "25. 'iurban_log'\n",
       "26. 'ilit_log'\n",
       "27. 'iwater_log'\n",
       "28. 'isewage_log'\n",
       "29. 'ielec_log'\n",
       "30. 'zyear'\n",
       "\n",
       "\n"
      ],
      "text/plain": [
       " [1] \"ctry\"        \"year\"        \"gdp_pc\"      \"urban\"       \"lit\"        \n",
       " [6] \"Ex\"          \"water\"       \"sewage\"      \"elec\"        \"us_aid\"     \n",
       "[11] \"tfr\"         \"gyear\"       \"y\"           \"wy\"          \"max_le\"     \n",
       "[16] \"ctry_year\"   \"igdp_pc\"     \"iurban\"      \"ilit\"        \"itfr\"       \n",
       "[21] \"iwater\"      \"isewage\"     \"ielec\"       \"igdp_log\"    \"iurban_log\" \n",
       "[26] \"ilit_log\"    \"iwater_log\"  \"isewage_log\" \"ielec_log\"   \"zyear\"      "
      ]
     },
     "metadata": {},
     "output_type": "display_data"
    }
   ],
   "source": [
    "names(test2)"
   ]
  },
  {
   "cell_type": "code",
   "execution_count": null,
   "metadata": {},
   "outputs": [],
   "source": [
    "- gdp\n",
    "- gdp + iwater_log + isewage_log + ielec_log\n",
    "- gdp + ilit_log + iurban_log\n",
    "- gdp + ilit_log + iurban_log + iwater_log + isewage_log + ielec_log"
   ]
  },
  {
   "cell_type": "code",
   "execution_count": 21,
   "metadata": {},
   "outputs": [
    {
     "name": "stderr",
     "output_type": "stream",
     "text": [
      "Compiling the C++ model\n",
      "Start sampling\n"
     ]
    }
   ],
   "source": [
    "m2.1 = brm(formula = wy ~ 1 + igdp_log + (igdp_log|ctry_year), \n",
    "           data = test,\n",
    "           iter = 2000, \n",
    "           chains = 2,\n",
    "           seed = seed, \n",
    "           prior=prior)"
   ]
  },
  {
   "cell_type": "code",
   "execution_count": null,
   "metadata": {},
   "outputs": [
    {
     "name": "stderr",
     "output_type": "stream",
     "text": [
      "Compiling the C++ model\n",
      "recompiling to avoid crashing R session\n",
      "Start sampling\n"
     ]
    }
   ],
   "source": [
    "m2.2 = brm(formula = wy ~ 1 + igdp_log + ilit_log + iurban_log + (igdp_log|ctry_year), \n",
    "           data = test,\n",
    "           iter = 2000, \n",
    "           chains = 2,\n",
    "           seed = seed, \n",
    "           prior=prior)"
   ]
  },
  {
   "cell_type": "code",
   "execution_count": null,
   "metadata": {},
   "outputs": [],
   "source": [
    "m2.3 = brm(formula = wy ~ 1 + igdp_log + iwater_log + isewage_log + ielec_log + (igdp_log|ctry_year), \n",
    "           data = test,\n",
    "           iter = 2000, \n",
    "           chains = 2,\n",
    "           seed = seed, \n",
    "           prior=prior)"
   ]
  },
  {
   "cell_type": "code",
   "execution_count": null,
   "metadata": {},
   "outputs": [],
   "source": [
    "m2.4 = brm(formula = wy ~ 1 + igdp_log + ilit_log + iurban_log + iwater_log + isewage_log + ielec_log + (igdp_log|ctry_year), \n",
    "           data = test,\n",
    "           iter = 2000, \n",
    "           chains = 2,\n",
    "           seed = seed, \n",
    "           prior=prior)"
   ]
  },
  {
   "cell_type": "code",
   "execution_count": 22,
   "metadata": {},
   "outputs": [
    {
     "name": "stderr",
     "output_type": "stream",
     "text": [
      "1 problematic observation(s) found.\n",
      "The model will be refit 1 times.\n",
      "\n",
      "Fitting model 1 out of 1 (leaving out observation 631)\n",
      "Start sampling\n"
     ]
    }
   ],
   "source": [
    "loo2.1 = loo(m2.1, reloo=TRUE)\n",
    "loo2.2 = loo(m2.2, reloo=TRUE)\n",
    "loo2.3 = loo(m2.3, reloo=TRUE)\n",
    "loo2.4 = loo(m2.4, reloo=TRUE)"
   ]
  },
  {
   "cell_type": "markdown",
   "metadata": {},
   "source": [
    "# Old models\n",
    "# Lags"
   ]
  },
  {
   "cell_type": "code",
   "execution_count": 74,
   "metadata": {},
   "outputs": [],
   "source": [
    "models_1 = list(m1.1, m1.2, m1.3, m1.4)\n",
    "ps_1 = list(posterior_samples(m1.1), posterior_samples(m1.2), posterior_samples(m1.3), \n",
    "                       posterior_samples(m1.4))\n",
    "\n",
    "test_lags = estimate_lag(models = models_1,\n",
    "                        ps = ps_1,\n",
    "                        weights = weights_models_1,\n",
    "                        data = test, \n",
    "                        country = 'Argentina', \n",
    "                        cfyear = 1990, \n",
    "                        segment = '1950',\n",
    "                        predicted_values = FALSE)"
   ]
  },
  {
   "cell_type": "code",
   "execution_count": 85,
   "metadata": {},
   "outputs": [],
   "source": []
  },
  {
   "cell_type": "code",
   "execution_count": 86,
   "metadata": {},
   "outputs": [],
   "source": [
    "est_lags_obs = compute_lags(models = models_1,\n",
    "                        ps = ps_1,\n",
    "                        weights = weights_models_1,\n",
    "                        data = test, \n",
    "                        countries = country_labels, \n",
    "                        years = c(1950, 1970, 1990, 2010),\n",
    "                        predicted_values = FALSE)"
   ]
  },
  {
   "cell_type": "code",
   "execution_count": 90,
   "metadata": {},
   "outputs": [],
   "source": [
    "est_lags_pred = compute_lags(models = models_1,\n",
    "                        ps = ps_1,\n",
    "                        weights = weights_models_1,\n",
    "                        data = test, \n",
    "                        countries = country_labels, \n",
    "                        years = c(1950, 1970, 1990, 2010),\n",
    "                        predicted_values = TRUE)"
   ]
  },
  {
   "cell_type": "code",
   "execution_count": 91,
   "metadata": {},
   "outputs": [],
   "source": [
    "fwrite(est_lags_obs, 'output/lags_obs.csv')\n",
    "fwrite(est_lags_pred, 'output/lags_pred.csv')"
   ]
  },
  {
   "cell_type": "markdown",
   "metadata": {},
   "source": [
    "# Adjusting by time\n",
    "\n",
    "- Same as `m1`, but adding `zyear` (standardized year variable)\n",
    "- The only coefficient is changing by country and year is `gdp_log`\n",
    "- How to interpret this results\n"
   ]
  },
  {
   "cell_type": "code",
   "execution_count": 17,
   "metadata": {},
   "outputs": [
    {
     "name": "stderr",
     "output_type": "stream",
     "text": [
      "Compiling the C++ model\n",
      "Start sampling\n",
      "1 problematic observation(s) found.\n",
      "The model will be refit 1 times.\n",
      "\n",
      "Fitting model 1 out of 1 (leaving out observation 1418)\n",
      "Start sampling\n",
      "Compiling the C++ model\n",
      "Start sampling\n",
      "1 problematic observation(s) found.\n",
      "The model will be refit 1 times.\n",
      "\n",
      "Fitting model 1 out of 1 (leaving out observation 1418)\n",
      "Start sampling\n",
      "Compiling the C++ model\n",
      "Start sampling\n",
      "1 problematic observation(s) found.\n",
      "The model will be refit 1 times.\n",
      "\n",
      "Fitting model 1 out of 1 (leaving out observation 1418)\n",
      "Start sampling\n",
      "Compiling the C++ model\n",
      "Start sampling\n",
      "2 problematic observation(s) found.\n",
      "The model will be refit 2 times.\n",
      "\n",
      "Fitting model 1 out of 2 (leaving out observation 1418)\n",
      "Start sampling\n",
      "\n",
      "Fitting model 2 out of 2 (leaving out observation 1420)\n",
      "Start sampling\n"
     ]
    },
    {
     "name": "stdout",
     "output_type": "stream",
     "text": [
      "[1] 1.250149e-05 1.307681e-01 3.037624e-01 5.654570e-01\n"
     ]
    }
   ],
   "source": [
    "m2.1 = brm(formula = wy ~ 1 + zyear + igdp_log  + (igdp_log|ctry_year), \n",
    "           data = test,\n",
    "           iter = 2000, \n",
    "           chains = 2)\n",
    "\n",
    "loo2.1 = loo(m2.1, reloo=TRUE)\n",
    "\n",
    "m2.2 = brm(formula = wy ~ 1 +  zyear + igdp_log  + iurban_log +  (igdp_log|ctry_year), \n",
    "          data = test, \n",
    "          iter = 2000, \n",
    "          chains = 2)\n",
    "\n",
    "loo2.2 = loo(m2.2, reloo=TRUE)\n",
    "\n",
    "m2.3 = brm(formula = wy ~ 1 +  zyear + igdp_log  + ilit_log +  (igdp_log|ctry_year), \n",
    "          data = test,\n",
    "          iter = 2000, \n",
    "          chains = 2)\n",
    "\n",
    "loo2.3 = loo(m2.3, reloo=TRUE)\n",
    "\n",
    "m2.4 = brm(formula = wy ~ 1 + zyear + igdp_log + ilit_log + iurban_log + (igdp_log|ctry_year), \n",
    "          data = test, \n",
    "          iter = 2000, \n",
    "          chains = 2)\n",
    "\n",
    "loo2.4 = loo(m2.4, reloo=TRUE)\n",
    "\n",
    "# stacking\n",
    "loo_list_2 = list(loo2.1, loo2.2, loo2.3, loo2.4)\n",
    "weights_models_2 = as.vector(loo_model_weights(loo_list_2))\n",
    "print(weights_models_2)"
   ]
  },
  {
   "cell_type": "code",
   "execution_count": 193,
   "metadata": {},
   "outputs": [],
   "source": [
    "models_2 = list(m2.1, m2.2, m2.3, m2.4)\n",
    "\n",
    "ps_2 = list(posterior_samples(m2.1), posterior_samples(m2.2), posterior_samples(m2.3), \n",
    "                       posterior_samples(m2.4))"
   ]
  },
  {
   "cell_type": "code",
   "execution_count": 194,
   "metadata": {},
   "outputs": [],
   "source": [
    "est_shifts_obs_time = compute_shifts(models = models_2,\n",
    "                        ps = ps_2,\n",
    "                        weights = weights_models_2,\n",
    "                        data = test, \n",
    "                        countries = country_labels, \n",
    "                        years = c(1950, 1970, 1990, 2010),\n",
    "                        predicted_values = FALSE)"
   ]
  },
  {
   "cell_type": "code",
   "execution_count": 195,
   "metadata": {},
   "outputs": [],
   "source": [
    "est_shifts_pred_time = compute_shifts(models = list(m2.1),\n",
    "                        data = test, \n",
    "                        countries = country_labels, \n",
    "                        years = c(1950, 1970, 1990, 2010),\n",
    "                        predicted_values = TRUE)"
   ]
  },
  {
   "cell_type": "code",
   "execution_count": 197,
   "metadata": {},
   "outputs": [],
   "source": [
    "fwrite(est_shifts_obs_time, 'output/shifts_obs_time.csv')\n",
    "fwrite(est_shifts_pred_time, 'output/shifts_pred_time.csv')"
   ]
  },
  {
   "cell_type": "markdown",
   "metadata": {},
   "source": [
    "# Adjusting by time and gdp\n",
    "\n",
    "- Same as `m1`, but adding `zyear`  (standardized year variable)\n",
    "- The only coefficient is changing by country and year is `gdp_log`"
   ]
  },
  {
   "cell_type": "code",
   "execution_count": 38,
   "metadata": {},
   "outputs": [],
   "source": [
    "est_shifts_obs = compute_shifts(models = list(m2.1),\n",
    "#                         ps = ps_1,\n",
    "#                         weights = weights_models_1,\n",
    "                        data = test, \n",
    "                        countries = country_labels, \n",
    "                        years = c(1950, 1970, 1990, 2010),\n",
    "                        predicted_values = FALSE)"
   ]
  },
  {
   "cell_type": "code",
   "execution_count": 36,
   "metadata": {},
   "outputs": [],
   "source": [
    "est_shifts_pred = compute_shifts(models = list(m2.1),\n",
    "#                         ps = ps_1,\n",
    "#                         weights = weights_models_1,\n",
    "                        data = test, \n",
    "                        countries = country_labels, \n",
    "                        years = c(1950, 1970, 1990, 2010),\n",
    "                        predicted_values = TRUE)"
   ]
  },
  {
   "cell_type": "code",
   "execution_count": 39,
   "metadata": {},
   "outputs": [],
   "source": [
    "fwrite(est_shifts_obs, 'output/shifts_obs_gdp_time.csv')\n",
    "fwrite(est_shifts_pred, 'output/shifts_pred_gdp_time.csv')"
   ]
  },
  {
   "cell_type": "code",
   "execution_count": 40,
   "metadata": {},
   "outputs": [
    {
     "data": {
      "text/plain": [
       " Family: gaussian \n",
       "  Links: mu = identity; sigma = identity \n",
       "Formula: wy ~ 1 + zyear + igdp_log + (igdp_log | ctry_year) \n",
       "   Data: test (Number of observations: 1848) \n",
       "Samples: 2 chains, each with iter = 2000; warmup = 1000; thin = 1;\n",
       "         total post-warmup samples = 2000\n",
       "\n",
       "Group-Level Effects: \n",
       "~ctry_year (Number of levels: 74) \n",
       "                        Estimate Est.Error l-95% CI u-95% CI Eff.Sample Rhat\n",
       "sd(Intercept)               0.29      0.03     0.24     0.35        368 1.00\n",
       "sd(igdp_log)                0.46      0.04     0.38     0.55        529 1.00\n",
       "cor(Intercept,igdp_log)     0.15      0.13    -0.11     0.38        421 1.00\n",
       "\n",
       "Population-Level Effects: \n",
       "          Estimate Est.Error l-95% CI u-95% CI Eff.Sample Rhat\n",
       "Intercept     0.24      0.03     0.17     0.30        229 1.03\n",
       "zyear         0.41      0.01     0.39     0.42       2000 1.00\n",
       "igdp_log      0.31      0.06     0.20     0.41        426 1.00\n",
       "\n",
       "Family Specific Parameters: \n",
       "      Estimate Est.Error l-95% CI u-95% CI Eff.Sample Rhat\n",
       "sigma     0.07      0.00     0.06     0.07       2000 1.00\n",
       "\n",
       "Samples were drawn using sampling(NUTS). For each parameter, Eff.Sample \n",
       "is a crude measure of effective sample size, and Rhat is the potential \n",
       "scale reduction factor on split chains (at convergence, Rhat = 1)."
      ]
     },
     "metadata": {},
     "output_type": "display_data"
    }
   ],
   "source": [
    "summary(m2.1)"
   ]
  },
  {
   "cell_type": "markdown",
   "metadata": {},
   "source": [
    "# Checks"
   ]
  },
  {
   "cell_type": "markdown",
   "metadata": {},
   "source": [
    "## Notes\n",
    "\n",
    "- igdp_log is the log of the imputed gdp_pc, after computing that variable I centered it (global average = 0)\n",
    "- wy is the transformation of Ex (see code above), not centered"
   ]
  },
  {
   "cell_type": "code",
   "execution_count": 184,
   "metadata": {},
   "outputs": [
    {
     "data": {
      "text/plain": [
       "       wy             igdp_log       \n",
       " Min.   :-0.7899   Min.   :-1.41014  \n",
       " 1st Qu.:-0.2889   1st Qu.:-0.46569  \n",
       " Median : 0.2831   Median :-0.07965  \n",
       " Mean   : 0.2879   Mean   : 0.00000  \n",
       " 3rd Qu.: 0.8279   3rd Qu.: 0.43028  \n",
       " Max.   : 1.4663   Max.   : 1.62753  "
      ]
     },
     "metadata": {},
     "output_type": "display_data"
    }
   ],
   "source": [
    "summary(test[, .(wy, igdp_log)])"
   ]
  },
  {
   "cell_type": "code",
   "execution_count": 185,
   "metadata": {},
   "outputs": [
    {
     "name": "stderr",
     "output_type": "stream",
     "text": [
      "Compiling the C++ model\n",
      "Start sampling\n"
     ]
    }
   ],
   "source": [
    "m1.1 = brm(formula = wy ~ 1 + igdp_log  + (igdp_log|ctry_year), \n",
    "           data = test,\n",
    "           iter = 2000, \n",
    "           chains = 2)"
   ]
  },
  {
   "cell_type": "code",
   "execution_count": 186,
   "metadata": {},
   "outputs": [],
   "source": [
    "s = data.table(posterior_samples(m1.1))"
   ]
  },
  {
   "cell_type": "code",
   "execution_count": 187,
   "metadata": {},
   "outputs": [
    {
     "data": {
      "text/plain": [
       " Family: gaussian \n",
       "  Links: mu = identity; sigma = identity \n",
       "Formula: wy ~ 1 + igdp_log + (igdp_log | ctry_year) \n",
       "   Data: test (Number of observations: 1848) \n",
       "Samples: 2 chains, each with iter = 2000; warmup = 1000; thin = 1;\n",
       "         total post-warmup samples = 2000\n",
       "\n",
       "Group-Level Effects: \n",
       "~ctry_year (Number of levels: 74) \n",
       "                        Estimate Est.Error l-95% CI u-95% CI Eff.Sample Rhat\n",
       "sd(Intercept)               0.53      0.05     0.45     0.63        316 1.01\n",
       "sd(igdp_log)                0.67      0.07     0.55     0.81        618 1.00\n",
       "cor(Intercept,igdp_log)     0.06      0.14    -0.21     0.33        257 1.00\n",
       "\n",
       "Population-Level Effects: \n",
       "          Estimate Est.Error l-95% CI u-95% CI Eff.Sample Rhat\n",
       "Intercept     0.34      0.06     0.22     0.47        220 1.01\n",
       "igdp_log      0.76      0.09     0.58     0.94        258 1.00\n",
       "\n",
       "Family Specific Parameters: \n",
       "      Estimate Est.Error l-95% CI u-95% CI Eff.Sample Rhat\n",
       "sigma     0.11      0.00     0.10     0.11       2000 1.00\n",
       "\n",
       "Samples were drawn using sampling(NUTS). For each parameter, Eff.Sample \n",
       "is a crude measure of effective sample size, and Rhat is the potential \n",
       "scale reduction factor on split chains (at convergence, Rhat = 1)."
      ]
     },
     "metadata": {},
     "output_type": "display_data"
    }
   ],
   "source": [
    "summary(m1.1)"
   ]
  },
  {
   "cell_type": "code",
   "execution_count": 188,
   "metadata": {},
   "outputs": [],
   "source": [
    "ss = s[, lapply(.SD, median)] # compute median to estimate CF"
   ]
  },
  {
   "cell_type": "markdown",
   "metadata": {},
   "source": [
    "# Mexico 1950 using segment 1990"
   ]
  },
  {
   "cell_type": "code",
   "execution_count": 124,
   "metadata": {},
   "outputs": [],
   "source": [
    "coeffs = t(ss[, .SD, .SDcols = names(ss) %like% '^b|Mexico'])"
   ]
  },
  {
   "cell_type": "code",
   "execution_count": 125,
   "metadata": {},
   "outputs": [
    {
     "data": {
      "text/html": [
       "<table>\n",
       "<tbody>\n",
       "\t<tr><th scope=row>b_Intercept</th><td> 0.33976808</td></tr>\n",
       "\t<tr><th scope=row>b_igdp_log</th><td> 0.76234434</td></tr>\n",
       "\t<tr><th scope=row>r_ctry_year[Mexico.1950,Intercept]</th><td>-0.49488461</td></tr>\n",
       "\t<tr><th scope=row>r_ctry_year[Mexico.1950-1969,Intercept]</th><td>-0.23651877</td></tr>\n",
       "\t<tr><th scope=row>r_ctry_year[Mexico.1970-1989,Intercept]</th><td>-0.26937527</td></tr>\n",
       "\t<tr><th scope=row>r_ctry_year[Mexico.1990,Intercept]</th><td>-0.57328045</td></tr>\n",
       "\t<tr><th scope=row>r_ctry_year[Mexico.1950,igdp_log]</th><td> 0.15374043</td></tr>\n",
       "\t<tr><th scope=row>r_ctry_year[Mexico.1950-1969,igdp_log]</th><td> 0.06364853</td></tr>\n",
       "\t<tr><th scope=row>r_ctry_year[Mexico.1970-1989,igdp_log]</th><td> 0.08240534</td></tr>\n",
       "\t<tr><th scope=row>r_ctry_year[Mexico.1990,igdp_log]</th><td> 0.75668082</td></tr>\n",
       "</tbody>\n",
       "</table>\n"
      ],
      "text/latex": [
       "\\begin{tabular}{r|l}\n",
       "\tb\\_Intercept &  0.33976808\\\\\n",
       "\tb\\_igdp\\_log &  0.76234434\\\\\n",
       "\tr\\_ctry\\_year{[}Mexico.1950,Intercept{]} & -0.49488461\\\\\n",
       "\tr\\_ctry\\_year{[}Mexico.1950-1969,Intercept{]} & -0.23651877\\\\\n",
       "\tr\\_ctry\\_year{[}Mexico.1970-1989,Intercept{]} & -0.26937527\\\\\n",
       "\tr\\_ctry\\_year{[}Mexico.1990,Intercept{]} & -0.57328045\\\\\n",
       "\tr\\_ctry\\_year{[}Mexico.1950,igdp\\_log{]} &  0.15374043\\\\\n",
       "\tr\\_ctry\\_year{[}Mexico.1950-1969,igdp\\_log{]} &  0.06364853\\\\\n",
       "\tr\\_ctry\\_year{[}Mexico.1970-1989,igdp\\_log{]} &  0.08240534\\\\\n",
       "\tr\\_ctry\\_year{[}Mexico.1990,igdp\\_log{]} &  0.75668082\\\\\n",
       "\\end{tabular}\n"
      ],
      "text/markdown": [
       "\n",
       "| b_Intercept |  0.33976808 | \n",
       "| b_igdp_log |  0.76234434 | \n",
       "| r_ctry_year[Mexico.1950,Intercept] | -0.49488461 | \n",
       "| r_ctry_year[Mexico.1950-1969,Intercept] | -0.23651877 | \n",
       "| r_ctry_year[Mexico.1970-1989,Intercept] | -0.26937527 | \n",
       "| r_ctry_year[Mexico.1990,Intercept] | -0.57328045 | \n",
       "| r_ctry_year[Mexico.1950,igdp_log] |  0.15374043 | \n",
       "| r_ctry_year[Mexico.1950-1969,igdp_log] |  0.06364853 | \n",
       "| r_ctry_year[Mexico.1970-1989,igdp_log] |  0.08240534 | \n",
       "| r_ctry_year[Mexico.1990,igdp_log] |  0.75668082 | \n",
       "\n",
       "\n"
      ],
      "text/plain": [
       "                                        [,1]       \n",
       "b_Intercept                              0.33976808\n",
       "b_igdp_log                               0.76234434\n",
       "r_ctry_year[Mexico.1950,Intercept]      -0.49488461\n",
       "r_ctry_year[Mexico.1950-1969,Intercept] -0.23651877\n",
       "r_ctry_year[Mexico.1970-1989,Intercept] -0.26937527\n",
       "r_ctry_year[Mexico.1990,Intercept]      -0.57328045\n",
       "r_ctry_year[Mexico.1950,igdp_log]        0.15374043\n",
       "r_ctry_year[Mexico.1950-1969,igdp_log]   0.06364853\n",
       "r_ctry_year[Mexico.1970-1989,igdp_log]   0.08240534\n",
       "r_ctry_year[Mexico.1990,igdp_log]        0.75668082"
      ]
     },
     "metadata": {},
     "output_type": "display_data"
    }
   ],
   "source": [
    "coeffs"
   ]
  },
  {
   "cell_type": "code",
   "execution_count": 144,
   "metadata": {},
   "outputs": [
    {
     "data": {
      "text/html": [
       "0.802664629311318"
      ],
      "text/latex": [
       "0.802664629311318"
      ],
      "text/markdown": [
       "0.802664629311318"
      ],
      "text/plain": [
       "[1] 0.8026646\n",
       "attr(,\"scaled:center\")\n",
       "[1] 7.910903"
      ]
     },
     "metadata": {},
     "output_type": "display_data"
    }
   ],
   "source": [
    "test[ctry=='Mexico' & year==1990, igdp_log]"
   ]
  },
  {
   "cell_type": "code",
   "execution_count": 159,
   "metadata": {},
   "outputs": [
    {
     "data": {
      "text/html": [
       "-0.142361315581319"
      ],
      "text/latex": [
       "-0.142361315581319"
      ],
      "text/markdown": [
       "-0.142361315581319"
      ],
      "text/plain": [
       "[1] -0.1423613\n",
       "attr(,\"scaled:center\")\n",
       "[1] 7.910903"
      ]
     },
     "metadata": {},
     "output_type": "display_data"
    },
    {
     "data": {
      "text/html": [
       "75.7470672607422"
      ],
      "text/latex": [
       "75.7470672607422"
      ],
      "text/markdown": [
       "75.7470672607422"
      ],
      "text/plain": [
       "[1] 75.74707"
      ]
     },
     "metadata": {},
     "output_type": "display_data"
    }
   ],
   "source": [
    "(log_gpd_mexico_1950 = test[ctry=='Mexico' & year==1950, igdp_log])\n",
    "(max_value = test[ctry=='Mexico' & year==1950, max_le])"
   ]
  },
  {
   "cell_type": "code",
   "execution_count": 127,
   "metadata": {},
   "outputs": [
    {
     "data": {
      "text/html": [
       "-0.449762784548426"
      ],
      "text/latex": [
       "-0.449762784548426"
      ],
      "text/markdown": [
       "-0.449762784548426"
      ],
      "text/plain": [
       "[1] -0.4497628\n",
       "attr(,\"scaled:center\")\n",
       "[1] 7.910903"
      ]
     },
     "metadata": {},
     "output_type": "display_data"
    }
   ],
   "source": [
    "(cf = coeffs[1] + coeffs[6] + log_gpd_mexico_1950 * (coeffs[2] + coeffs[10]))"
   ]
  },
  {
   "cell_type": "code",
   "execution_count": 128,
   "metadata": {},
   "outputs": [
    {
     "data": {
      "text/html": [
       "35.7174223335717"
      ],
      "text/latex": [
       "35.7174223335717"
      ],
      "text/markdown": [
       "35.7174223335717"
      ],
      "text/plain": [
       "[1] 35.71742\n",
       "attr(,\"scaled:center\")\n",
       "[1] 7.910903"
      ]
     },
     "metadata": {},
     "output_type": "display_data"
    }
   ],
   "source": [
    "# counterfactual\n",
    "(acf = get_orig_values_weibull(cf, max_value))"
   ]
  },
  {
   "cell_type": "code",
   "execution_count": 160,
   "metadata": {},
   "outputs": [
    {
     "data": {
      "text/html": [
       "46.4056053161621"
      ],
      "text/latex": [
       "46.4056053161621"
      ],
      "text/markdown": [
       "46.4056053161621"
      ],
      "text/plain": [
       "[1] 46.40561"
      ]
     },
     "metadata": {},
     "output_type": "display_data"
    }
   ],
   "source": [
    "get_orig_values_weibull(test[ctry=='Mexico' & year==1950, wy], max_value)"
   ]
  },
  {
   "cell_type": "code",
   "execution_count": 129,
   "metadata": {},
   "outputs": [
    {
     "data": {
      "text/html": [
       "46.4056053161621"
      ],
      "text/latex": [
       "46.4056053161621"
      ],
      "text/markdown": [
       "46.4056053161621"
      ],
      "text/plain": [
       "[1] 46.40561"
      ]
     },
     "metadata": {},
     "output_type": "display_data"
    }
   ],
   "source": [
    "# observed\n",
    "(obs = test[ctry=='Mexico' & year==1950, Ex])"
   ]
  },
  {
   "cell_type": "code",
   "execution_count": 130,
   "metadata": {},
   "outputs": [
    {
     "data": {
      "text/html": [
       "10.6881829825904"
      ],
      "text/latex": [
       "10.6881829825904"
      ],
      "text/markdown": [
       "10.6881829825904"
      ],
      "text/plain": [
       "[1] 10.68818\n",
       "attr(,\"scaled:center\")\n",
       "[1] 7.910903"
      ]
     },
     "metadata": {},
     "output_type": "display_data"
    }
   ],
   "source": [
    "obs - acf"
   ]
  },
  {
   "cell_type": "code",
   "execution_count": 150,
   "metadata": {},
   "outputs": [
    {
     "data": {},
     "metadata": {},
     "output_type": "display_data"
    },
    {
     "data": {
      "image/png": "[encoded data removed]",
      "text/plain": [
       "plot without title"
      ]
     },
     "metadata": {},
     "output_type": "display_data"
    }
   ],
   "source": [
    "ggplot(test[ctry=='Mexico' & year>= 1990], aes(igdp_log, wy)) + geom_point() + geom_smooth(method='lm') + theme_minimal() + \n",
    "    labs(title='Mexico >=1990')"
   ]
  },
  {
   "cell_type": "code",
   "execution_count": 132,
   "metadata": {},
   "outputs": [
    {
     "name": "stdout",
     "output_type": "stream",
     "text": [
      "\n",
      "======================\n",
      "             Model 1  \n",
      "----------------------\n",
      "(Intercept)  -0.48 ***\n",
      "             (0.11)   \n",
      "igdp_log      1.78 ***\n",
      "             (0.12)   \n",
      "----------------------\n",
      "R^2           0.92    \n",
      "Adj. R^2      0.91    \n",
      "Num. obs.    21       \n",
      "RMSE          0.05    \n",
      "======================\n",
      "*** p < 0.001, ** p < 0.01, * p < 0.05\n"
     ]
    }
   ],
   "source": [
    "print(screenreg(lm(wy ~ igdp_log, data = test[ctry=='Mexico' & year>= 1990])))"
   ]
  },
  {
   "cell_type": "code",
   "execution_count": 183,
   "metadata": {},
   "outputs": [
    {
     "name": "stderr",
     "output_type": "stream",
     "text": [
      "`geom_smooth()` using method = 'loess' and formula 'y ~ x'\n"
     ]
    },
    {
     "data": {},
     "metadata": {},
     "output_type": "display_data"
    },
    {
     "data": {
      "image/png": "[encoded data removed]",
      "text/plain": [
       "plot without title"
      ]
     },
     "metadata": {},
     "output_type": "display_data"
    }
   ],
   "source": [
    "ggplot(test[ctry=='Mexico'], aes(igdp_log, wy)) + geom_point() + geom_smooth() + theme_minimal() + \n",
    "    labs(title='Mexico')"
   ]
  },
  {
   "cell_type": "code",
   "execution_count": 178,
   "metadata": {},
   "outputs": [
    {
     "data": {},
     "metadata": {},
     "output_type": "display_data"
    },
    {
     "data": {
      "image/png": "[encoded data removed]",
      "text/plain": [
       "plot without title"
      ]
     },
     "metadata": {},
     "output_type": "display_data"
    }
   ],
   "source": [
    "ggplot(test[ctry=='Mexico'], aes(year, Ex)) + geom_point()  + theme_minimal() + \n",
    "    labs(title='Mexico')"
   ]
  },
  {
   "cell_type": "code",
   "execution_count": 179,
   "metadata": {},
   "outputs": [
    {
     "data": {},
     "metadata": {},
     "output_type": "display_data"
    },
    {
     "data": {
      "image/png": "[encoded data removed]",
      "text/plain": [
       "plot without title"
      ]
     },
     "metadata": {},
     "output_type": "display_data"
    }
   ],
   "source": [
    "ggplot(test[ctry=='Mexico'], aes(year, igdp_log)) + geom_point()  + theme_minimal() + \n",
    "    labs(title='Mexico')"
   ]
  },
  {
   "cell_type": "markdown",
   "metadata": {},
   "source": [
    "# Argentina 1950 using segment 1990"
   ]
  },
  {
   "cell_type": "code",
   "execution_count": 133,
   "metadata": {},
   "outputs": [],
   "source": [
    "coeffs = t(ss[, .SD, .SDcols = names(ss) %like% '^b|Argentina'])"
   ]
  },
  {
   "cell_type": "code",
   "execution_count": 151,
   "metadata": {},
   "outputs": [
    {
     "data": {
      "text/html": [
       "<table>\n",
       "<tbody>\n",
       "\t<tr><th scope=row>b_Intercept</th><td> 0.33976808</td></tr>\n",
       "\t<tr><th scope=row>b_igdp_log</th><td> 0.76234434</td></tr>\n",
       "\t<tr><th scope=row>r_ctry_year[Argentina.1950,Intercept]</th><td>-0.73344789</td></tr>\n",
       "\t<tr><th scope=row>r_ctry_year[Argentina.1950-1969,Intercept]</th><td>-0.08791148</td></tr>\n",
       "\t<tr><th scope=row>r_ctry_year[Argentina.1970-1989,Intercept]</th><td> 0.70430181</td></tr>\n",
       "\t<tr><th scope=row>r_ctry_year[Argentina.1990,Intercept]</th><td>-0.07829758</td></tr>\n",
       "\t<tr><th scope=row>r_ctry_year[Argentina.1950,igdp_log]</th><td> 0.48462614</td></tr>\n",
       "\t<tr><th scope=row>r_ctry_year[Argentina.1950-1969,igdp_log]</th><td>-0.23644627</td></tr>\n",
       "\t<tr><th scope=row>r_ctry_year[Argentina.1970-1989,igdp_log]</th><td>-0.94058347</td></tr>\n",
       "\t<tr><th scope=row>r_ctry_year[Argentina.1990,igdp_log]</th><td> 0.09051524</td></tr>\n",
       "</tbody>\n",
       "</table>\n"
      ],
      "text/latex": [
       "\\begin{tabular}{r|l}\n",
       "\tb\\_Intercept &  0.33976808\\\\\n",
       "\tb\\_igdp\\_log &  0.76234434\\\\\n",
       "\tr\\_ctry\\_year{[}Argentina.1950,Intercept{]} & -0.73344789\\\\\n",
       "\tr\\_ctry\\_year{[}Argentina.1950-1969,Intercept{]} & -0.08791148\\\\\n",
       "\tr\\_ctry\\_year{[}Argentina.1970-1989,Intercept{]} &  0.70430181\\\\\n",
       "\tr\\_ctry\\_year{[}Argentina.1990,Intercept{]} & -0.07829758\\\\\n",
       "\tr\\_ctry\\_year{[}Argentina.1950,igdp\\_log{]} &  0.48462614\\\\\n",
       "\tr\\_ctry\\_year{[}Argentina.1950-1969,igdp\\_log{]} & -0.23644627\\\\\n",
       "\tr\\_ctry\\_year{[}Argentina.1970-1989,igdp\\_log{]} & -0.94058347\\\\\n",
       "\tr\\_ctry\\_year{[}Argentina.1990,igdp\\_log{]} &  0.09051524\\\\\n",
       "\\end{tabular}\n"
      ],
      "text/markdown": [
       "\n",
       "| b_Intercept |  0.33976808 | \n",
       "| b_igdp_log |  0.76234434 | \n",
       "| r_ctry_year[Argentina.1950,Intercept] | -0.73344789 | \n",
       "| r_ctry_year[Argentina.1950-1969,Intercept] | -0.08791148 | \n",
       "| r_ctry_year[Argentina.1970-1989,Intercept] |  0.70430181 | \n",
       "| r_ctry_year[Argentina.1990,Intercept] | -0.07829758 | \n",
       "| r_ctry_year[Argentina.1950,igdp_log] |  0.48462614 | \n",
       "| r_ctry_year[Argentina.1950-1969,igdp_log] | -0.23644627 | \n",
       "| r_ctry_year[Argentina.1970-1989,igdp_log] | -0.94058347 | \n",
       "| r_ctry_year[Argentina.1990,igdp_log] |  0.09051524 | \n",
       "\n",
       "\n"
      ],
      "text/plain": [
       "                                           [,1]       \n",
       "b_Intercept                                 0.33976808\n",
       "b_igdp_log                                  0.76234434\n",
       "r_ctry_year[Argentina.1950,Intercept]      -0.73344789\n",
       "r_ctry_year[Argentina.1950-1969,Intercept] -0.08791148\n",
       "r_ctry_year[Argentina.1970-1989,Intercept]  0.70430181\n",
       "r_ctry_year[Argentina.1990,Intercept]      -0.07829758\n",
       "r_ctry_year[Argentina.1950,igdp_log]        0.48462614\n",
       "r_ctry_year[Argentina.1950-1969,igdp_log]  -0.23644627\n",
       "r_ctry_year[Argentina.1970-1989,igdp_log]  -0.94058347\n",
       "r_ctry_year[Argentina.1990,igdp_log]        0.09051524"
      ]
     },
     "metadata": {},
     "output_type": "display_data"
    }
   ],
   "source": [
    "coeffs"
   ]
  },
  {
   "cell_type": "code",
   "execution_count": 143,
   "metadata": {},
   "outputs": [
    {
     "data": {
      "text/html": [
       "0.858281355225579"
      ],
      "text/latex": [
       "0.858281355225579"
      ],
      "text/markdown": [
       "0.858281355225579"
      ],
      "text/plain": [
       "[1] 0.8582814\n",
       "attr(,\"scaled:center\")\n",
       "[1] 7.910903"
      ]
     },
     "metadata": {},
     "output_type": "display_data"
    }
   ],
   "source": [
    "test[ctry=='Argentina' & year==1990, igdp_log]"
   ]
  },
  {
   "cell_type": "code",
   "execution_count": 135,
   "metadata": {},
   "outputs": [
    {
     "data": {
      "text/html": [
       "0.603631810619875"
      ],
      "text/latex": [
       "0.603631810619875"
      ],
      "text/markdown": [
       "0.603631810619875"
      ],
      "text/plain": [
       "[1] 0.6036318\n",
       "attr(,\"scaled:center\")\n",
       "[1] 7.910903"
      ]
     },
     "metadata": {},
     "output_type": "display_data"
    },
    {
     "data": {
      "text/html": [
       "76.1354454040527"
      ],
      "text/latex": [
       "76.1354454040527"
      ],
      "text/markdown": [
       "76.1354454040527"
      ],
      "text/plain": [
       "[1] 76.13545"
      ]
     },
     "metadata": {},
     "output_type": "display_data"
    }
   ],
   "source": [
    "(log_gpd_argentina_1950 = test[ctry=='Argentina' & year==1950, igdp_log])\n",
    "(max_value = test[ctry=='Argentina' & year==1950, max_le])"
   ]
  },
  {
   "cell_type": "code",
   "execution_count": 136,
   "metadata": {},
   "outputs": [
    {
     "data": {
      "text/html": [
       "0.77628367421052"
      ],
      "text/latex": [
       "0.77628367421052"
      ],
      "text/markdown": [
       "0.77628367421052"
      ],
      "text/plain": [
       "[1] 0.7762837\n",
       "attr(,\"scaled:center\")\n",
       "[1] 7.910903"
      ]
     },
     "metadata": {},
     "output_type": "display_data"
    }
   ],
   "source": [
    "(cf = coeffs[1] + coeffs[6] + log_gpd_argentina_1950 * (coeffs[2] + coeffs[10]))"
   ]
  },
  {
   "cell_type": "code",
   "execution_count": 137,
   "metadata": {},
   "outputs": [
    {
     "data": {
      "text/html": [
       "67.4718164638888"
      ],
      "text/latex": [
       "67.4718164638888"
      ],
      "text/markdown": [
       "67.4718164638888"
      ],
      "text/plain": [
       "[1] 67.47182\n",
       "attr(,\"scaled:center\")\n",
       "[1] 7.910903"
      ]
     },
     "metadata": {},
     "output_type": "display_data"
    }
   ],
   "source": [
    "# counterfactual\n",
    "(acf = get_orig_values_weibull(cf, max_value))"
   ]
  },
  {
   "cell_type": "code",
   "execution_count": 138,
   "metadata": {},
   "outputs": [
    {
     "data": {
      "text/html": [
       "46.4056053161621"
      ],
      "text/latex": [
       "46.4056053161621"
      ],
      "text/markdown": [
       "46.4056053161621"
      ],
      "text/plain": [
       "[1] 46.40561"
      ]
     },
     "metadata": {},
     "output_type": "display_data"
    }
   ],
   "source": [
    "# observed\n",
    "(obs = test[ctry=='Mexico' & year==1950, Ex])"
   ]
  },
  {
   "cell_type": "code",
   "execution_count": 139,
   "metadata": {},
   "outputs": [
    {
     "data": {
      "text/html": [
       "-21.0662111477267"
      ],
      "text/latex": [
       "-21.0662111477267"
      ],
      "text/markdown": [
       "-21.0662111477267"
      ],
      "text/plain": [
       "[1] -21.06621\n",
       "attr(,\"scaled:center\")\n",
       "[1] 7.910903"
      ]
     },
     "metadata": {},
     "output_type": "display_data"
    }
   ],
   "source": [
    "obs - acf"
   ]
  },
  {
   "cell_type": "code",
   "execution_count": 152,
   "metadata": {},
   "outputs": [
    {
     "data": {},
     "metadata": {},
     "output_type": "display_data"
    },
    {
     "data": {
      "image/png": "[encoded data removed]",
      "text/plain": [
       "plot without title"
      ]
     },
     "metadata": {},
     "output_type": "display_data"
    }
   ],
   "source": [
    "ggplot(test[ctry=='Argentina' & year>= 1990], aes(igdp_log, wy)) + geom_point() + geom_smooth(method='lm') + theme_minimal()"
   ]
  },
  {
   "cell_type": "code",
   "execution_count": 141,
   "metadata": {},
   "outputs": [
    {
     "name": "stdout",
     "output_type": "stream",
     "text": [
      "\n",
      "======================\n",
      "             Model 1  \n",
      "----------------------\n",
      "(Intercept)   0.23    \n",
      "             (0.18)   \n",
      "igdp_log      0.87 ***\n",
      "             (0.17)   \n",
      "----------------------\n",
      "R^2           0.60    \n",
      "Adj. R^2      0.57    \n",
      "Num. obs.    21       \n",
      "RMSE          0.09    \n",
      "======================\n",
      "*** p < 0.001, ** p < 0.01, * p < 0.05\n"
     ]
    }
   ],
   "source": [
    "print(screenreg(lm(wy ~ igdp_log, data = test[ctry=='Argentina' & year>= 1990])))"
   ]
  },
  {
   "cell_type": "code",
   "execution_count": 182,
   "metadata": {},
   "outputs": [
    {
     "name": "stderr",
     "output_type": "stream",
     "text": [
      "`geom_smooth()` using method = 'loess' and formula 'y ~ x'\n"
     ]
    },
    {
     "data": {},
     "metadata": {},
     "output_type": "display_data"
    },
    {
     "data": {
      "image/png": "[encoded data removed]",
      "text/plain": [
       "plot without title"
      ]
     },
     "metadata": {},
     "output_type": "display_data"
    }
   ],
   "source": [
    "ggplot(test[ctry=='Argentina'], aes(igdp_log, wy)) + geom_point() + geom_smooth() + theme_minimal() + \n",
    "    labs(title='Argentina')"
   ]
  },
  {
   "cell_type": "code",
   "execution_count": 155,
   "metadata": {},
   "outputs": [
    {
     "data": {},
     "metadata": {},
     "output_type": "display_data"
    },
    {
     "data": {
      "image/png": "[encoded data removed]",
      "text/plain": [
       "plot without title"
      ]
     },
     "metadata": {},
     "output_type": "display_data"
    }
   ],
   "source": [
    "ggplot(test[ctry=='Argentina'], aes(year, Ex)) + geom_point()  + theme_minimal() + \n",
    "    labs(title='Argentina >= 1990')"
   ]
  },
  {
   "cell_type": "code",
   "execution_count": 162,
   "metadata": {},
   "outputs": [
    {
     "data": {},
     "metadata": {},
     "output_type": "display_data"
    },
    {
     "data": {
      "image/png": "[encoded data removed]",
      "text/plain": [
       "plot without title"
      ]
     },
     "metadata": {},
     "output_type": "display_data"
    }
   ],
   "source": [
    "ggplot(test[ctry=='Argentina'], aes(year, igdp_log)) + geom_point()  + theme_minimal() + \n",
    "    labs(title='Argentina')"
   ]
  },
  {
   "cell_type": "code",
   "execution_count": null,
   "metadata": {},
   "outputs": [],
   "source": []
  }
 ],
 "metadata": {
  "kernelspec": {
   "display_name": "R",
   "language": "R",
   "name": "ir"
  },
  "language_info": {
   "codemirror_mode": "r",
   "file_extension": ".r",
   "mimetype": "text/x-r-source",
   "name": "R",
   "pygments_lexer": "r",
   "version": "3.5.0"
  },
  "toc-showcode": false,
  "toc-showmarkdowntxt": true
 },
 "nbformat": 4,
 "nbformat_minor": 2
}
